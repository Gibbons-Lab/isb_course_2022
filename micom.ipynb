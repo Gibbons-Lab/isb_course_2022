{
  "cells": [
    {
      "cell_type": "markdown",
      "metadata": {
        "id": "view-in-github",
        "colab_type": "text"
      },
      "source": [
        "<a href=\"https://colab.research.google.com/github/Gibbons-Lab/isb_course_2022/blob/main/micom.ipynb\" target=\"_parent\"><img src=\"https://colab.research.google.com/assets/colab-badge.svg\" alt=\"Open In Colab\"/></a>"
      ]
    },
    {
      "cell_type": "markdown",
      "metadata": {
        "id": "C0vqP4LJ9y6K"
      },
      "source": [
        "# 🧫🦠 Modeling microbiota-wide metabolism with MICOM\n",
        "\n",
        "This notebook will accompany the second session of the 2022 ISB Microbiome Course. The presentation slides can be [found here](https://gibbons-lab.github.io/isb_course_2022/micom). \n",
        "\n",
        "You can save your own local copy of this notebook by using `File > Save a copy in Drive`. You may be promted to cetify the notebook is safe. We promise that it is 🤞\n",
        "\n",
        "**Disclaimer:**\n",
        "The linear and quadratic programming problems MICOM has to solve are very large and very complicated. There are some very good commercial solvers that are very expensive (even though they are often free for academic use). To make this tutorial as accessible as possible we will use the Open Source solver [OSQP](https://osqp.org/), which is installed along with MICOM. OSQP is amazing with quadratic programming problems (kudos!) but not as accurate for linear problems. Solvers usually only guarantee a solution within a certain numerical tolerance of the real solution. In order to make everything work with OSQP this tolerance has to be relaxed to about 10<sup>-3</sup>. This means that any result with an absolute value smaller than that might very well be zero so we should look at larger values only. Installing cost-free academic versions of commercial solvers like [IBM CPLEX](https://www.ibm.com/analytics/cplex-optimizer) or [Gurobi](https://www.gurobi.com/) would alow you to lower the tolerance to 10<sup>-6</sup>.\n",
        "\n"
      ]
    },
    {
      "cell_type": "markdown",
      "metadata": {
        "id": "qgBBl4GtuTuX"
      },
      "source": [
        "# 📝 Setup\n",
        "\n",
        "MICOM installation is is usually pretty straight-forward and can be as easy as typing `pip install micom` into your Terminal. \n",
        "\n",
        "First let's start by downloading the materials again and switching to the folder."
      ]
    },
    {
      "cell_type": "code",
      "execution_count": null,
      "metadata": {
        "id": "ckON4xr3_bW5",
        "colab": {
          "base_uri": "https://localhost:8080/"
        },
        "outputId": "699ecd3d-a36d-4731-8b8e-ad2279d4d126"
      },
      "outputs": [
        {
          "output_type": "stream",
          "name": "stdout",
          "text": [
            "Cloning into 'materials'...\n",
            "remote: Enumerating objects: 819, done.\u001b[K\n",
            "remote: Counting objects: 100% (8/8), done.\u001b[K\n",
            "remote: Compressing objects: 100% (8/8), done.\u001b[K\n",
            "remote: Total 819 (delta 0), reused 2 (delta 0), pack-reused 811\u001b[K\n",
            "Receiving objects: 100% (819/819), 246.65 MiB | 21.61 MiB/s, done.\n",
            "Resolving deltas: 100% (302/302), done.\n",
            "Checking out files: 100% (573/573), done.\n",
            "/content/materials\n"
          ]
        }
      ],
      "source": [
        "!git clone https://github.com/gibbons-lab/isb_course_2022 materials\n",
        "%cd materials"
      ]
    },
    {
      "cell_type": "markdown",
      "metadata": {
        "id": "is6fmBUeorwv"
      },
      "source": [
        "## Basic Installation\n",
        "\n",
        "Installing MICOM is straight-forward in Python. OSQP itself will be installed automatically along with it."
      ]
    },
    {
      "cell_type": "code",
      "execution_count": null,
      "metadata": {
        "id": "M_TeC5yrst3h",
        "colab": {
          "base_uri": "https://localhost:8080/"
        },
        "outputId": "f20da6fb-a579-413f-aa34-8cddb5efa42c"
      },
      "outputs": [
        {
          "output_type": "stream",
          "name": "stdout",
          "text": [
            "\u001b[K     |████████████████████████████████| 832 kB 10.2 MB/s \n",
            "\u001b[K     |████████████████████████████████| 37.5 MB 60 kB/s \n",
            "\u001b[K     |████████████████████████████████| 2.4 MB 51.5 MB/s \n",
            "\u001b[K     |████████████████████████████████| 2.3 MB 62.2 MB/s \n",
            "\u001b[K     |████████████████████████████████| 44 kB 130 kB/s \n",
            "\u001b[K     |████████████████████████████████| 7.3 MB 49.0 MB/s \n",
            "\u001b[K     |████████████████████████████████| 84 kB 3.3 MB/s \n",
            "\u001b[K     |████████████████████████████████| 147 kB 87.9 MB/s \n",
            "\u001b[K     |████████████████████████████████| 237 kB 89.1 MB/s \n",
            "\u001b[K     |████████████████████████████████| 109 kB 68.7 MB/s \n",
            "\u001b[K     |████████████████████████████████| 68 kB 6.6 MB/s \n",
            "\u001b[K     |████████████████████████████████| 80 kB 8.0 MB/s \n",
            "\u001b[K     |████████████████████████████████| 54 kB 3.2 MB/s \n",
            "\u001b[K     |████████████████████████████████| 51 kB 6.8 MB/s \n",
            "\u001b[K     |████████████████████████████████| 546 kB 78.9 MB/s \n",
            "\u001b[?25hDone! 🎉 \n"
          ]
        }
      ],
      "source": [
        "!pip install -q micom\n",
        "\n",
        "print(\"Done! 🎉 \")"
      ]
    },
    {
      "cell_type": "markdown",
      "metadata": {
        "id": "6oJrxxz6tV9T"
      },
      "source": [
        "## Enable QIIME 2 interactions\n",
        "\n",
        "Before we start, we also need to install packages to read the \"biom\" file format used by QIIME 2 to save tables. This is only necessary if you want to read QIIME 2 FeatureTable artifacts (like the ones we constructed yesterday)"
      ]
    },
    {
      "cell_type": "code",
      "execution_count": null,
      "metadata": {
        "id": "5rZX7SK_toLp",
        "colab": {
          "base_uri": "https://localhost:8080/"
        },
        "outputId": "aec3b524-d802-4788-9da3-1fc357a0c6e1"
      },
      "outputs": [
        {
          "output_type": "stream",
          "name": "stdout",
          "text": [
            "\u001b[K     |████████████████████████████████| 11.7 MB 13.2 MB/s \n",
            "\u001b[?25h  Installing build dependencies ... \u001b[?25l\u001b[?25hdone\n",
            "  Getting requirements to build wheel ... \u001b[?25l\u001b[?25hdone\n",
            "    Preparing wheel metadata ... \u001b[?25l\u001b[?25hdone\n",
            "  Building wheel for biom-format (PEP 517) ... \u001b[?25l\u001b[?25hdone\n",
            "Done! 🎉 \n"
          ]
        }
      ],
      "source": [
        "!pip install -q numpy Cython\n",
        "!pip install -q biom-format\n",
        "\n",
        "print(\"Done! 🎉 \")"
      ]
    },
    {
      "cell_type": "markdown",
      "metadata": {
        "id": "oPy1f-WLI0lZ"
      },
      "source": [
        "Okay, all done. So let's get started building some models 🦺🛠d😁.\n",
        "\n",
        "# 💻 MICOM\n",
        "\n",
        "We will use the Python interface to MICOM since it plays nicely with Colaboratory. However, you could run the same steps within the QIIME 2 MICOM plugin ([q2-micom](https://library.qiime2.org/plugins/q2-micom/26/)). \n",
        "\n",
        "Here is an overview of all the steps and functions across both interfaces:\n",
        "![micom overview](https://github.com/micom-dev/q2-micom/raw/706f583a060b91c12c0cec7acea2354fdd0dd320/docs/assets/overview.png)\n",
        "\n",
        "The process of building a metabolic model in MICOM begins with constructing a combined abundance/taxonomy table, referred to hereafter as a taxonomy table. Let's load a sample taxonomy table to see what it looks like: \n",
        "\n"
      ]
    },
    {
      "cell_type": "code",
      "execution_count": null,
      "metadata": {
        "id": "UV9SObSQkSZh",
        "colab": {
          "base_uri": "https://localhost:8080/",
          "height": 250
        },
        "outputId": "c7432a0b-6586-400b-ba01-93ee479fde0b"
      },
      "outputs": [
        {
          "output_type": "execute_result",
          "data": {
            "text/plain": [
              "                   id        genus             species  reactions  \\\n",
              "0  Escherichia_coli_1  Escherichia  Escherichia coli 0         95   \n",
              "1  Escherichia_coli_2  Escherichia  Escherichia coli 1         95   \n",
              "2  Escherichia_coli_3  Escherichia  Escherichia coli 2         95   \n",
              "3  Escherichia_coli_4  Escherichia  Escherichia coli 3         95   \n",
              "0  Escherichia_coli_1  Escherichia  Escherichia coli 0         95   \n",
              "\n",
              "   metabolites sample_id  abundance  \n",
              "0           72  sample_1        576  \n",
              "1           72  sample_1        671  \n",
              "2           72  sample_1        698  \n",
              "3           72  sample_1        197  \n",
              "0           72  sample_2        106  "
            ],
            "text/html": [
              "\n",
              "  <div id=\"df-0a58dd64-60d2-4520-b3bc-7e3a2d856a9e\">\n",
              "    <div class=\"colab-df-container\">\n",
              "      <div>\n",
              "<style scoped>\n",
              "    .dataframe tbody tr th:only-of-type {\n",
              "        vertical-align: middle;\n",
              "    }\n",
              "\n",
              "    .dataframe tbody tr th {\n",
              "        vertical-align: top;\n",
              "    }\n",
              "\n",
              "    .dataframe thead th {\n",
              "        text-align: right;\n",
              "    }\n",
              "</style>\n",
              "<table border=\"1\" class=\"dataframe\">\n",
              "  <thead>\n",
              "    <tr style=\"text-align: right;\">\n",
              "      <th></th>\n",
              "      <th>id</th>\n",
              "      <th>genus</th>\n",
              "      <th>species</th>\n",
              "      <th>reactions</th>\n",
              "      <th>metabolites</th>\n",
              "      <th>sample_id</th>\n",
              "      <th>abundance</th>\n",
              "    </tr>\n",
              "  </thead>\n",
              "  <tbody>\n",
              "    <tr>\n",
              "      <th>0</th>\n",
              "      <td>Escherichia_coli_1</td>\n",
              "      <td>Escherichia</td>\n",
              "      <td>Escherichia coli 0</td>\n",
              "      <td>95</td>\n",
              "      <td>72</td>\n",
              "      <td>sample_1</td>\n",
              "      <td>576</td>\n",
              "    </tr>\n",
              "    <tr>\n",
              "      <th>1</th>\n",
              "      <td>Escherichia_coli_2</td>\n",
              "      <td>Escherichia</td>\n",
              "      <td>Escherichia coli 1</td>\n",
              "      <td>95</td>\n",
              "      <td>72</td>\n",
              "      <td>sample_1</td>\n",
              "      <td>671</td>\n",
              "    </tr>\n",
              "    <tr>\n",
              "      <th>2</th>\n",
              "      <td>Escherichia_coli_3</td>\n",
              "      <td>Escherichia</td>\n",
              "      <td>Escherichia coli 2</td>\n",
              "      <td>95</td>\n",
              "      <td>72</td>\n",
              "      <td>sample_1</td>\n",
              "      <td>698</td>\n",
              "    </tr>\n",
              "    <tr>\n",
              "      <th>3</th>\n",
              "      <td>Escherichia_coli_4</td>\n",
              "      <td>Escherichia</td>\n",
              "      <td>Escherichia coli 3</td>\n",
              "      <td>95</td>\n",
              "      <td>72</td>\n",
              "      <td>sample_1</td>\n",
              "      <td>197</td>\n",
              "    </tr>\n",
              "    <tr>\n",
              "      <th>0</th>\n",
              "      <td>Escherichia_coli_1</td>\n",
              "      <td>Escherichia</td>\n",
              "      <td>Escherichia coli 0</td>\n",
              "      <td>95</td>\n",
              "      <td>72</td>\n",
              "      <td>sample_2</td>\n",
              "      <td>106</td>\n",
              "    </tr>\n",
              "  </tbody>\n",
              "</table>\n",
              "</div>\n",
              "      <button class=\"colab-df-convert\" onclick=\"convertToInteractive('df-0a58dd64-60d2-4520-b3bc-7e3a2d856a9e')\"\n",
              "              title=\"Convert this dataframe to an interactive table.\"\n",
              "              style=\"display:none;\">\n",
              "        \n",
              "  <svg xmlns=\"http://www.w3.org/2000/svg\" height=\"24px\"viewBox=\"0 0 24 24\"\n",
              "       width=\"24px\">\n",
              "    <path d=\"M0 0h24v24H0V0z\" fill=\"none\"/>\n",
              "    <path d=\"M18.56 5.44l.94 2.06.94-2.06 2.06-.94-2.06-.94-.94-2.06-.94 2.06-2.06.94zm-11 1L8.5 8.5l.94-2.06 2.06-.94-2.06-.94L8.5 2.5l-.94 2.06-2.06.94zm10 10l.94 2.06.94-2.06 2.06-.94-2.06-.94-.94-2.06-.94 2.06-2.06.94z\"/><path d=\"M17.41 7.96l-1.37-1.37c-.4-.4-.92-.59-1.43-.59-.52 0-1.04.2-1.43.59L10.3 9.45l-7.72 7.72c-.78.78-.78 2.05 0 2.83L4 21.41c.39.39.9.59 1.41.59.51 0 1.02-.2 1.41-.59l7.78-7.78 2.81-2.81c.8-.78.8-2.07 0-2.86zM5.41 20L4 18.59l7.72-7.72 1.47 1.35L5.41 20z\"/>\n",
              "  </svg>\n",
              "      </button>\n",
              "      \n",
              "  <style>\n",
              "    .colab-df-container {\n",
              "      display:flex;\n",
              "      flex-wrap:wrap;\n",
              "      gap: 12px;\n",
              "    }\n",
              "\n",
              "    .colab-df-convert {\n",
              "      background-color: #E8F0FE;\n",
              "      border: none;\n",
              "      border-radius: 50%;\n",
              "      cursor: pointer;\n",
              "      display: none;\n",
              "      fill: #1967D2;\n",
              "      height: 32px;\n",
              "      padding: 0 0 0 0;\n",
              "      width: 32px;\n",
              "    }\n",
              "\n",
              "    .colab-df-convert:hover {\n",
              "      background-color: #E2EBFA;\n",
              "      box-shadow: 0px 1px 2px rgba(60, 64, 67, 0.3), 0px 1px 3px 1px rgba(60, 64, 67, 0.15);\n",
              "      fill: #174EA6;\n",
              "    }\n",
              "\n",
              "    [theme=dark] .colab-df-convert {\n",
              "      background-color: #3B4455;\n",
              "      fill: #D2E3FC;\n",
              "    }\n",
              "\n",
              "    [theme=dark] .colab-df-convert:hover {\n",
              "      background-color: #434B5C;\n",
              "      box-shadow: 0px 1px 3px 1px rgba(0, 0, 0, 0.15);\n",
              "      filter: drop-shadow(0px 1px 2px rgba(0, 0, 0, 0.3));\n",
              "      fill: #FFFFFF;\n",
              "    }\n",
              "  </style>\n",
              "\n",
              "      <script>\n",
              "        const buttonEl =\n",
              "          document.querySelector('#df-0a58dd64-60d2-4520-b3bc-7e3a2d856a9e button.colab-df-convert');\n",
              "        buttonEl.style.display =\n",
              "          google.colab.kernel.accessAllowed ? 'block' : 'none';\n",
              "\n",
              "        async function convertToInteractive(key) {\n",
              "          const element = document.querySelector('#df-0a58dd64-60d2-4520-b3bc-7e3a2d856a9e');\n",
              "          const dataTable =\n",
              "            await google.colab.kernel.invokeFunction('convertToInteractive',\n",
              "                                                     [key], {});\n",
              "          if (!dataTable) return;\n",
              "\n",
              "          const docLinkHtml = 'Like what you see? Visit the ' +\n",
              "            '<a target=\"_blank\" href=https://colab.research.google.com/notebooks/data_table.ipynb>data table notebook</a>'\n",
              "            + ' to learn more about interactive tables.';\n",
              "          element.innerHTML = '';\n",
              "          dataTable['output_type'] = 'display_data';\n",
              "          await google.colab.output.renderOutput(dataTable, element);\n",
              "          const docLink = document.createElement('div');\n",
              "          docLink.innerHTML = docLinkHtml;\n",
              "          element.appendChild(docLink);\n",
              "        }\n",
              "      </script>\n",
              "    </div>\n",
              "  </div>\n",
              "  "
            ]
          },
          "metadata": {},
          "execution_count": 4
        }
      ],
      "source": [
        "from micom.data import test_data\n",
        "\n",
        "test_data().head()"
      ]
    },
    {
      "cell_type": "markdown",
      "metadata": {
        "id": "AEk7yfd1lbYp"
      },
      "source": [
        "In this taxonomy table, we see four identical strains of _E. coli_ (1 through 4), across two samples (sample_1 and sample_2). We can see that each row represents a single taxon in a single sample, and the `abundance` column identifies the abundance of that taxon in the sample. \n",
        "\n",
        "The `id` column specifies identifiers for the taxa and should be expressive and not include spaces or special characters. Since we are using a taxonomy database to build our models (more on that soon), we don't need a `file` column.\n",
        "\n",
        "You might notice that this dataframe looks very different from what we generated in yesterday's tutorial, where we ended up with separate QIIME 2 artifacts 😱 \n",
        "\n",
        "No worries, we can deal with that.\n",
        "\n",
        "## Importing data from QIIME 2\n",
        "\n",
        "MICOM can read QIIME 2 artifacts. You don't even need to have QIIME 2 installed for that! But before we do so, let's resolve one issue. We discussed that MICOM summarizes genome-scale models into pangenome-scale models as a first step, but our data are on the ASV level...so how will we know what to summarize?\n",
        "\n",
        "Basically, a specific model database can be used to quickly summarize pangenome-scale models for use within MICOM. So, before we read our data we have to decide which model database to use. We will go with the [AGORA database](https://pubmed.ncbi.nlm.nih.gov/27893703/), which is a curated database of more than 800 bacterial strains that commonly live in the human gut. In particular, we will use a version of this database summarized on the genus rank which can be downloaded from the [MICOM data repository](https://doi.org/10.5281/zenodo.3755182), which contains a whole lot of prebuilt databases. This database is available from the materials folder that we previously cloned. "
      ]
    },
    {
      "cell_type": "markdown",
      "metadata": {
        "id": "_57iya0D3L6-"
      },
      "source": [
        "Now we're all set to start building models! The data we previously collected can be found in the `treasure_chest` folder, so we can use those files to build our taxonomy for MICOM. "
      ]
    },
    {
      "cell_type": "code",
      "execution_count": null,
      "metadata": {
        "id": "o0vBAiiqqPLC"
      },
      "outputs": [],
      "source": [
        "from micom.taxonomy import qiime_to_micom\n",
        "\n",
        "tax = qiime_to_micom(\n",
        "    \"treasure_chest/dada2/table.qza\", \n",
        "    \"treasure_chest/taxa.qza\", \n",
        "    collapse_on=\"genus\"\n",
        ")"
      ]
    },
    {
      "cell_type": "markdown",
      "metadata": {
        "id": "-TQ6Zp7wouk4"
      },
      "source": [
        "Notice the `collapse_on` argument. That will specify the rank on which to sumarize and can be a list of several ranks. When matching taxonomy you can either match by the particular rank of interest (for example, just comparing genus names here), or you could compare the entire taxonomy, which will require all taxonomic ranks prior to the target rank to match. For that you cloud specify `collapse_on=[\"kingdom\", \"phylum\", \"class\", \"order\", \"family\", \"genus\"]`. \n",
        "\n",
        "Taxonomic names will often not match 100% between databases. For instance, the genus name \"Prevotella\" in one database may be \"Prevotella_6\" in another. The more ranks you use for matching the more likely you are to run into these issues. However, the more taxonomic ranks you use to match the more confident you can be that your observed taxon really is the same taxon as the one in the model database.\n",
        "\n",
        "The resulting table will contain the same abundances but it will include more ranks if `collapse_on` is a list. All ranks present in the taxonomy will be used when matching to the database. We will stick with the \"lax\" option of only matching on genus ranks.\n",
        "\n",
        "Let's now take a look at the taxonomy table we generated:"
      ]
    },
    {
      "cell_type": "code",
      "execution_count": null,
      "metadata": {
        "id": "2eS_g-ffNUAt",
        "colab": {
          "base_uri": "https://localhost:8080/",
          "height": 424
        },
        "outputId": "712ae41a-6217-4f73-f662-f225d8b5161b"
      },
      "outputs": [
        {
          "output_type": "execute_result",
          "data": {
            "text/plain": [
              "    sample_id  abundance           genus              id  relative\n",
              "0    chepang1     3697.0      Prevotella      Prevotella  0.483079\n",
              "1    chepang2     2888.0      Prevotella      Prevotella  0.329982\n",
              "2    chepang3     5779.0      Prevotella      Prevotella  0.693092\n",
              "3      hadza1      188.0      Prevotella      Prevotella  0.012034\n",
              "4      hadza2     4246.0      Prevotella      Prevotella  0.204439\n",
              "..        ...        ...             ...             ...       ...\n",
              "464   mephaa1        3.0         Gabonia         Gabonia  0.000234\n",
              "465    hadza2        2.0   Raoultibacter   Raoultibacter  0.000096\n",
              "466    hadza3        2.0   Cetobacterium   Cetobacterium  0.000096\n",
              "467    hadza3        2.0    Helicobacter    Helicobacter  0.000096\n",
              "468    hadza3        2.0  Steroidobacter  Steroidobacter  0.000096\n",
              "\n",
              "[460 rows x 5 columns]"
            ],
            "text/html": [
              "\n",
              "  <div id=\"df-53000d45-3460-49ef-9d91-7716823ed208\">\n",
              "    <div class=\"colab-df-container\">\n",
              "      <div>\n",
              "<style scoped>\n",
              "    .dataframe tbody tr th:only-of-type {\n",
              "        vertical-align: middle;\n",
              "    }\n",
              "\n",
              "    .dataframe tbody tr th {\n",
              "        vertical-align: top;\n",
              "    }\n",
              "\n",
              "    .dataframe thead th {\n",
              "        text-align: right;\n",
              "    }\n",
              "</style>\n",
              "<table border=\"1\" class=\"dataframe\">\n",
              "  <thead>\n",
              "    <tr style=\"text-align: right;\">\n",
              "      <th></th>\n",
              "      <th>sample_id</th>\n",
              "      <th>abundance</th>\n",
              "      <th>genus</th>\n",
              "      <th>id</th>\n",
              "      <th>relative</th>\n",
              "    </tr>\n",
              "  </thead>\n",
              "  <tbody>\n",
              "    <tr>\n",
              "      <th>0</th>\n",
              "      <td>chepang1</td>\n",
              "      <td>3697.0</td>\n",
              "      <td>Prevotella</td>\n",
              "      <td>Prevotella</td>\n",
              "      <td>0.483079</td>\n",
              "    </tr>\n",
              "    <tr>\n",
              "      <th>1</th>\n",
              "      <td>chepang2</td>\n",
              "      <td>2888.0</td>\n",
              "      <td>Prevotella</td>\n",
              "      <td>Prevotella</td>\n",
              "      <td>0.329982</td>\n",
              "    </tr>\n",
              "    <tr>\n",
              "      <th>2</th>\n",
              "      <td>chepang3</td>\n",
              "      <td>5779.0</td>\n",
              "      <td>Prevotella</td>\n",
              "      <td>Prevotella</td>\n",
              "      <td>0.693092</td>\n",
              "    </tr>\n",
              "    <tr>\n",
              "      <th>3</th>\n",
              "      <td>hadza1</td>\n",
              "      <td>188.0</td>\n",
              "      <td>Prevotella</td>\n",
              "      <td>Prevotella</td>\n",
              "      <td>0.012034</td>\n",
              "    </tr>\n",
              "    <tr>\n",
              "      <th>4</th>\n",
              "      <td>hadza2</td>\n",
              "      <td>4246.0</td>\n",
              "      <td>Prevotella</td>\n",
              "      <td>Prevotella</td>\n",
              "      <td>0.204439</td>\n",
              "    </tr>\n",
              "    <tr>\n",
              "      <th>...</th>\n",
              "      <td>...</td>\n",
              "      <td>...</td>\n",
              "      <td>...</td>\n",
              "      <td>...</td>\n",
              "      <td>...</td>\n",
              "    </tr>\n",
              "    <tr>\n",
              "      <th>464</th>\n",
              "      <td>mephaa1</td>\n",
              "      <td>3.0</td>\n",
              "      <td>Gabonia</td>\n",
              "      <td>Gabonia</td>\n",
              "      <td>0.000234</td>\n",
              "    </tr>\n",
              "    <tr>\n",
              "      <th>465</th>\n",
              "      <td>hadza2</td>\n",
              "      <td>2.0</td>\n",
              "      <td>Raoultibacter</td>\n",
              "      <td>Raoultibacter</td>\n",
              "      <td>0.000096</td>\n",
              "    </tr>\n",
              "    <tr>\n",
              "      <th>466</th>\n",
              "      <td>hadza3</td>\n",
              "      <td>2.0</td>\n",
              "      <td>Cetobacterium</td>\n",
              "      <td>Cetobacterium</td>\n",
              "      <td>0.000096</td>\n",
              "    </tr>\n",
              "    <tr>\n",
              "      <th>467</th>\n",
              "      <td>hadza3</td>\n",
              "      <td>2.0</td>\n",
              "      <td>Helicobacter</td>\n",
              "      <td>Helicobacter</td>\n",
              "      <td>0.000096</td>\n",
              "    </tr>\n",
              "    <tr>\n",
              "      <th>468</th>\n",
              "      <td>hadza3</td>\n",
              "      <td>2.0</td>\n",
              "      <td>Steroidobacter</td>\n",
              "      <td>Steroidobacter</td>\n",
              "      <td>0.000096</td>\n",
              "    </tr>\n",
              "  </tbody>\n",
              "</table>\n",
              "<p>460 rows × 5 columns</p>\n",
              "</div>\n",
              "      <button class=\"colab-df-convert\" onclick=\"convertToInteractive('df-53000d45-3460-49ef-9d91-7716823ed208')\"\n",
              "              title=\"Convert this dataframe to an interactive table.\"\n",
              "              style=\"display:none;\">\n",
              "        \n",
              "  <svg xmlns=\"http://www.w3.org/2000/svg\" height=\"24px\"viewBox=\"0 0 24 24\"\n",
              "       width=\"24px\">\n",
              "    <path d=\"M0 0h24v24H0V0z\" fill=\"none\"/>\n",
              "    <path d=\"M18.56 5.44l.94 2.06.94-2.06 2.06-.94-2.06-.94-.94-2.06-.94 2.06-2.06.94zm-11 1L8.5 8.5l.94-2.06 2.06-.94-2.06-.94L8.5 2.5l-.94 2.06-2.06.94zm10 10l.94 2.06.94-2.06 2.06-.94-2.06-.94-.94-2.06-.94 2.06-2.06.94z\"/><path d=\"M17.41 7.96l-1.37-1.37c-.4-.4-.92-.59-1.43-.59-.52 0-1.04.2-1.43.59L10.3 9.45l-7.72 7.72c-.78.78-.78 2.05 0 2.83L4 21.41c.39.39.9.59 1.41.59.51 0 1.02-.2 1.41-.59l7.78-7.78 2.81-2.81c.8-.78.8-2.07 0-2.86zM5.41 20L4 18.59l7.72-7.72 1.47 1.35L5.41 20z\"/>\n",
              "  </svg>\n",
              "      </button>\n",
              "      \n",
              "  <style>\n",
              "    .colab-df-container {\n",
              "      display:flex;\n",
              "      flex-wrap:wrap;\n",
              "      gap: 12px;\n",
              "    }\n",
              "\n",
              "    .colab-df-convert {\n",
              "      background-color: #E8F0FE;\n",
              "      border: none;\n",
              "      border-radius: 50%;\n",
              "      cursor: pointer;\n",
              "      display: none;\n",
              "      fill: #1967D2;\n",
              "      height: 32px;\n",
              "      padding: 0 0 0 0;\n",
              "      width: 32px;\n",
              "    }\n",
              "\n",
              "    .colab-df-convert:hover {\n",
              "      background-color: #E2EBFA;\n",
              "      box-shadow: 0px 1px 2px rgba(60, 64, 67, 0.3), 0px 1px 3px 1px rgba(60, 64, 67, 0.15);\n",
              "      fill: #174EA6;\n",
              "    }\n",
              "\n",
              "    [theme=dark] .colab-df-convert {\n",
              "      background-color: #3B4455;\n",
              "      fill: #D2E3FC;\n",
              "    }\n",
              "\n",
              "    [theme=dark] .colab-df-convert:hover {\n",
              "      background-color: #434B5C;\n",
              "      box-shadow: 0px 1px 3px 1px rgba(0, 0, 0, 0.15);\n",
              "      filter: drop-shadow(0px 1px 2px rgba(0, 0, 0, 0.3));\n",
              "      fill: #FFFFFF;\n",
              "    }\n",
              "  </style>\n",
              "\n",
              "      <script>\n",
              "        const buttonEl =\n",
              "          document.querySelector('#df-53000d45-3460-49ef-9d91-7716823ed208 button.colab-df-convert');\n",
              "        buttonEl.style.display =\n",
              "          google.colab.kernel.accessAllowed ? 'block' : 'none';\n",
              "\n",
              "        async function convertToInteractive(key) {\n",
              "          const element = document.querySelector('#df-53000d45-3460-49ef-9d91-7716823ed208');\n",
              "          const dataTable =\n",
              "            await google.colab.kernel.invokeFunction('convertToInteractive',\n",
              "                                                     [key], {});\n",
              "          if (!dataTable) return;\n",
              "\n",
              "          const docLinkHtml = 'Like what you see? Visit the ' +\n",
              "            '<a target=\"_blank\" href=https://colab.research.google.com/notebooks/data_table.ipynb>data table notebook</a>'\n",
              "            + ' to learn more about interactive tables.';\n",
              "          element.innerHTML = '';\n",
              "          dataTable['output_type'] = 'display_data';\n",
              "          await google.colab.output.renderOutput(dataTable, element);\n",
              "          const docLink = document.createElement('div');\n",
              "          docLink.innerHTML = docLinkHtml;\n",
              "          element.appendChild(docLink);\n",
              "        }\n",
              "      </script>\n",
              "    </div>\n",
              "  </div>\n",
              "  "
            ]
          },
          "metadata": {},
          "execution_count": 5
        }
      ],
      "source": [
        "tax"
      ]
    },
    {
      "cell_type": "markdown",
      "metadata": {
        "id": "R5zwLVFcNTbq"
      },
      "source": [
        "That looks more like the example! Again, we have a row for each taxon in each sample, so we're good to go. \n",
        "\n",
        "One helpful thing to do is to merge in our metadata, so we'll have it at hand for the following steps. In our case, the metadata will include the ethnic group, region, and subsistence type of each of the study participants. "
      ]
    },
    {
      "cell_type": "code",
      "execution_count": null,
      "metadata": {
        "id": "X9hqoO4go0h1",
        "colab": {
          "base_uri": "https://localhost:8080/",
          "height": 661
        },
        "outputId": "e4cca54d-9eeb-4855-8d0c-36e505a74119"
      },
      "outputs": [
        {
          "output_type": "execute_result",
          "data": {
            "text/plain": [
              "    sample_id  abundance               genus                  id  relative  \\\n",
              "0    chepang1     3697.0          Prevotella          Prevotella  0.483079   \n",
              "1    chepang1       51.0    Faecalibacterium    Faecalibacterium  0.006664   \n",
              "2    chepang1     2464.0       Succinivibrio       Succinivibrio  0.321965   \n",
              "3    chepang1       27.0       Oscillibacter       Oscillibacter  0.003528   \n",
              "4    chepang1      310.0  Prevotellamassilia  Prevotellamassilia  0.040507   \n",
              "..        ...        ...                 ...                 ...       ...   \n",
              "455   mephaa3       36.0        Fournierella        Fournierella  0.002661   \n",
              "456   mephaa3       11.0    Colidextribacter    Colidextribacter  0.000813   \n",
              "457   mephaa3       24.0           Weissella           Weissella  0.001774   \n",
              "458   mephaa3        9.0         Lactococcus         Lactococcus  0.000665   \n",
              "459   mephaa3       24.0        Anaerotignum        Anaerotignum  0.001774   \n",
              "\n",
              "    ethnic_group                 subsistence country  \\\n",
              "0        Chepang  slash and burn agriculture   Nepal   \n",
              "1        Chepang  slash and burn agriculture   Nepal   \n",
              "2        Chepang  slash and burn agriculture   Nepal   \n",
              "3        Chepang  slash and burn agriculture   Nepal   \n",
              "4        Chepang  slash and burn agriculture   Nepal   \n",
              "..           ...                         ...     ...   \n",
              "455      Me’Phaa  slash and burn agriculture  Mexico   \n",
              "456      Me’Phaa  slash and burn agriculture  Mexico   \n",
              "457      Me’Phaa  slash and burn agriculture  Mexico   \n",
              "458      Me’Phaa  slash and burn agriculture  Mexico   \n",
              "459      Me’Phaa  slash and burn agriculture  Mexico   \n",
              "\n",
              "                                           reference  \n",
              "0     https://doi.org/10.1371%2Fjournal.pbio.2005396  \n",
              "1     https://doi.org/10.1371%2Fjournal.pbio.2005396  \n",
              "2     https://doi.org/10.1371%2Fjournal.pbio.2005396  \n",
              "3     https://doi.org/10.1371%2Fjournal.pbio.2005396  \n",
              "4     https://doi.org/10.1371%2Fjournal.pbio.2005396  \n",
              "..                                               ...  \n",
              "455  https://doi.org/10.3390%2Fmicroorganisms8101594  \n",
              "456  https://doi.org/10.3390%2Fmicroorganisms8101594  \n",
              "457  https://doi.org/10.3390%2Fmicroorganisms8101594  \n",
              "458  https://doi.org/10.3390%2Fmicroorganisms8101594  \n",
              "459  https://doi.org/10.3390%2Fmicroorganisms8101594  \n",
              "\n",
              "[460 rows x 9 columns]"
            ],
            "text/html": [
              "\n",
              "  <div id=\"df-6a4a35e0-9c4f-4fca-adca-e3535a3b3b77\">\n",
              "    <div class=\"colab-df-container\">\n",
              "      <div>\n",
              "<style scoped>\n",
              "    .dataframe tbody tr th:only-of-type {\n",
              "        vertical-align: middle;\n",
              "    }\n",
              "\n",
              "    .dataframe tbody tr th {\n",
              "        vertical-align: top;\n",
              "    }\n",
              "\n",
              "    .dataframe thead th {\n",
              "        text-align: right;\n",
              "    }\n",
              "</style>\n",
              "<table border=\"1\" class=\"dataframe\">\n",
              "  <thead>\n",
              "    <tr style=\"text-align: right;\">\n",
              "      <th></th>\n",
              "      <th>sample_id</th>\n",
              "      <th>abundance</th>\n",
              "      <th>genus</th>\n",
              "      <th>id</th>\n",
              "      <th>relative</th>\n",
              "      <th>ethnic_group</th>\n",
              "      <th>subsistence</th>\n",
              "      <th>country</th>\n",
              "      <th>reference</th>\n",
              "    </tr>\n",
              "  </thead>\n",
              "  <tbody>\n",
              "    <tr>\n",
              "      <th>0</th>\n",
              "      <td>chepang1</td>\n",
              "      <td>3697.0</td>\n",
              "      <td>Prevotella</td>\n",
              "      <td>Prevotella</td>\n",
              "      <td>0.483079</td>\n",
              "      <td>Chepang</td>\n",
              "      <td>slash and burn agriculture</td>\n",
              "      <td>Nepal</td>\n",
              "      <td>https://doi.org/10.1371%2Fjournal.pbio.2005396</td>\n",
              "    </tr>\n",
              "    <tr>\n",
              "      <th>1</th>\n",
              "      <td>chepang1</td>\n",
              "      <td>51.0</td>\n",
              "      <td>Faecalibacterium</td>\n",
              "      <td>Faecalibacterium</td>\n",
              "      <td>0.006664</td>\n",
              "      <td>Chepang</td>\n",
              "      <td>slash and burn agriculture</td>\n",
              "      <td>Nepal</td>\n",
              "      <td>https://doi.org/10.1371%2Fjournal.pbio.2005396</td>\n",
              "    </tr>\n",
              "    <tr>\n",
              "      <th>2</th>\n",
              "      <td>chepang1</td>\n",
              "      <td>2464.0</td>\n",
              "      <td>Succinivibrio</td>\n",
              "      <td>Succinivibrio</td>\n",
              "      <td>0.321965</td>\n",
              "      <td>Chepang</td>\n",
              "      <td>slash and burn agriculture</td>\n",
              "      <td>Nepal</td>\n",
              "      <td>https://doi.org/10.1371%2Fjournal.pbio.2005396</td>\n",
              "    </tr>\n",
              "    <tr>\n",
              "      <th>3</th>\n",
              "      <td>chepang1</td>\n",
              "      <td>27.0</td>\n",
              "      <td>Oscillibacter</td>\n",
              "      <td>Oscillibacter</td>\n",
              "      <td>0.003528</td>\n",
              "      <td>Chepang</td>\n",
              "      <td>slash and burn agriculture</td>\n",
              "      <td>Nepal</td>\n",
              "      <td>https://doi.org/10.1371%2Fjournal.pbio.2005396</td>\n",
              "    </tr>\n",
              "    <tr>\n",
              "      <th>4</th>\n",
              "      <td>chepang1</td>\n",
              "      <td>310.0</td>\n",
              "      <td>Prevotellamassilia</td>\n",
              "      <td>Prevotellamassilia</td>\n",
              "      <td>0.040507</td>\n",
              "      <td>Chepang</td>\n",
              "      <td>slash and burn agriculture</td>\n",
              "      <td>Nepal</td>\n",
              "      <td>https://doi.org/10.1371%2Fjournal.pbio.2005396</td>\n",
              "    </tr>\n",
              "    <tr>\n",
              "      <th>...</th>\n",
              "      <td>...</td>\n",
              "      <td>...</td>\n",
              "      <td>...</td>\n",
              "      <td>...</td>\n",
              "      <td>...</td>\n",
              "      <td>...</td>\n",
              "      <td>...</td>\n",
              "      <td>...</td>\n",
              "      <td>...</td>\n",
              "    </tr>\n",
              "    <tr>\n",
              "      <th>455</th>\n",
              "      <td>mephaa3</td>\n",
              "      <td>36.0</td>\n",
              "      <td>Fournierella</td>\n",
              "      <td>Fournierella</td>\n",
              "      <td>0.002661</td>\n",
              "      <td>Me’Phaa</td>\n",
              "      <td>slash and burn agriculture</td>\n",
              "      <td>Mexico</td>\n",
              "      <td>https://doi.org/10.3390%2Fmicroorganisms8101594</td>\n",
              "    </tr>\n",
              "    <tr>\n",
              "      <th>456</th>\n",
              "      <td>mephaa3</td>\n",
              "      <td>11.0</td>\n",
              "      <td>Colidextribacter</td>\n",
              "      <td>Colidextribacter</td>\n",
              "      <td>0.000813</td>\n",
              "      <td>Me’Phaa</td>\n",
              "      <td>slash and burn agriculture</td>\n",
              "      <td>Mexico</td>\n",
              "      <td>https://doi.org/10.3390%2Fmicroorganisms8101594</td>\n",
              "    </tr>\n",
              "    <tr>\n",
              "      <th>457</th>\n",
              "      <td>mephaa3</td>\n",
              "      <td>24.0</td>\n",
              "      <td>Weissella</td>\n",
              "      <td>Weissella</td>\n",
              "      <td>0.001774</td>\n",
              "      <td>Me’Phaa</td>\n",
              "      <td>slash and burn agriculture</td>\n",
              "      <td>Mexico</td>\n",
              "      <td>https://doi.org/10.3390%2Fmicroorganisms8101594</td>\n",
              "    </tr>\n",
              "    <tr>\n",
              "      <th>458</th>\n",
              "      <td>mephaa3</td>\n",
              "      <td>9.0</td>\n",
              "      <td>Lactococcus</td>\n",
              "      <td>Lactococcus</td>\n",
              "      <td>0.000665</td>\n",
              "      <td>Me’Phaa</td>\n",
              "      <td>slash and burn agriculture</td>\n",
              "      <td>Mexico</td>\n",
              "      <td>https://doi.org/10.3390%2Fmicroorganisms8101594</td>\n",
              "    </tr>\n",
              "    <tr>\n",
              "      <th>459</th>\n",
              "      <td>mephaa3</td>\n",
              "      <td>24.0</td>\n",
              "      <td>Anaerotignum</td>\n",
              "      <td>Anaerotignum</td>\n",
              "      <td>0.001774</td>\n",
              "      <td>Me’Phaa</td>\n",
              "      <td>slash and burn agriculture</td>\n",
              "      <td>Mexico</td>\n",
              "      <td>https://doi.org/10.3390%2Fmicroorganisms8101594</td>\n",
              "    </tr>\n",
              "  </tbody>\n",
              "</table>\n",
              "<p>460 rows × 9 columns</p>\n",
              "</div>\n",
              "      <button class=\"colab-df-convert\" onclick=\"convertToInteractive('df-6a4a35e0-9c4f-4fca-adca-e3535a3b3b77')\"\n",
              "              title=\"Convert this dataframe to an interactive table.\"\n",
              "              style=\"display:none;\">\n",
              "        \n",
              "  <svg xmlns=\"http://www.w3.org/2000/svg\" height=\"24px\"viewBox=\"0 0 24 24\"\n",
              "       width=\"24px\">\n",
              "    <path d=\"M0 0h24v24H0V0z\" fill=\"none\"/>\n",
              "    <path d=\"M18.56 5.44l.94 2.06.94-2.06 2.06-.94-2.06-.94-.94-2.06-.94 2.06-2.06.94zm-11 1L8.5 8.5l.94-2.06 2.06-.94-2.06-.94L8.5 2.5l-.94 2.06-2.06.94zm10 10l.94 2.06.94-2.06 2.06-.94-2.06-.94-.94-2.06-.94 2.06-2.06.94z\"/><path d=\"M17.41 7.96l-1.37-1.37c-.4-.4-.92-.59-1.43-.59-.52 0-1.04.2-1.43.59L10.3 9.45l-7.72 7.72c-.78.78-.78 2.05 0 2.83L4 21.41c.39.39.9.59 1.41.59.51 0 1.02-.2 1.41-.59l7.78-7.78 2.81-2.81c.8-.78.8-2.07 0-2.86zM5.41 20L4 18.59l7.72-7.72 1.47 1.35L5.41 20z\"/>\n",
              "  </svg>\n",
              "      </button>\n",
              "      \n",
              "  <style>\n",
              "    .colab-df-container {\n",
              "      display:flex;\n",
              "      flex-wrap:wrap;\n",
              "      gap: 12px;\n",
              "    }\n",
              "\n",
              "    .colab-df-convert {\n",
              "      background-color: #E8F0FE;\n",
              "      border: none;\n",
              "      border-radius: 50%;\n",
              "      cursor: pointer;\n",
              "      display: none;\n",
              "      fill: #1967D2;\n",
              "      height: 32px;\n",
              "      padding: 0 0 0 0;\n",
              "      width: 32px;\n",
              "    }\n",
              "\n",
              "    .colab-df-convert:hover {\n",
              "      background-color: #E2EBFA;\n",
              "      box-shadow: 0px 1px 2px rgba(60, 64, 67, 0.3), 0px 1px 3px 1px rgba(60, 64, 67, 0.15);\n",
              "      fill: #174EA6;\n",
              "    }\n",
              "\n",
              "    [theme=dark] .colab-df-convert {\n",
              "      background-color: #3B4455;\n",
              "      fill: #D2E3FC;\n",
              "    }\n",
              "\n",
              "    [theme=dark] .colab-df-convert:hover {\n",
              "      background-color: #434B5C;\n",
              "      box-shadow: 0px 1px 3px 1px rgba(0, 0, 0, 0.15);\n",
              "      filter: drop-shadow(0px 1px 2px rgba(0, 0, 0, 0.3));\n",
              "      fill: #FFFFFF;\n",
              "    }\n",
              "  </style>\n",
              "\n",
              "      <script>\n",
              "        const buttonEl =\n",
              "          document.querySelector('#df-6a4a35e0-9c4f-4fca-adca-e3535a3b3b77 button.colab-df-convert');\n",
              "        buttonEl.style.display =\n",
              "          google.colab.kernel.accessAllowed ? 'block' : 'none';\n",
              "\n",
              "        async function convertToInteractive(key) {\n",
              "          const element = document.querySelector('#df-6a4a35e0-9c4f-4fca-adca-e3535a3b3b77');\n",
              "          const dataTable =\n",
              "            await google.colab.kernel.invokeFunction('convertToInteractive',\n",
              "                                                     [key], {});\n",
              "          if (!dataTable) return;\n",
              "\n",
              "          const docLinkHtml = 'Like what you see? Visit the ' +\n",
              "            '<a target=\"_blank\" href=https://colab.research.google.com/notebooks/data_table.ipynb>data table notebook</a>'\n",
              "            + ' to learn more about interactive tables.';\n",
              "          element.innerHTML = '';\n",
              "          dataTable['output_type'] = 'display_data';\n",
              "          await google.colab.output.renderOutput(dataTable, element);\n",
              "          const docLink = document.createElement('div');\n",
              "          docLink.innerHTML = docLinkHtml;\n",
              "          element.appendChild(docLink);\n",
              "        }\n",
              "      </script>\n",
              "    </div>\n",
              "  </div>\n",
              "  "
            ]
          },
          "metadata": {},
          "execution_count": 6
        }
      ],
      "source": [
        "import pandas as pd\n",
        "\n",
        "metadata = pd.read_table(\"data/metadata.tsv\").rename(columns={\"id\": \"sample_id\"})\n",
        "tax = pd.merge(tax, metadata, on=\"sample_id\")\n",
        "tax"
      ]
    },
    {
      "cell_type": "markdown",
      "metadata": {
        "id": "RTbYBR8cJfup"
      },
      "source": [
        "With our taxonmy table ready to go, and our metadata merged, its finally time to get to the model building! 🎉\n",
        "\n",
        "## Building community models\n",
        "\n",
        "With the data we have now, building our models is pretty easy. We just pass our taxonomy table and model database to MICOM. We will remove all taxa that make up less than 1% of the community to keep the models small and speed up this tutorial. We will also have to specify where to write the models. For simplicity, we'll run this process in parallel over two threads. It should take around 10 minutes to finish."
      ]
    },
    {
      "cell_type": "code",
      "source": [
        "from micom.workflows import build\n",
        "from micom import Community\n",
        "import pandas as pd\n",
        "\n",
        "manifest = build(tax, \"agora103_genus.qza\", \"models\", solver=\"osqp\", \n",
        "                 cutoff=0.01, threads=2)"
      ],
      "metadata": {
        "id": "kDbSN71SmCZr",
        "colab": {
          "base_uri": "https://localhost:8080/",
          "height": 71,
          "referenced_widgets": [
            "10aeb016d4c846bda6a94f07b81ff16c",
            "b62e93f4bdd345558632c14bde42a450"
          ]
        },
        "outputId": "a828bfa4-7121-4b41-ee6f-8a38c9848f8e"
      },
      "execution_count": null,
      "outputs": [
        {
          "output_type": "display_data",
          "data": {
            "text/plain": [
              "Output()"
            ],
            "application/vnd.jupyter.widget-view+json": {
              "version_major": 2,
              "version_minor": 0,
              "model_id": "10aeb016d4c846bda6a94f07b81ff16c"
            }
          },
          "metadata": {}
        },
        {
          "output_type": "stream",
          "name": "stderr",
          "text": [
            "WARNING:micom.logger:Less than 50% of the abundance could be matched to the model database. Model `hadza3` may not be representative of the sample\n"
          ]
        },
        {
          "output_type": "display_data",
          "data": {
            "text/plain": [],
            "text/html": [
              "<pre style=\"white-space:pre;overflow-x:auto;line-height:normal;font-family:Menlo,'DejaVu Sans Mono',consolas,'Courier New',monospace\"></pre>\n"
            ]
          },
          "metadata": {}
        },
        {
          "output_type": "display_data",
          "data": {
            "text/plain": [
              "\n"
            ],
            "text/html": [
              "<pre style=\"white-space:pre;overflow-x:auto;line-height:normal;font-family:Menlo,'DejaVu Sans Mono',consolas,'Courier New',monospace\">\n",
              "</pre>\n"
            ]
          },
          "metadata": {}
        }
      ]
    },
    {
      "cell_type": "markdown",
      "metadata": {
        "id": "Kwya6vbZZSUo"
      },
      "source": [
        "You'll see a warning pop up indicating that less than 50% of the abundances can be matched to the database for one of the samples. This can happen with some data, and may indicate the models may not be completely representative of the samples.Typically a fraction of 80% or more is considered great. We'll continue, but remember to keep an eye out for this in future projects!\n",
        "\n",
        "In lower-biomass 16S amplicon sequencing samples from stool, many reads can match to food components or to host mitochondria and these hits probably do not contribute much to bacterial community metabolism. These hits will be excluded from MICOM. \n",
        "\n",
        "Let's take a look what we got back from the `build` process."
      ]
    },
    {
      "cell_type": "code",
      "execution_count": null,
      "metadata": {
        "id": "r9qwglr88Ise",
        "colab": {
          "base_uri": "https://localhost:8080/",
          "height": 552
        },
        "outputId": "f5692045-7d6b-4f75-f91c-26405b3697d5"
      },
      "outputs": [
        {
          "output_type": "execute_result",
          "data": {
            "text/plain": [
              "  sample_id ethnic_group                 subsistence   country  \\\n",
              "0  chepang1      Chepang  slash and burn agriculture     Nepal   \n",
              "1  chepang2      Chepang  slash and burn agriculture     Nepal   \n",
              "2  chepang3      Chepang  slash and burn agriculture     Nepal   \n",
              "3    hadza1        Hadza             Hunter-gatherer  Tanzania   \n",
              "4    hadza2        Hadza             Hunter-gatherer  Tanzania   \n",
              "5    hadza3        Hadza             Hunter-gatherer  Tanzania   \n",
              "6   mephaa1      Me’Phaa  slash and burn agriculture    Mexico   \n",
              "7   mephaa2      Me’Phaa  slash and burn agriculture    Mexico   \n",
              "8   mephaa3      Me’Phaa  slash and burn agriculture    Mexico   \n",
              "\n",
              "                                         reference             file  \\\n",
              "0   https://doi.org/10.1371%2Fjournal.pbio.2005396  chepang1.pickle   \n",
              "1   https://doi.org/10.1371%2Fjournal.pbio.2005397  chepang2.pickle   \n",
              "2   https://doi.org/10.1371%2Fjournal.pbio.2005398  chepang3.pickle   \n",
              "3          https://doi.org/10.1126/science.aan4834    hadza1.pickle   \n",
              "4          https://doi.org/10.1126/science.aan4835    hadza2.pickle   \n",
              "5          https://doi.org/10.1126/science.aan4836    hadza3.pickle   \n",
              "6  https://doi.org/10.3390%2Fmicroorganisms8101592   mephaa1.pickle   \n",
              "7  https://doi.org/10.3390%2Fmicroorganisms8101593   mephaa2.pickle   \n",
              "8  https://doi.org/10.3390%2Fmicroorganisms8101594   mephaa3.pickle   \n",
              "\n",
              "   found_taxa  total_taxa  found_fraction  found_abundance_fraction  \n",
              "0         4.0         5.0        0.800000                  0.841369  \n",
              "1         4.0         8.0        0.500000                  0.565356  \n",
              "2         8.0         9.0        0.888889                  0.916767  \n",
              "3         9.0        15.0        0.600000                  0.530534  \n",
              "4        16.0        19.0        0.842105                  0.854928  \n",
              "5        11.0        16.0        0.687500                  0.458787  \n",
              "6        11.0        18.0        0.611111                  0.726720  \n",
              "7         7.0         8.0        0.875000                  0.795362  \n",
              "8         7.0         8.0        0.875000                  0.797945  "
            ],
            "text/html": [
              "\n",
              "  <div id=\"df-a2cc48cf-d306-4d5e-bdd8-99ae061ee583\">\n",
              "    <div class=\"colab-df-container\">\n",
              "      <div>\n",
              "<style scoped>\n",
              "    .dataframe tbody tr th:only-of-type {\n",
              "        vertical-align: middle;\n",
              "    }\n",
              "\n",
              "    .dataframe tbody tr th {\n",
              "        vertical-align: top;\n",
              "    }\n",
              "\n",
              "    .dataframe thead th {\n",
              "        text-align: right;\n",
              "    }\n",
              "</style>\n",
              "<table border=\"1\" class=\"dataframe\">\n",
              "  <thead>\n",
              "    <tr style=\"text-align: right;\">\n",
              "      <th></th>\n",
              "      <th>sample_id</th>\n",
              "      <th>ethnic_group</th>\n",
              "      <th>subsistence</th>\n",
              "      <th>country</th>\n",
              "      <th>reference</th>\n",
              "      <th>file</th>\n",
              "      <th>found_taxa</th>\n",
              "      <th>total_taxa</th>\n",
              "      <th>found_fraction</th>\n",
              "      <th>found_abundance_fraction</th>\n",
              "    </tr>\n",
              "  </thead>\n",
              "  <tbody>\n",
              "    <tr>\n",
              "      <th>0</th>\n",
              "      <td>chepang1</td>\n",
              "      <td>Chepang</td>\n",
              "      <td>slash and burn agriculture</td>\n",
              "      <td>Nepal</td>\n",
              "      <td>https://doi.org/10.1371%2Fjournal.pbio.2005396</td>\n",
              "      <td>chepang1.pickle</td>\n",
              "      <td>4.0</td>\n",
              "      <td>5.0</td>\n",
              "      <td>0.800000</td>\n",
              "      <td>0.841369</td>\n",
              "    </tr>\n",
              "    <tr>\n",
              "      <th>1</th>\n",
              "      <td>chepang2</td>\n",
              "      <td>Chepang</td>\n",
              "      <td>slash and burn agriculture</td>\n",
              "      <td>Nepal</td>\n",
              "      <td>https://doi.org/10.1371%2Fjournal.pbio.2005397</td>\n",
              "      <td>chepang2.pickle</td>\n",
              "      <td>4.0</td>\n",
              "      <td>8.0</td>\n",
              "      <td>0.500000</td>\n",
              "      <td>0.565356</td>\n",
              "    </tr>\n",
              "    <tr>\n",
              "      <th>2</th>\n",
              "      <td>chepang3</td>\n",
              "      <td>Chepang</td>\n",
              "      <td>slash and burn agriculture</td>\n",
              "      <td>Nepal</td>\n",
              "      <td>https://doi.org/10.1371%2Fjournal.pbio.2005398</td>\n",
              "      <td>chepang3.pickle</td>\n",
              "      <td>8.0</td>\n",
              "      <td>9.0</td>\n",
              "      <td>0.888889</td>\n",
              "      <td>0.916767</td>\n",
              "    </tr>\n",
              "    <tr>\n",
              "      <th>3</th>\n",
              "      <td>hadza1</td>\n",
              "      <td>Hadza</td>\n",
              "      <td>Hunter-gatherer</td>\n",
              "      <td>Tanzania</td>\n",
              "      <td>https://doi.org/10.1126/science.aan4834</td>\n",
              "      <td>hadza1.pickle</td>\n",
              "      <td>9.0</td>\n",
              "      <td>15.0</td>\n",
              "      <td>0.600000</td>\n",
              "      <td>0.530534</td>\n",
              "    </tr>\n",
              "    <tr>\n",
              "      <th>4</th>\n",
              "      <td>hadza2</td>\n",
              "      <td>Hadza</td>\n",
              "      <td>Hunter-gatherer</td>\n",
              "      <td>Tanzania</td>\n",
              "      <td>https://doi.org/10.1126/science.aan4835</td>\n",
              "      <td>hadza2.pickle</td>\n",
              "      <td>16.0</td>\n",
              "      <td>19.0</td>\n",
              "      <td>0.842105</td>\n",
              "      <td>0.854928</td>\n",
              "    </tr>\n",
              "    <tr>\n",
              "      <th>5</th>\n",
              "      <td>hadza3</td>\n",
              "      <td>Hadza</td>\n",
              "      <td>Hunter-gatherer</td>\n",
              "      <td>Tanzania</td>\n",
              "      <td>https://doi.org/10.1126/science.aan4836</td>\n",
              "      <td>hadza3.pickle</td>\n",
              "      <td>11.0</td>\n",
              "      <td>16.0</td>\n",
              "      <td>0.687500</td>\n",
              "      <td>0.458787</td>\n",
              "    </tr>\n",
              "    <tr>\n",
              "      <th>6</th>\n",
              "      <td>mephaa1</td>\n",
              "      <td>Me’Phaa</td>\n",
              "      <td>slash and burn agriculture</td>\n",
              "      <td>Mexico</td>\n",
              "      <td>https://doi.org/10.3390%2Fmicroorganisms8101592</td>\n",
              "      <td>mephaa1.pickle</td>\n",
              "      <td>11.0</td>\n",
              "      <td>18.0</td>\n",
              "      <td>0.611111</td>\n",
              "      <td>0.726720</td>\n",
              "    </tr>\n",
              "    <tr>\n",
              "      <th>7</th>\n",
              "      <td>mephaa2</td>\n",
              "      <td>Me’Phaa</td>\n",
              "      <td>slash and burn agriculture</td>\n",
              "      <td>Mexico</td>\n",
              "      <td>https://doi.org/10.3390%2Fmicroorganisms8101593</td>\n",
              "      <td>mephaa2.pickle</td>\n",
              "      <td>7.0</td>\n",
              "      <td>8.0</td>\n",
              "      <td>0.875000</td>\n",
              "      <td>0.795362</td>\n",
              "    </tr>\n",
              "    <tr>\n",
              "      <th>8</th>\n",
              "      <td>mephaa3</td>\n",
              "      <td>Me’Phaa</td>\n",
              "      <td>slash and burn agriculture</td>\n",
              "      <td>Mexico</td>\n",
              "      <td>https://doi.org/10.3390%2Fmicroorganisms8101594</td>\n",
              "      <td>mephaa3.pickle</td>\n",
              "      <td>7.0</td>\n",
              "      <td>8.0</td>\n",
              "      <td>0.875000</td>\n",
              "      <td>0.797945</td>\n",
              "    </tr>\n",
              "  </tbody>\n",
              "</table>\n",
              "</div>\n",
              "      <button class=\"colab-df-convert\" onclick=\"convertToInteractive('df-a2cc48cf-d306-4d5e-bdd8-99ae061ee583')\"\n",
              "              title=\"Convert this dataframe to an interactive table.\"\n",
              "              style=\"display:none;\">\n",
              "        \n",
              "  <svg xmlns=\"http://www.w3.org/2000/svg\" height=\"24px\"viewBox=\"0 0 24 24\"\n",
              "       width=\"24px\">\n",
              "    <path d=\"M0 0h24v24H0V0z\" fill=\"none\"/>\n",
              "    <path d=\"M18.56 5.44l.94 2.06.94-2.06 2.06-.94-2.06-.94-.94-2.06-.94 2.06-2.06.94zm-11 1L8.5 8.5l.94-2.06 2.06-.94-2.06-.94L8.5 2.5l-.94 2.06-2.06.94zm10 10l.94 2.06.94-2.06 2.06-.94-2.06-.94-.94-2.06-.94 2.06-2.06.94z\"/><path d=\"M17.41 7.96l-1.37-1.37c-.4-.4-.92-.59-1.43-.59-.52 0-1.04.2-1.43.59L10.3 9.45l-7.72 7.72c-.78.78-.78 2.05 0 2.83L4 21.41c.39.39.9.59 1.41.59.51 0 1.02-.2 1.41-.59l7.78-7.78 2.81-2.81c.8-.78.8-2.07 0-2.86zM5.41 20L4 18.59l7.72-7.72 1.47 1.35L5.41 20z\"/>\n",
              "  </svg>\n",
              "      </button>\n",
              "      \n",
              "  <style>\n",
              "    .colab-df-container {\n",
              "      display:flex;\n",
              "      flex-wrap:wrap;\n",
              "      gap: 12px;\n",
              "    }\n",
              "\n",
              "    .colab-df-convert {\n",
              "      background-color: #E8F0FE;\n",
              "      border: none;\n",
              "      border-radius: 50%;\n",
              "      cursor: pointer;\n",
              "      display: none;\n",
              "      fill: #1967D2;\n",
              "      height: 32px;\n",
              "      padding: 0 0 0 0;\n",
              "      width: 32px;\n",
              "    }\n",
              "\n",
              "    .colab-df-convert:hover {\n",
              "      background-color: #E2EBFA;\n",
              "      box-shadow: 0px 1px 2px rgba(60, 64, 67, 0.3), 0px 1px 3px 1px rgba(60, 64, 67, 0.15);\n",
              "      fill: #174EA6;\n",
              "    }\n",
              "\n",
              "    [theme=dark] .colab-df-convert {\n",
              "      background-color: #3B4455;\n",
              "      fill: #D2E3FC;\n",
              "    }\n",
              "\n",
              "    [theme=dark] .colab-df-convert:hover {\n",
              "      background-color: #434B5C;\n",
              "      box-shadow: 0px 1px 3px 1px rgba(0, 0, 0, 0.15);\n",
              "      filter: drop-shadow(0px 1px 2px rgba(0, 0, 0, 0.3));\n",
              "      fill: #FFFFFF;\n",
              "    }\n",
              "  </style>\n",
              "\n",
              "      <script>\n",
              "        const buttonEl =\n",
              "          document.querySelector('#df-a2cc48cf-d306-4d5e-bdd8-99ae061ee583 button.colab-df-convert');\n",
              "        buttonEl.style.display =\n",
              "          google.colab.kernel.accessAllowed ? 'block' : 'none';\n",
              "\n",
              "        async function convertToInteractive(key) {\n",
              "          const element = document.querySelector('#df-a2cc48cf-d306-4d5e-bdd8-99ae061ee583');\n",
              "          const dataTable =\n",
              "            await google.colab.kernel.invokeFunction('convertToInteractive',\n",
              "                                                     [key], {});\n",
              "          if (!dataTable) return;\n",
              "\n",
              "          const docLinkHtml = 'Like what you see? Visit the ' +\n",
              "            '<a target=\"_blank\" href=https://colab.research.google.com/notebooks/data_table.ipynb>data table notebook</a>'\n",
              "            + ' to learn more about interactive tables.';\n",
              "          element.innerHTML = '';\n",
              "          dataTable['output_type'] = 'display_data';\n",
              "          await google.colab.output.renderOutput(dataTable, element);\n",
              "          const docLink = document.createElement('div');\n",
              "          docLink.innerHTML = docLinkHtml;\n",
              "          element.appendChild(docLink);\n",
              "        }\n",
              "      </script>\n",
              "    </div>\n",
              "  </div>\n",
              "  "
            ]
          },
          "metadata": {},
          "execution_count": 9
        }
      ],
      "source": [
        "manifest"
      ]
    },
    {
      "cell_type": "markdown",
      "metadata": {
        "id": "y4KAJkhIdspQ"
      },
      "source": [
        "This will tell you how many taxa were found in the database and what fraction of the total abundance was represented by the database. For most samples, this looks okay (i.e., >70% of abundance represented). \n",
        "\n",
        "So we now have our community models and can leverage MICOM fully by simulating community growth - let's discuss what we want to look at. \n",
        "\n",
        "### Comparative Metabolomics\n",
        "\n",
        "Now that our models are ready to go, let's think about some of the insights we might gain from these samples. First and foremost, we can investigate the metabolomic response of the gut microbiome in a set of individuals from different underrepresented populations - in these different groups, do the microbes fall into different niche spaces?\n",
        "\n",
        "Additionally, we can use MICOM to take a mechanistic look at how the microbiome of these individuals changes based on __dietary input__. That is, if we switch the diet of individuals from indigenous populations from a matched diet (i.e., a diet based on a typical meal eaten by an individual from that population) to an unmatched diet (e.g., the average Austrian diet), how does the metabolomic profile of the microbiome shift?\n",
        "\n",
        "All that and more, coming up. Stay tuned!"
      ]
    },
    {
      "cell_type": "markdown",
      "source": [
        "First, we'll download the matched diets for each of our communities that we constructed by hand. Since this is a .csv file, we can read it using pandas."
      ],
      "metadata": {
        "id": "ENR_ptvrTtp_"
      }
    },
    {
      "cell_type": "code",
      "source": [
        "matched_medium = pd.read_csv('data/per_sample_media.csv')"
      ],
      "metadata": {
        "id": "7099I-AuUE8J"
      },
      "execution_count": null,
      "outputs": []
    },
    {
      "cell_type": "markdown",
      "source": [
        "You'll notice that this dataframe is pretty long - that's because this medium is \"per-sample\", meaning each of the nine models has it's own medium represented in the file, dependent on the traditional food of the community they live in. "
      ],
      "metadata": {
        "id": "etrvjwBLkKdR"
      }
    },
    {
      "cell_type": "markdown",
      "metadata": {
        "id": "4s8R4WYUez4g"
      },
      "source": [
        "### Growing the models\n",
        "Great, now we have our media & our models, it's time to get growing. We'll grow each of the nine samples using the per-sample matched medium. This will take some time, so we'll use that time as an opportunity to discuss more in depth what these processes do, and what to look for in the results. First, let's run the `grow()` command using the matched medium. This will take the models we've built, and find an optimal solution to the fluxes based upon the medium that's been applied."
      ]
    },
    {
      "cell_type": "markdown",
      "metadata": {
        "id": "3WH8VVrVS4mv"
      },
      "source": [
        "If that takes too long or was aborted, we can read it in from the treasure chest."
      ]
    },
    {
      "cell_type": "code",
      "source": [
        "from micom.workflows import grow\n",
        "import pickle\n",
        "\n",
        "matched_growth = grow(manifest, \"models\", matched_medium, tradeoff=0.5, threads=2)\n",
        "\n",
        "# We'll save the results to a file\n",
        "pickle.dump(matched_growth, open(\"treasure_chest/matched_growth.pickle\", \"wb\"))"
      ],
      "metadata": {
        "id": "IjDguZEcWGjG",
        "colab": {
          "base_uri": "https://localhost:8080/",
          "height": 89,
          "referenced_widgets": [
            "e4a9211d1b2547549ffe5538825b5cf6",
            "caf95c0c2e8d4efaaf3f86aa45465fbc"
          ]
        },
        "outputId": "9bd34692-6506-4676-8110-ec6713e8de12"
      },
      "execution_count": null,
      "outputs": [
        {
          "output_type": "display_data",
          "data": {
            "text/plain": [
              "Output()"
            ],
            "application/vnd.jupyter.widget-view+json": {
              "version_major": 2,
              "version_minor": 0,
              "model_id": "e4a9211d1b2547549ffe5538825b5cf6"
            }
          },
          "metadata": {}
        },
        {
          "output_type": "display_data",
          "data": {
            "text/plain": [],
            "text/html": [
              "<pre style=\"white-space:pre;overflow-x:auto;line-height:normal;font-family:Menlo,'DejaVu Sans Mono',consolas,'Courier New',monospace\"></pre>\n"
            ]
          },
          "metadata": {}
        },
        {
          "output_type": "display_data",
          "data": {
            "text/plain": [
              "\n"
            ],
            "text/html": [
              "<pre style=\"white-space:pre;overflow-x:auto;line-height:normal;font-family:Menlo,'DejaVu Sans Mono',consolas,'Courier New',monospace\">\n",
              "</pre>\n"
            ]
          },
          "metadata": {}
        },
        {
          "output_type": "stream",
          "name": "stderr",
          "text": [
            "/usr/local/lib/python3.7/dist-packages/micom/workflows/grow.py:199: PerformanceWarning: DataFrame is highly fragmented.  This is usually the result of calling `frame.insert` many times, which has poor performance.  Consider joining all columns at once using pd.concat(axis=1) instead.  To get a de-fragmented frame, use `newframe = frame.copy()`\n",
            "  exchanges[\"taxon\"] = exchanges.index\n"
          ]
        }
      ]
    },
    {
      "cell_type": "markdown",
      "source": [
        "Again, if that takes too long or was aborted, we can read it in from the treasure chest."
      ],
      "metadata": {
        "id": "rHedHJxHWkjy"
      }
    },
    {
      "cell_type": "code",
      "source": [
        "# Will only run if the previous step failed\n",
        "\n",
        "import pickle\n",
        "\n",
        "try:\n",
        "  matched_growth\n",
        "except NameError:\n",
        "  matched_growth = pickle.load(open(\"treasure_chest/matched_growth.pickle\", \"rb\"))"
      ],
      "metadata": {
        "id": "rcPNBkDpWGrQ"
      },
      "execution_count": null,
      "outputs": []
    },
    {
      "cell_type": "markdown",
      "metadata": {
        "id": "69gq9QfAzqxq"
      },
      "source": [
        "What kind of results did we get? Well, `grow` returns a tuple of 3 data sets:\n",
        "\n",
        "1. The predicted growth rate for all taxa in all samples\n",
        "2. The import and export fluxes for each taxon and the external environment\n",
        "3. Annotations for the fluxes mapping to other databases\n",
        "\n",
        "### 📈 Growth Rates\n",
        "\n",
        "The growth rates are pretty straightforward."
      ]
    },
    {
      "cell_type": "code",
      "source": [
        "matched_growth.growth_rates"
      ],
      "metadata": {
        "id": "lIz36dSQWyO4",
        "colab": {
          "base_uri": "https://localhost:8080/",
          "height": 519
        },
        "outputId": "6ac7955f-bcdd-4fe6-ee05-ba809177f687"
      },
      "execution_count": null,
      "outputs": [
        {
          "output_type": "execute_result",
          "data": {
            "text/plain": [
              "                       abundance  growth_rate  reactions  metabolites  \\\n",
              "compartments                                                            \n",
              "Catenibacterium         0.025004     0.162352       1660         1266   \n",
              "Phascolarctobacterium   0.018171     0.075259       1019          945   \n",
              "Prevotella              0.574157     3.829634       2861         1722   \n",
              "Succinivibrio           0.382668     2.551436       1130         1051   \n",
              "Faecalibacterium        0.021625     0.168549       1986         1472   \n",
              "...                          ...          ...        ...          ...   \n",
              "Faecalibacterium        0.115217     1.193875       1986         1472   \n",
              "Prevotella              0.767806     7.965889       2861         1722   \n",
              "Roseburia               0.018802     0.194125       2357         1567   \n",
              "Streptococcus           0.017227     0.179079       2896         1822   \n",
              "Succinivibrio           0.034084     0.353378       1130         1051   \n",
              "\n",
              "                                       taxon  tradeoff sample_id  \n",
              "compartments                                                      \n",
              "Catenibacterium              Catenibacterium       0.5  chepang1  \n",
              "Phascolarctobacterium  Phascolarctobacterium       0.5  chepang1  \n",
              "Prevotella                        Prevotella       0.5  chepang1  \n",
              "Succinivibrio                  Succinivibrio       0.5  chepang1  \n",
              "Faecalibacterium            Faecalibacterium       0.5  chepang2  \n",
              "...                                      ...       ...       ...  \n",
              "Faecalibacterium            Faecalibacterium       0.5   mephaa3  \n",
              "Prevotella                        Prevotella       0.5   mephaa3  \n",
              "Roseburia                          Roseburia       0.5   mephaa3  \n",
              "Streptococcus                  Streptococcus       0.5   mephaa3  \n",
              "Succinivibrio                  Succinivibrio       0.5   mephaa3  \n",
              "\n",
              "[69 rows x 7 columns]"
            ],
            "text/html": [
              "\n",
              "  <div id=\"df-c11c31b5-4aa0-4d00-9cfd-825631443255\">\n",
              "    <div class=\"colab-df-container\">\n",
              "      <div>\n",
              "<style scoped>\n",
              "    .dataframe tbody tr th:only-of-type {\n",
              "        vertical-align: middle;\n",
              "    }\n",
              "\n",
              "    .dataframe tbody tr th {\n",
              "        vertical-align: top;\n",
              "    }\n",
              "\n",
              "    .dataframe thead th {\n",
              "        text-align: right;\n",
              "    }\n",
              "</style>\n",
              "<table border=\"1\" class=\"dataframe\">\n",
              "  <thead>\n",
              "    <tr style=\"text-align: right;\">\n",
              "      <th></th>\n",
              "      <th>abundance</th>\n",
              "      <th>growth_rate</th>\n",
              "      <th>reactions</th>\n",
              "      <th>metabolites</th>\n",
              "      <th>taxon</th>\n",
              "      <th>tradeoff</th>\n",
              "      <th>sample_id</th>\n",
              "    </tr>\n",
              "    <tr>\n",
              "      <th>compartments</th>\n",
              "      <th></th>\n",
              "      <th></th>\n",
              "      <th></th>\n",
              "      <th></th>\n",
              "      <th></th>\n",
              "      <th></th>\n",
              "      <th></th>\n",
              "    </tr>\n",
              "  </thead>\n",
              "  <tbody>\n",
              "    <tr>\n",
              "      <th>Catenibacterium</th>\n",
              "      <td>0.025004</td>\n",
              "      <td>0.162352</td>\n",
              "      <td>1660</td>\n",
              "      <td>1266</td>\n",
              "      <td>Catenibacterium</td>\n",
              "      <td>0.5</td>\n",
              "      <td>chepang1</td>\n",
              "    </tr>\n",
              "    <tr>\n",
              "      <th>Phascolarctobacterium</th>\n",
              "      <td>0.018171</td>\n",
              "      <td>0.075259</td>\n",
              "      <td>1019</td>\n",
              "      <td>945</td>\n",
              "      <td>Phascolarctobacterium</td>\n",
              "      <td>0.5</td>\n",
              "      <td>chepang1</td>\n",
              "    </tr>\n",
              "    <tr>\n",
              "      <th>Prevotella</th>\n",
              "      <td>0.574157</td>\n",
              "      <td>3.829634</td>\n",
              "      <td>2861</td>\n",
              "      <td>1722</td>\n",
              "      <td>Prevotella</td>\n",
              "      <td>0.5</td>\n",
              "      <td>chepang1</td>\n",
              "    </tr>\n",
              "    <tr>\n",
              "      <th>Succinivibrio</th>\n",
              "      <td>0.382668</td>\n",
              "      <td>2.551436</td>\n",
              "      <td>1130</td>\n",
              "      <td>1051</td>\n",
              "      <td>Succinivibrio</td>\n",
              "      <td>0.5</td>\n",
              "      <td>chepang1</td>\n",
              "    </tr>\n",
              "    <tr>\n",
              "      <th>Faecalibacterium</th>\n",
              "      <td>0.021625</td>\n",
              "      <td>0.168549</td>\n",
              "      <td>1986</td>\n",
              "      <td>1472</td>\n",
              "      <td>Faecalibacterium</td>\n",
              "      <td>0.5</td>\n",
              "      <td>chepang2</td>\n",
              "    </tr>\n",
              "    <tr>\n",
              "      <th>...</th>\n",
              "      <td>...</td>\n",
              "      <td>...</td>\n",
              "      <td>...</td>\n",
              "      <td>...</td>\n",
              "      <td>...</td>\n",
              "      <td>...</td>\n",
              "      <td>...</td>\n",
              "    </tr>\n",
              "    <tr>\n",
              "      <th>Faecalibacterium</th>\n",
              "      <td>0.115217</td>\n",
              "      <td>1.193875</td>\n",
              "      <td>1986</td>\n",
              "      <td>1472</td>\n",
              "      <td>Faecalibacterium</td>\n",
              "      <td>0.5</td>\n",
              "      <td>mephaa3</td>\n",
              "    </tr>\n",
              "    <tr>\n",
              "      <th>Prevotella</th>\n",
              "      <td>0.767806</td>\n",
              "      <td>7.965889</td>\n",
              "      <td>2861</td>\n",
              "      <td>1722</td>\n",
              "      <td>Prevotella</td>\n",
              "      <td>0.5</td>\n",
              "      <td>mephaa3</td>\n",
              "    </tr>\n",
              "    <tr>\n",
              "      <th>Roseburia</th>\n",
              "      <td>0.018802</td>\n",
              "      <td>0.194125</td>\n",
              "      <td>2357</td>\n",
              "      <td>1567</td>\n",
              "      <td>Roseburia</td>\n",
              "      <td>0.5</td>\n",
              "      <td>mephaa3</td>\n",
              "    </tr>\n",
              "    <tr>\n",
              "      <th>Streptococcus</th>\n",
              "      <td>0.017227</td>\n",
              "      <td>0.179079</td>\n",
              "      <td>2896</td>\n",
              "      <td>1822</td>\n",
              "      <td>Streptococcus</td>\n",
              "      <td>0.5</td>\n",
              "      <td>mephaa3</td>\n",
              "    </tr>\n",
              "    <tr>\n",
              "      <th>Succinivibrio</th>\n",
              "      <td>0.034084</td>\n",
              "      <td>0.353378</td>\n",
              "      <td>1130</td>\n",
              "      <td>1051</td>\n",
              "      <td>Succinivibrio</td>\n",
              "      <td>0.5</td>\n",
              "      <td>mephaa3</td>\n",
              "    </tr>\n",
              "  </tbody>\n",
              "</table>\n",
              "<p>69 rows × 7 columns</p>\n",
              "</div>\n",
              "      <button class=\"colab-df-convert\" onclick=\"convertToInteractive('df-c11c31b5-4aa0-4d00-9cfd-825631443255')\"\n",
              "              title=\"Convert this dataframe to an interactive table.\"\n",
              "              style=\"display:none;\">\n",
              "        \n",
              "  <svg xmlns=\"http://www.w3.org/2000/svg\" height=\"24px\"viewBox=\"0 0 24 24\"\n",
              "       width=\"24px\">\n",
              "    <path d=\"M0 0h24v24H0V0z\" fill=\"none\"/>\n",
              "    <path d=\"M18.56 5.44l.94 2.06.94-2.06 2.06-.94-2.06-.94-.94-2.06-.94 2.06-2.06.94zm-11 1L8.5 8.5l.94-2.06 2.06-.94-2.06-.94L8.5 2.5l-.94 2.06-2.06.94zm10 10l.94 2.06.94-2.06 2.06-.94-2.06-.94-.94-2.06-.94 2.06-2.06.94z\"/><path d=\"M17.41 7.96l-1.37-1.37c-.4-.4-.92-.59-1.43-.59-.52 0-1.04.2-1.43.59L10.3 9.45l-7.72 7.72c-.78.78-.78 2.05 0 2.83L4 21.41c.39.39.9.59 1.41.59.51 0 1.02-.2 1.41-.59l7.78-7.78 2.81-2.81c.8-.78.8-2.07 0-2.86zM5.41 20L4 18.59l7.72-7.72 1.47 1.35L5.41 20z\"/>\n",
              "  </svg>\n",
              "      </button>\n",
              "      \n",
              "  <style>\n",
              "    .colab-df-container {\n",
              "      display:flex;\n",
              "      flex-wrap:wrap;\n",
              "      gap: 12px;\n",
              "    }\n",
              "\n",
              "    .colab-df-convert {\n",
              "      background-color: #E8F0FE;\n",
              "      border: none;\n",
              "      border-radius: 50%;\n",
              "      cursor: pointer;\n",
              "      display: none;\n",
              "      fill: #1967D2;\n",
              "      height: 32px;\n",
              "      padding: 0 0 0 0;\n",
              "      width: 32px;\n",
              "    }\n",
              "\n",
              "    .colab-df-convert:hover {\n",
              "      background-color: #E2EBFA;\n",
              "      box-shadow: 0px 1px 2px rgba(60, 64, 67, 0.3), 0px 1px 3px 1px rgba(60, 64, 67, 0.15);\n",
              "      fill: #174EA6;\n",
              "    }\n",
              "\n",
              "    [theme=dark] .colab-df-convert {\n",
              "      background-color: #3B4455;\n",
              "      fill: #D2E3FC;\n",
              "    }\n",
              "\n",
              "    [theme=dark] .colab-df-convert:hover {\n",
              "      background-color: #434B5C;\n",
              "      box-shadow: 0px 1px 3px 1px rgba(0, 0, 0, 0.15);\n",
              "      filter: drop-shadow(0px 1px 2px rgba(0, 0, 0, 0.3));\n",
              "      fill: #FFFFFF;\n",
              "    }\n",
              "  </style>\n",
              "\n",
              "      <script>\n",
              "        const buttonEl =\n",
              "          document.querySelector('#df-c11c31b5-4aa0-4d00-9cfd-825631443255 button.colab-df-convert');\n",
              "        buttonEl.style.display =\n",
              "          google.colab.kernel.accessAllowed ? 'block' : 'none';\n",
              "\n",
              "        async function convertToInteractive(key) {\n",
              "          const element = document.querySelector('#df-c11c31b5-4aa0-4d00-9cfd-825631443255');\n",
              "          const dataTable =\n",
              "            await google.colab.kernel.invokeFunction('convertToInteractive',\n",
              "                                                     [key], {});\n",
              "          if (!dataTable) return;\n",
              "\n",
              "          const docLinkHtml = 'Like what you see? Visit the ' +\n",
              "            '<a target=\"_blank\" href=https://colab.research.google.com/notebooks/data_table.ipynb>data table notebook</a>'\n",
              "            + ' to learn more about interactive tables.';\n",
              "          element.innerHTML = '';\n",
              "          dataTable['output_type'] = 'display_data';\n",
              "          await google.colab.output.renderOutput(dataTable, element);\n",
              "          const docLink = document.createElement('div');\n",
              "          docLink.innerHTML = docLinkHtml;\n",
              "          element.appendChild(docLink);\n",
              "        }\n",
              "      </script>\n",
              "    </div>\n",
              "  </div>\n",
              "  "
            ]
          },
          "metadata": {},
          "execution_count": 21
        }
      ]
    },
    {
      "cell_type": "markdown",
      "metadata": {
        "id": "F5BK7DDv0UfA"
      },
      "source": [
        "### ↔️ Exchange Fluxes \n",
        "\n",
        "More interesting are the exchange fluxes. These reactions represent the import and export of metabolites from the system Let's look at those now:"
      ]
    },
    {
      "cell_type": "code",
      "execution_count": 1,
      "metadata": {
        "id": "lQW2BBS10jdN",
        "colab": {
          "base_uri": "https://localhost:8080/",
          "height": 170
        },
        "outputId": "bb8956cb-a09a-4253-98fc-bb337fa653b6"
      },
      "outputs": [
        {
          "output_type": "error",
          "ename": "NameError",
          "evalue": "ignored",
          "traceback": [
            "\u001b[0;31m---------------------------------------------------------------------------\u001b[0m",
            "\u001b[0;31mNameError\u001b[0m                                 Traceback (most recent call last)",
            "\u001b[0;32m<ipython-input-1-e020cad0ff1d>\u001b[0m in \u001b[0;36m<module>\u001b[0;34m\u001b[0m\n\u001b[0;32m----> 1\u001b[0;31m \u001b[0mmatched_growth\u001b[0m\u001b[0;34m.\u001b[0m\u001b[0mexchanges\u001b[0m\u001b[0;34m\u001b[0m\u001b[0;34m\u001b[0m\u001b[0m\n\u001b[0m",
            "\u001b[0;31mNameError\u001b[0m: name 'matched_growth' is not defined"
          ]
        }
      ],
      "source": [
        "matched_growth.exchanges"
      ]
    },
    {
      "cell_type": "markdown",
      "metadata": {
        "id": "Pu5XtkUl1YG1"
      },
      "source": [
        "So we see how much of each metabolite is either consumed or produced by each taxon in each sample. `tolerance` denotes the accuracy of the solver and tells you the smallest absolute flux that is likely different form zero (i.e., substantial flux). *All of the fluxes are normalized to 1g dry weight of bacteria*. So, you can directly compare fluxes between taxa, even if they are present at very different abundances. \n",
        "\n",
        "If you're curious what the abbreviation for each of these metabolites represents, that can be found in the annotations dataframe. For instance, let's find out what `\"but[e]\"` represents. "
      ]
    },
    {
      "cell_type": "code",
      "execution_count": null,
      "metadata": {
        "id": "DphXa9hw1yxM",
        "colab": {
          "base_uri": "https://localhost:8080/",
          "height": 228
        },
        "outputId": "52371da1-d96d-4f76-8e8f-5393c3685950"
      },
      "outputs": [
        {
          "output_type": "execute_result",
          "data": {
            "text/plain": [
              "          metabolite      name  molecular_weight  C_number  N_number  \\\n",
              "reaction                                                               \n",
              "EX_but(e)     but[e]  butyrate          87.09718         4         0   \n",
              "\n",
              "                hmdb                                              inchi  \\\n",
              "reaction                                                                  \n",
              "EX_but(e)  HMDB00039  InChI=1S/C4H8O2/c1-2-3-4(5)6/h2-3H2,1H3,(H,5,6...   \n",
              "\n",
              "          kegg.compound pubchem.compound   reaction  \n",
              "reaction                                             \n",
              "EX_but(e)        C00246              264  EX_but(e)  "
            ],
            "text/html": [
              "\n",
              "  <div id=\"df-887d9716-7bc4-4a36-b4e1-074c8eea21bf\">\n",
              "    <div class=\"colab-df-container\">\n",
              "      <div>\n",
              "<style scoped>\n",
              "    .dataframe tbody tr th:only-of-type {\n",
              "        vertical-align: middle;\n",
              "    }\n",
              "\n",
              "    .dataframe tbody tr th {\n",
              "        vertical-align: top;\n",
              "    }\n",
              "\n",
              "    .dataframe thead th {\n",
              "        text-align: right;\n",
              "    }\n",
              "</style>\n",
              "<table border=\"1\" class=\"dataframe\">\n",
              "  <thead>\n",
              "    <tr style=\"text-align: right;\">\n",
              "      <th></th>\n",
              "      <th>metabolite</th>\n",
              "      <th>name</th>\n",
              "      <th>molecular_weight</th>\n",
              "      <th>C_number</th>\n",
              "      <th>N_number</th>\n",
              "      <th>hmdb</th>\n",
              "      <th>inchi</th>\n",
              "      <th>kegg.compound</th>\n",
              "      <th>pubchem.compound</th>\n",
              "      <th>reaction</th>\n",
              "    </tr>\n",
              "    <tr>\n",
              "      <th>reaction</th>\n",
              "      <th></th>\n",
              "      <th></th>\n",
              "      <th></th>\n",
              "      <th></th>\n",
              "      <th></th>\n",
              "      <th></th>\n",
              "      <th></th>\n",
              "      <th></th>\n",
              "      <th></th>\n",
              "      <th></th>\n",
              "    </tr>\n",
              "  </thead>\n",
              "  <tbody>\n",
              "    <tr>\n",
              "      <th>EX_but(e)</th>\n",
              "      <td>but[e]</td>\n",
              "      <td>butyrate</td>\n",
              "      <td>87.09718</td>\n",
              "      <td>4</td>\n",
              "      <td>0</td>\n",
              "      <td>HMDB00039</td>\n",
              "      <td>InChI=1S/C4H8O2/c1-2-3-4(5)6/h2-3H2,1H3,(H,5,6...</td>\n",
              "      <td>C00246</td>\n",
              "      <td>264</td>\n",
              "      <td>EX_but(e)</td>\n",
              "    </tr>\n",
              "  </tbody>\n",
              "</table>\n",
              "</div>\n",
              "      <button class=\"colab-df-convert\" onclick=\"convertToInteractive('df-887d9716-7bc4-4a36-b4e1-074c8eea21bf')\"\n",
              "              title=\"Convert this dataframe to an interactive table.\"\n",
              "              style=\"display:none;\">\n",
              "        \n",
              "  <svg xmlns=\"http://www.w3.org/2000/svg\" height=\"24px\"viewBox=\"0 0 24 24\"\n",
              "       width=\"24px\">\n",
              "    <path d=\"M0 0h24v24H0V0z\" fill=\"none\"/>\n",
              "    <path d=\"M18.56 5.44l.94 2.06.94-2.06 2.06-.94-2.06-.94-.94-2.06-.94 2.06-2.06.94zm-11 1L8.5 8.5l.94-2.06 2.06-.94-2.06-.94L8.5 2.5l-.94 2.06-2.06.94zm10 10l.94 2.06.94-2.06 2.06-.94-2.06-.94-.94-2.06-.94 2.06-2.06.94z\"/><path d=\"M17.41 7.96l-1.37-1.37c-.4-.4-.92-.59-1.43-.59-.52 0-1.04.2-1.43.59L10.3 9.45l-7.72 7.72c-.78.78-.78 2.05 0 2.83L4 21.41c.39.39.9.59 1.41.59.51 0 1.02-.2 1.41-.59l7.78-7.78 2.81-2.81c.8-.78.8-2.07 0-2.86zM5.41 20L4 18.59l7.72-7.72 1.47 1.35L5.41 20z\"/>\n",
              "  </svg>\n",
              "      </button>\n",
              "      \n",
              "  <style>\n",
              "    .colab-df-container {\n",
              "      display:flex;\n",
              "      flex-wrap:wrap;\n",
              "      gap: 12px;\n",
              "    }\n",
              "\n",
              "    .colab-df-convert {\n",
              "      background-color: #E8F0FE;\n",
              "      border: none;\n",
              "      border-radius: 50%;\n",
              "      cursor: pointer;\n",
              "      display: none;\n",
              "      fill: #1967D2;\n",
              "      height: 32px;\n",
              "      padding: 0 0 0 0;\n",
              "      width: 32px;\n",
              "    }\n",
              "\n",
              "    .colab-df-convert:hover {\n",
              "      background-color: #E2EBFA;\n",
              "      box-shadow: 0px 1px 2px rgba(60, 64, 67, 0.3), 0px 1px 3px 1px rgba(60, 64, 67, 0.15);\n",
              "      fill: #174EA6;\n",
              "    }\n",
              "\n",
              "    [theme=dark] .colab-df-convert {\n",
              "      background-color: #3B4455;\n",
              "      fill: #D2E3FC;\n",
              "    }\n",
              "\n",
              "    [theme=dark] .colab-df-convert:hover {\n",
              "      background-color: #434B5C;\n",
              "      box-shadow: 0px 1px 3px 1px rgba(0, 0, 0, 0.15);\n",
              "      filter: drop-shadow(0px 1px 2px rgba(0, 0, 0, 0.3));\n",
              "      fill: #FFFFFF;\n",
              "    }\n",
              "  </style>\n",
              "\n",
              "      <script>\n",
              "        const buttonEl =\n",
              "          document.querySelector('#df-887d9716-7bc4-4a36-b4e1-074c8eea21bf button.colab-df-convert');\n",
              "        buttonEl.style.display =\n",
              "          google.colab.kernel.accessAllowed ? 'block' : 'none';\n",
              "\n",
              "        async function convertToInteractive(key) {\n",
              "          const element = document.querySelector('#df-887d9716-7bc4-4a36-b4e1-074c8eea21bf');\n",
              "          const dataTable =\n",
              "            await google.colab.kernel.invokeFunction('convertToInteractive',\n",
              "                                                     [key], {});\n",
              "          if (!dataTable) return;\n",
              "\n",
              "          const docLinkHtml = 'Like what you see? Visit the ' +\n",
              "            '<a target=\"_blank\" href=https://colab.research.google.com/notebooks/data_table.ipynb>data table notebook</a>'\n",
              "            + ' to learn more about interactive tables.';\n",
              "          element.innerHTML = '';\n",
              "          dataTable['output_type'] = 'display_data';\n",
              "          await google.colab.output.renderOutput(dataTable, element);\n",
              "          const docLink = document.createElement('div');\n",
              "          docLink.innerHTML = docLinkHtml;\n",
              "          element.appendChild(docLink);\n",
              "        }\n",
              "      </script>\n",
              "    </div>\n",
              "  </div>\n",
              "  "
            ]
          },
          "metadata": {},
          "execution_count": 24
        }
      ],
      "source": [
        "anns = unmatched_growth.annotations\n",
        "anns[anns.metabolite == \"but[e]\"]"
      ]
    },
    {
      "cell_type": "markdown",
      "source": [
        "Butyrate! Interesting, [that's an important metabolite](https://www.ncbi.nlm.nih.gov/pmc/articles/PMC8608412/)! All of these annotations and more information at are also available at https://vmh.life, maintained by Dr. Ines Thiele's lab. \n",
        "\n",
        "We want to compare these results from our matched medium against an unmatched medium, to illustrate how important it is to use the proper dietary inputs for the modeling process. Rather than repeat all the steps above, we can load in the results from the treasure chest. The following cell will load the growth results for the same models as above, but with an unmatched medium applied. In this case, the unmatched medium is an average Austrian diet. "
      ],
      "metadata": {
        "id": "GVHLD2dm4a6B"
      }
    },
    {
      "cell_type": "code",
      "source": [
        "try:\n",
        "  unmatched_growth\n",
        "except NameError:\n",
        "  unmatched_growth = pickle.load(open(\"treasure_chest/unmatched_growth.pickle\", \"rb\"))"
      ],
      "metadata": {
        "id": "I14SxizN45ya"
      },
      "execution_count": null,
      "outputs": []
    },
    {
      "cell_type": "markdown",
      "metadata": {
        "id": "CImtzqRJbbGj"
      },
      "source": [
        "\n",
        "# 📊 Visualizations\n",
        "\n",
        "Let's visualize our results. Because of the rich output of these models, it can be overwhelming to represent it all, but don't worry! There are tools in place for this already. \n",
        "\n",
        "We will use the standard visualizations included in MICOM. These tools take in the growth results we obtained before and create visualizations in standalone HTML files that bundle the plots and raw data and can be viewed directly in your browser.\n",
        "\n",
        "First, let's look at the growth rates of each taxon across samples. "
      ]
    },
    {
      "cell_type": "code",
      "execution_count": null,
      "metadata": {
        "id": "EaplMHFLcMT7"
      },
      "outputs": [],
      "source": [
        "from micom.viz import *\n",
        "\n",
        "viz_unmatched = plot_growth(unmatched_growth, filename=\"unmatched_growthrates.html\")\n",
        "viz_matched = plot_growth(matched_growth, filename=\"matched_growthrates.html\")"
      ]
    },
    {
      "cell_type": "markdown",
      "metadata": {
        "id": "G1JbbKrLcVye"
      },
      "source": [
        "Normally, we could call `viz.view()` afterwards and it would open it in our web browser. However, this will not work in Colab. However, the plot function creates the file `growth_rates_[DATE].html` in your `materials` folder. To open it, simply download that file and view it in your web browser. We can see that there are many things going on, but it's not super clear. Let's continue.\n",
        "\n",
        "## Growth niches\n",
        "\n",
        "Another thing we can look at is whether individual taxa inhabit different growth niches across different dietary contexts. Here we can use the `plot_exchanges_per_taxon` function to see how exchanges differ within and between taxa, within and across human populations. "
      ]
    },
    {
      "cell_type": "code",
      "execution_count": null,
      "metadata": {
        "id": "NlZrfv38esj8",
        "colab": {
          "base_uri": "https://localhost:8080/"
        },
        "outputId": "38ed6744-01b7-4278-a9d1-da26b1d738d3"
      },
      "outputs": [
        {
          "output_type": "stream",
          "name": "stderr",
          "text": [
            "/usr/local/lib/python3.7/dist-packages/sklearn/manifold/_t_sne.py:986: FutureWarning: The PCA initialization in TSNE will change to have the standard deviation of PC1 equal to 1e-4 in 1.2. This will ensure better convergence.\n",
            "  FutureWarning,\n",
            "/usr/local/lib/python3.7/dist-packages/sklearn/manifold/_t_sne.py:986: FutureWarning: The PCA initialization in TSNE will change to have the standard deviation of PC1 equal to 1e-4 in 1.2. This will ensure better convergence.\n",
            "  FutureWarning,\n"
          ]
        },
        {
          "output_type": "execute_result",
          "data": {
            "text/plain": [
              "<micom.viz.core.Visualization at 0x7ff08309b550>"
            ]
          },
          "metadata": {},
          "execution_count": 26
        }
      ],
      "source": [
        "plot_exchanges_per_taxon(unmatched_growth, perplexity=4, direction=\"import\", filename=\"unmatched_niche.html\")\n",
        "plot_exchanges_per_taxon(matched_growth, perplexity=4, direction=\"import\", filename=\"matched_niche.html\")"
      ]
    },
    {
      "cell_type": "markdown",
      "metadata": {
        "id": "qXnbUCCs2yVG"
      },
      "source": [
        "\n",
        "This function projects the full set of import or export fluxes onto a two dimensional plane, and arranges taxa so that more similar flux patterns lie nearer together. Taxa closer to one another compete for a more similar set of resources (and/or produce a more similar set of metabolites). The center of the plot signifies a more competitive nutrient space, whereas clusters on the outskirts denote more isolated niches.\n",
        "\n",
        "You can tune [TSNE parameters](https://distill.pub/2016/misread-tsne/), such as perplexity, to get a more meaningful grouping. We will lower the perplexity here since we don't have a lot of data points.\n"
      ]
    },
    {
      "cell_type": "markdown",
      "metadata": {
        "id": "4Y_XfHkB4sO8"
      },
      "source": [
        "## Comparative Metabolomics\n",
        "\n",
        "Now let's compare the metabolomic exports between the two dietary contexts. We're interested to see how the metabolomic profile of the microbiome changes when the diet changes, as changes in diet can lead to changes in host health.  To look into this deeper, we'll concatenate the exchange results into one dataframe, transform the data and then plot the metabolite exports on a heatmap. \n",
        "\n",
        "First let's annotate each dataframe with its medium:"
      ]
    },
    {
      "cell_type": "code",
      "source": [
        "unmatched_growth.exchanges['diet'] = 'unmatched'\n",
        "matched_growth.exchanges['diet'] = 'matched'"
      ],
      "metadata": {
        "id": "yDUA4fTDwSfn"
      },
      "execution_count": null,
      "outputs": []
    },
    {
      "cell_type": "markdown",
      "source": [
        "Now we'll concatenate the dataframes. MICOM fluxes are returned as normalized values, so we'll have to multiply the exchange flux by the corresponding taxonomic abundance. We'll also run a centered log ratio transformation on the data, to account for the compositional nature of these data and compare all the fluxes against each other. "
      ],
      "metadata": {
        "id": "pAtec3I78DJJ"
      }
    },
    {
      "cell_type": "code",
      "source": [
        "import pandas as pd\n",
        "import numpy as np\n",
        "\n",
        "exports = pd.concat([unmatched_growth.exchanges, matched_growth.exchanges])\n",
        "exports = exports[exports.direction == \"export\"].groupby([\"diet\",\"sample_id\", \"metabolite\", \"reaction\"]).apply(\n",
        "    lambda df: sum(df.flux * df.abundance)).reset_index().rename(columns = {0:'flux'}) #multiply flux by abundance\n",
        "exports = pd.pivot_table(exports, index = ['diet','sample_id'], columns = 'metabolite', values = 'flux')\n",
        "exports = exports.T.fillna(0.0)\n",
        "exports = exports.apply(\n",
        "    lambda xs: np.log(xs + 0.001) - np.log(xs.mean() + 0.001),\n",
        "    axis=1)\n",
        "exports = exports.reindex(exports.sum(axis = 1).sort_values().index)"
      ],
      "metadata": {
        "id": "fjqajXRwGe4g"
      },
      "execution_count": null,
      "outputs": []
    },
    {
      "cell_type": "markdown",
      "source": [
        "We can use seaborn to plot our heatmap:"
      ],
      "metadata": {
        "id": "nYuc7Wu38nYd"
      }
    },
    {
      "cell_type": "code",
      "source": [
        "import seaborn as sns \n",
        "import numpy as np\n",
        "\n",
        "sns.set(rc = {'figure.figsize':(15,30)})\n",
        "sns.clustermap(exports.head(50), cmap = 'viridis')"
      ],
      "metadata": {
        "id": "YHnKeFuF3qAt",
        "colab": {
          "base_uri": "https://localhost:8080/",
          "height": 743
        },
        "outputId": "30ec4f58-8b4d-4fb4-c631-deff9af68f90"
      },
      "execution_count": null,
      "outputs": [
        {
          "output_type": "execute_result",
          "data": {
            "text/plain": [
              "<seaborn.matrix.ClusterGrid at 0x7ff080f8a550>"
            ]
          },
          "metadata": {},
          "execution_count": 29
        },
        {
          "output_type": "display_data",
          "data": {
            "text/plain": [
              "<Figure size 720x720 with 4 Axes>"
            ],
            "image/png": "[encoded data removed]"
          },
          "metadata": {}
        }
      ]
    },
    {
      "cell_type": "markdown",
      "metadata": {
        "id": "l8maOr3w2bOo"
      },
      "source": [
        "# 🏫 Exercises"
      ]
    },
    {
      "cell_type": "markdown",
      "metadata": {
        "id": "TqdappAU20oT"
      },
      "source": [
        "Up to now, we have mostly used MICOM's \"high-level\" API, which is designed for working with several samples in parallel. However, MICOM also allows you to work with single models. We will choose a single sample now for further analysis.\n",
        "\n",
        "First, let's recall what samples we had: "
      ]
    },
    {
      "cell_type": "code",
      "execution_count": null,
      "metadata": {
        "id": "bllnCa1O28YZ",
        "colab": {
          "base_uri": "https://localhost:8080/",
          "height": 552
        },
        "outputId": "f17e4e12-5871-4d23-fa2d-0c66c799fcac"
      },
      "outputs": [
        {
          "output_type": "execute_result",
          "data": {
            "text/plain": [
              "  sample_id ethnic_group                 subsistence   country  \\\n",
              "0  chepang1      Chepang  slash and burn agriculture     Nepal   \n",
              "1  chepang2      Chepang  slash and burn agriculture     Nepal   \n",
              "2  chepang3      Chepang  slash and burn agriculture     Nepal   \n",
              "3    hadza1        Hadza             Hunter-gatherer  Tanzania   \n",
              "4    hadza2        Hadza             Hunter-gatherer  Tanzania   \n",
              "5    hadza3        Hadza             Hunter-gatherer  Tanzania   \n",
              "6   mephaa1      Me’Phaa  slash and burn agriculture    Mexico   \n",
              "7   mephaa2      Me’Phaa  slash and burn agriculture    Mexico   \n",
              "8   mephaa3      Me’Phaa  slash and burn agriculture    Mexico   \n",
              "\n",
              "                                         reference             file  \\\n",
              "0   https://doi.org/10.1371%2Fjournal.pbio.2005396  chepang1.pickle   \n",
              "1   https://doi.org/10.1371%2Fjournal.pbio.2005397  chepang2.pickle   \n",
              "2   https://doi.org/10.1371%2Fjournal.pbio.2005398  chepang3.pickle   \n",
              "3          https://doi.org/10.1126/science.aan4834    hadza1.pickle   \n",
              "4          https://doi.org/10.1126/science.aan4835    hadza2.pickle   \n",
              "5          https://doi.org/10.1126/science.aan4836    hadza3.pickle   \n",
              "6  https://doi.org/10.3390%2Fmicroorganisms8101592   mephaa1.pickle   \n",
              "7  https://doi.org/10.3390%2Fmicroorganisms8101593   mephaa2.pickle   \n",
              "8  https://doi.org/10.3390%2Fmicroorganisms8101594   mephaa3.pickle   \n",
              "\n",
              "   found_taxa  total_taxa  found_fraction  found_abundance_fraction  \n",
              "0         4.0         5.0        0.800000                  0.841369  \n",
              "1         4.0         8.0        0.500000                  0.565356  \n",
              "2         7.0         9.0        0.777778                  0.828136  \n",
              "3         7.0        15.0        0.466667                  0.496223  \n",
              "4        14.0        19.0        0.736842                  0.773316  \n",
              "5         9.0        16.0        0.562500                  0.424079  \n",
              "6        10.0        18.0        0.555556                  0.707239  \n",
              "7         7.0         8.0        0.875000                  0.795362  \n",
              "8         7.0         8.0        0.875000                  0.797945  "
            ],
            "text/html": [
              "\n",
              "  <div id=\"df-6d5d0e83-a2d5-4cd6-a628-23bfd5f2068c\">\n",
              "    <div class=\"colab-df-container\">\n",
              "      <div>\n",
              "<style scoped>\n",
              "    .dataframe tbody tr th:only-of-type {\n",
              "        vertical-align: middle;\n",
              "    }\n",
              "\n",
              "    .dataframe tbody tr th {\n",
              "        vertical-align: top;\n",
              "    }\n",
              "\n",
              "    .dataframe thead th {\n",
              "        text-align: right;\n",
              "    }\n",
              "</style>\n",
              "<table border=\"1\" class=\"dataframe\">\n",
              "  <thead>\n",
              "    <tr style=\"text-align: right;\">\n",
              "      <th></th>\n",
              "      <th>sample_id</th>\n",
              "      <th>ethnic_group</th>\n",
              "      <th>subsistence</th>\n",
              "      <th>country</th>\n",
              "      <th>reference</th>\n",
              "      <th>file</th>\n",
              "      <th>found_taxa</th>\n",
              "      <th>total_taxa</th>\n",
              "      <th>found_fraction</th>\n",
              "      <th>found_abundance_fraction</th>\n",
              "    </tr>\n",
              "  </thead>\n",
              "  <tbody>\n",
              "    <tr>\n",
              "      <th>0</th>\n",
              "      <td>chepang1</td>\n",
              "      <td>Chepang</td>\n",
              "      <td>slash and burn agriculture</td>\n",
              "      <td>Nepal</td>\n",
              "      <td>https://doi.org/10.1371%2Fjournal.pbio.2005396</td>\n",
              "      <td>chepang1.pickle</td>\n",
              "      <td>4.0</td>\n",
              "      <td>5.0</td>\n",
              "      <td>0.800000</td>\n",
              "      <td>0.841369</td>\n",
              "    </tr>\n",
              "    <tr>\n",
              "      <th>1</th>\n",
              "      <td>chepang2</td>\n",
              "      <td>Chepang</td>\n",
              "      <td>slash and burn agriculture</td>\n",
              "      <td>Nepal</td>\n",
              "      <td>https://doi.org/10.1371%2Fjournal.pbio.2005397</td>\n",
              "      <td>chepang2.pickle</td>\n",
              "      <td>4.0</td>\n",
              "      <td>8.0</td>\n",
              "      <td>0.500000</td>\n",
              "      <td>0.565356</td>\n",
              "    </tr>\n",
              "    <tr>\n",
              "      <th>2</th>\n",
              "      <td>chepang3</td>\n",
              "      <td>Chepang</td>\n",
              "      <td>slash and burn agriculture</td>\n",
              "      <td>Nepal</td>\n",
              "      <td>https://doi.org/10.1371%2Fjournal.pbio.2005398</td>\n",
              "      <td>chepang3.pickle</td>\n",
              "      <td>7.0</td>\n",
              "      <td>9.0</td>\n",
              "      <td>0.777778</td>\n",
              "      <td>0.828136</td>\n",
              "    </tr>\n",
              "    <tr>\n",
              "      <th>3</th>\n",
              "      <td>hadza1</td>\n",
              "      <td>Hadza</td>\n",
              "      <td>Hunter-gatherer</td>\n",
              "      <td>Tanzania</td>\n",
              "      <td>https://doi.org/10.1126/science.aan4834</td>\n",
              "      <td>hadza1.pickle</td>\n",
              "      <td>7.0</td>\n",
              "      <td>15.0</td>\n",
              "      <td>0.466667</td>\n",
              "      <td>0.496223</td>\n",
              "    </tr>\n",
              "    <tr>\n",
              "      <th>4</th>\n",
              "      <td>hadza2</td>\n",
              "      <td>Hadza</td>\n",
              "      <td>Hunter-gatherer</td>\n",
              "      <td>Tanzania</td>\n",
              "      <td>https://doi.org/10.1126/science.aan4835</td>\n",
              "      <td>hadza2.pickle</td>\n",
              "      <td>14.0</td>\n",
              "      <td>19.0</td>\n",
              "      <td>0.736842</td>\n",
              "      <td>0.773316</td>\n",
              "    </tr>\n",
              "    <tr>\n",
              "      <th>5</th>\n",
              "      <td>hadza3</td>\n",
              "      <td>Hadza</td>\n",
              "      <td>Hunter-gatherer</td>\n",
              "      <td>Tanzania</td>\n",
              "      <td>https://doi.org/10.1126/science.aan4836</td>\n",
              "      <td>hadza3.pickle</td>\n",
              "      <td>9.0</td>\n",
              "      <td>16.0</td>\n",
              "      <td>0.562500</td>\n",
              "      <td>0.424079</td>\n",
              "    </tr>\n",
              "    <tr>\n",
              "      <th>6</th>\n",
              "      <td>mephaa1</td>\n",
              "      <td>Me’Phaa</td>\n",
              "      <td>slash and burn agriculture</td>\n",
              "      <td>Mexico</td>\n",
              "      <td>https://doi.org/10.3390%2Fmicroorganisms8101592</td>\n",
              "      <td>mephaa1.pickle</td>\n",
              "      <td>10.0</td>\n",
              "      <td>18.0</td>\n",
              "      <td>0.555556</td>\n",
              "      <td>0.707239</td>\n",
              "    </tr>\n",
              "    <tr>\n",
              "      <th>7</th>\n",
              "      <td>mephaa2</td>\n",
              "      <td>Me’Phaa</td>\n",
              "      <td>slash and burn agriculture</td>\n",
              "      <td>Mexico</td>\n",
              "      <td>https://doi.org/10.3390%2Fmicroorganisms8101593</td>\n",
              "      <td>mephaa2.pickle</td>\n",
              "      <td>7.0</td>\n",
              "      <td>8.0</td>\n",
              "      <td>0.875000</td>\n",
              "      <td>0.795362</td>\n",
              "    </tr>\n",
              "    <tr>\n",
              "      <th>8</th>\n",
              "      <td>mephaa3</td>\n",
              "      <td>Me’Phaa</td>\n",
              "      <td>slash and burn agriculture</td>\n",
              "      <td>Mexico</td>\n",
              "      <td>https://doi.org/10.3390%2Fmicroorganisms8101594</td>\n",
              "      <td>mephaa3.pickle</td>\n",
              "      <td>7.0</td>\n",
              "      <td>8.0</td>\n",
              "      <td>0.875000</td>\n",
              "      <td>0.797945</td>\n",
              "    </tr>\n",
              "  </tbody>\n",
              "</table>\n",
              "</div>\n",
              "      <button class=\"colab-df-convert\" onclick=\"convertToInteractive('df-6d5d0e83-a2d5-4cd6-a628-23bfd5f2068c')\"\n",
              "              title=\"Convert this dataframe to an interactive table.\"\n",
              "              style=\"display:none;\">\n",
              "        \n",
              "  <svg xmlns=\"http://www.w3.org/2000/svg\" height=\"24px\"viewBox=\"0 0 24 24\"\n",
              "       width=\"24px\">\n",
              "    <path d=\"M0 0h24v24H0V0z\" fill=\"none\"/>\n",
              "    <path d=\"M18.56 5.44l.94 2.06.94-2.06 2.06-.94-2.06-.94-.94-2.06-.94 2.06-2.06.94zm-11 1L8.5 8.5l.94-2.06 2.06-.94-2.06-.94L8.5 2.5l-.94 2.06-2.06.94zm10 10l.94 2.06.94-2.06 2.06-.94-2.06-.94-.94-2.06-.94 2.06-2.06.94z\"/><path d=\"M17.41 7.96l-1.37-1.37c-.4-.4-.92-.59-1.43-.59-.52 0-1.04.2-1.43.59L10.3 9.45l-7.72 7.72c-.78.78-.78 2.05 0 2.83L4 21.41c.39.39.9.59 1.41.59.51 0 1.02-.2 1.41-.59l7.78-7.78 2.81-2.81c.8-.78.8-2.07 0-2.86zM5.41 20L4 18.59l7.72-7.72 1.47 1.35L5.41 20z\"/>\n",
              "  </svg>\n",
              "      </button>\n",
              "      \n",
              "  <style>\n",
              "    .colab-df-container {\n",
              "      display:flex;\n",
              "      flex-wrap:wrap;\n",
              "      gap: 12px;\n",
              "    }\n",
              "\n",
              "    .colab-df-convert {\n",
              "      background-color: #E8F0FE;\n",
              "      border: none;\n",
              "      border-radius: 50%;\n",
              "      cursor: pointer;\n",
              "      display: none;\n",
              "      fill: #1967D2;\n",
              "      height: 32px;\n",
              "      padding: 0 0 0 0;\n",
              "      width: 32px;\n",
              "    }\n",
              "\n",
              "    .colab-df-convert:hover {\n",
              "      background-color: #E2EBFA;\n",
              "      box-shadow: 0px 1px 2px rgba(60, 64, 67, 0.3), 0px 1px 3px 1px rgba(60, 64, 67, 0.15);\n",
              "      fill: #174EA6;\n",
              "    }\n",
              "\n",
              "    [theme=dark] .colab-df-convert {\n",
              "      background-color: #3B4455;\n",
              "      fill: #D2E3FC;\n",
              "    }\n",
              "\n",
              "    [theme=dark] .colab-df-convert:hover {\n",
              "      background-color: #434B5C;\n",
              "      box-shadow: 0px 1px 3px 1px rgba(0, 0, 0, 0.15);\n",
              "      filter: drop-shadow(0px 1px 2px rgba(0, 0, 0, 0.3));\n",
              "      fill: #FFFFFF;\n",
              "    }\n",
              "  </style>\n",
              "\n",
              "      <script>\n",
              "        const buttonEl =\n",
              "          document.querySelector('#df-6d5d0e83-a2d5-4cd6-a628-23bfd5f2068c button.colab-df-convert');\n",
              "        buttonEl.style.display =\n",
              "          google.colab.kernel.accessAllowed ? 'block' : 'none';\n",
              "\n",
              "        async function convertToInteractive(key) {\n",
              "          const element = document.querySelector('#df-6d5d0e83-a2d5-4cd6-a628-23bfd5f2068c');\n",
              "          const dataTable =\n",
              "            await google.colab.kernel.invokeFunction('convertToInteractive',\n",
              "                                                     [key], {});\n",
              "          if (!dataTable) return;\n",
              "\n",
              "          const docLinkHtml = 'Like what you see? Visit the ' +\n",
              "            '<a target=\"_blank\" href=https://colab.research.google.com/notebooks/data_table.ipynb>data table notebook</a>'\n",
              "            + ' to learn more about interactive tables.';\n",
              "          element.innerHTML = '';\n",
              "          dataTable['output_type'] = 'display_data';\n",
              "          await google.colab.output.renderOutput(dataTable, element);\n",
              "          const docLink = document.createElement('div');\n",
              "          docLink.innerHTML = docLinkHtml;\n",
              "          element.appendChild(docLink);\n",
              "        }\n",
              "      </script>\n",
              "    </div>\n",
              "  </div>\n",
              "  "
            ]
          },
          "metadata": {},
          "execution_count": 30
        }
      ],
      "source": [
        "manifest"
      ]
    },
    {
      "cell_type": "markdown",
      "metadata": {
        "id": "VjUustQG2_bX"
      },
      "source": [
        "## Diet-Specific Interactions\n",
        "We can use the `load_pickle` funciton in MICOM to load one of the models we're interested in, and look at differences in growth between the two diets we have available. "
      ]
    },
    {
      "cell_type": "code",
      "execution_count": null,
      "metadata": {
        "id": "uh7QFi9V3HIX",
        "colab": {
          "base_uri": "https://localhost:8080/",
          "height": 328
        },
        "outputId": "16503b0e-4750-4b21-c593-e5366fe8b9ef"
      },
      "outputs": [
        {
          "output_type": "stream",
          "name": "stderr",
          "text": [
            "WARNING:micom.logger:I could not find the following exchanges in your model: EX_cspg_b_m, EX_dpcoa_m, EX_core7_m, EX_no3_m, EX_fald_m, EX_mqn7_m, EX_gtp_m, EX_hspg_m, EX_datp_m, EX_chsterol_m, EX_3mop_m, EX_ala_D_m, EX_coa_m, EX_ph2s_m, EX_amet_m, EX_cmp_m, EX_nadp_m, EX_arab_D_m\n"
          ]
        },
        {
          "output_type": "execute_result",
          "data": {
            "text/plain": [
              "<CommunitySolution 3.179 at 0x7ff08085f310>"
            ],
            "text/html": [
              "<strong>community growth:</strong> 3.179<br><strong>status:</strong> numeric<br><strong>taxa:</strong><div>\n",
              "<style scoped>\n",
              "    .dataframe tbody tr th:only-of-type {\n",
              "        vertical-align: middle;\n",
              "    }\n",
              "\n",
              "    .dataframe tbody tr th {\n",
              "        vertical-align: top;\n",
              "    }\n",
              "\n",
              "    .dataframe thead th {\n",
              "        text-align: right;\n",
              "    }\n",
              "</style>\n",
              "<table border=\"1\" class=\"dataframe\">\n",
              "  <thead>\n",
              "    <tr style=\"text-align: right;\">\n",
              "      <th></th>\n",
              "      <th>abundance</th>\n",
              "      <th>growth_rate</th>\n",
              "      <th>reactions</th>\n",
              "      <th>metabolites</th>\n",
              "    </tr>\n",
              "    <tr>\n",
              "      <th>compartments</th>\n",
              "      <th></th>\n",
              "      <th></th>\n",
              "      <th></th>\n",
              "      <th></th>\n",
              "    </tr>\n",
              "  </thead>\n",
              "  <tbody>\n",
              "    <tr>\n",
              "      <th>Catenibacterium</th>\n",
              "      <td>0.025004</td>\n",
              "      <td>0.162238</td>\n",
              "      <td>1660</td>\n",
              "      <td>1266</td>\n",
              "    </tr>\n",
              "    <tr>\n",
              "      <th>Phascolarctobacterium</th>\n",
              "      <td>0.018171</td>\n",
              "      <td>0.076950</td>\n",
              "      <td>1019</td>\n",
              "      <td>945</td>\n",
              "    </tr>\n",
              "    <tr>\n",
              "      <th>Prevotella</th>\n",
              "      <td>0.574157</td>\n",
              "      <td>3.829102</td>\n",
              "      <td>2861</td>\n",
              "      <td>1722</td>\n",
              "    </tr>\n",
              "    <tr>\n",
              "      <th>Succinivibrio</th>\n",
              "      <td>0.382668</td>\n",
              "      <td>2.548651</td>\n",
              "      <td>1130</td>\n",
              "      <td>1051</td>\n",
              "    </tr>\n",
              "    <tr>\n",
              "      <th>medium</th>\n",
              "      <td>NaN</td>\n",
              "      <td>NaN</td>\n",
              "      <td>621</td>\n",
              "      <td>621</td>\n",
              "    </tr>\n",
              "  </tbody>\n",
              "</table>\n",
              "</div>"
            ]
          },
          "metadata": {},
          "execution_count": 31
        }
      ],
      "source": [
        "from micom import load_pickle\n",
        "from micom.qiime_formats import load_qiime_medium\n",
        "\n",
        "matched_medium = pd.read_csv(\"data/per_sample_media.csv\")\n",
        "matched_medium = matched_medium[matched_medium['sample_id'].str.contains('chepang1')]\n",
        "matched_medium.index = matched_medium.reaction\n",
        "\n",
        "com = load_pickle(\"models/chepang1.pickle\")\n",
        "com.medium = matched_medium.flux\n",
        "sol = com.cooperative_tradeoff(fraction=0.5, fluxes=True, pfba=True)\n",
        "sol"
      ]
    },
    {
      "cell_type": "markdown",
      "source": [
        "Go ahead and try growing this model using the other available medium (i.e., the average Austrian diet):"
      ],
      "metadata": {
        "id": "Mkpqy7yz7cJV"
      }
    },
    {
      "cell_type": "code",
      "source": [
        "# Your code here"
      ],
      "metadata": {
        "id": "8G655l0W7Zw-"
      },
      "execution_count": null,
      "outputs": []
    },
    {
      "cell_type": "code",
      "execution_count": null,
      "metadata": {
        "id": "5IlJ-YpUCQzp"
      },
      "outputs": [],
      "source": [
        "# Your code here"
      ]
    },
    {
      "cell_type": "markdown",
      "metadata": {
        "id": "CsqIRTbC7doD"
      },
      "source": [
        "# 🔵 Addendum\n"
      ]
    },
    {
      "cell_type": "markdown",
      "metadata": {
        "id": "hycoXNTi5xsH"
      },
      "source": [
        "## Choosing a tradeoff value\n",
        "\n",
        "Even if you don't have growth rates available you can still use your data to choose a decent tradeoff value. This can be done by choosing the largest tradeoff value that still allows growth for the majority of the taxa that you observed in the sample (if they are present at an appreciable abundance, they should be able to grow). This can be done with the `tradeoff` workflow in MICOM that will run cooperative tradeoff with varying tradeoff values, which can be visualized with the `plot_tradeoff` function."
      ]
    },
    {
      "cell_type": "code",
      "execution_count": null,
      "metadata": {
        "id": "8_1jesZTHYra"
      },
      "outputs": [],
      "source": [
        "from micom.workflows import tradeoff\n",
        "import micom\n",
        "\n",
        "tradeoff_results = tradeoff(manifest, \"models\", matched_medium, threads=2)\n",
        "tradeoff_results.to_csv(\"tradeoff.csv\", index=False)\n",
        "\n",
        "plot_tradeoff(tradeoff_results, tolerance=1e-4)"
      ]
    },
    {
      "cell_type": "markdown",
      "metadata": {
        "id": "y9703vhK6d6c"
      },
      "source": [
        "After opeing `tradeoff_[DATE].html` you will see that, for our example here, all tradeoff values work great. This is because we modeled very few taxa, which keeps the compettion down. If you would allow for fewer abundant taxa in the models, this would change drastically. For instance, here is an example from a colorectal cancer data set:\n",
        "\n",
        "[![tradeoff example](https://micom-dev.github.io/micom/_images/tradeoff.png)](https://micom-dev.github.io/micom/_static/tradeoff.html)\n",
        "\n",
        "You can see how not using the cooperative tradeoff would give you nonsense results where only 10% of all observed taxa grew. A tradeoff value of 0.6-0.8 would probably be a good choice for this particular data set."
      ]
    }
  ],
  "metadata": {
    "colab": {
      "collapsed_sections": [],
      "provenance": [],
      "toc_visible": true,
      "include_colab_link": true
    },
    "kernelspec": {
      "display_name": "Python 3",
      "name": "python3"
    },
    "widgets": {
      "application/vnd.jupyter.widget-state+json": {
        "10aeb016d4c846bda6a94f07b81ff16c": {
          "model_module": "@jupyter-widgets/output",
          "model_name": "OutputModel",
          "model_module_version": "1.0.0",
          "state": {
            "_dom_classes": [],
            "_model_module": "@jupyter-widgets/output",
            "_model_module_version": "1.0.0",
            "_model_name": "OutputModel",
            "_view_count": null,
            "_view_module": "@jupyter-widgets/output",
            "_view_module_version": "1.0.0",
            "_view_name": "OutputView",
            "layout": "IPY_MODEL_b62e93f4bdd345558632c14bde42a450",
            "msg_id": "",
            "outputs": [
              {
                "output_type": "display_data",
                "data": {
                  "text/plain": "Running \u001b[38;2;114;156;31m━━━━━━━━━━━━━━━━━━━━━━━━━━━━━━━━━━━━━━━━\u001b[0m \u001b[35m100%\u001b[0m \u001b[36m0:00:00\u001b[0m\n",
                  "text/html": "<pre style=\"white-space:pre;overflow-x:auto;line-height:normal;font-family:Menlo,'DejaVu Sans Mono',consolas,'Courier New',monospace\">Running <span style=\"color: #729c1f; text-decoration-color: #729c1f\">━━━━━━━━━━━━━━━━━━━━━━━━━━━━━━━━━━━━━━━━</span> <span style=\"color: #800080; text-decoration-color: #800080\">100%</span> <span style=\"color: #008080; text-decoration-color: #008080\">0:00:00</span>\n</pre>\n"
                },
                "metadata": {}
              }
            ]
          }
        },
        "b62e93f4bdd345558632c14bde42a450": {
          "model_module": "@jupyter-widgets/base",
          "model_name": "LayoutModel",
          "model_module_version": "1.2.0",
          "state": {
            "_model_module": "@jupyter-widgets/base",
            "_model_module_version": "1.2.0",
            "_model_name": "LayoutModel",
            "_view_count": null,
            "_view_module": "@jupyter-widgets/base",
            "_view_module_version": "1.2.0",
            "_view_name": "LayoutView",
            "align_content": null,
            "align_items": null,
            "align_self": null,
            "border": null,
            "bottom": null,
            "display": null,
            "flex": null,
            "flex_flow": null,
            "grid_area": null,
            "grid_auto_columns": null,
            "grid_auto_flow": null,
            "grid_auto_rows": null,
            "grid_column": null,
            "grid_gap": null,
            "grid_row": null,
            "grid_template_areas": null,
            "grid_template_columns": null,
            "grid_template_rows": null,
            "height": null,
            "justify_content": null,
            "justify_items": null,
            "left": null,
            "margin": null,
            "max_height": null,
            "max_width": null,
            "min_height": null,
            "min_width": null,
            "object_fit": null,
            "object_position": null,
            "order": null,
            "overflow": null,
            "overflow_x": null,
            "overflow_y": null,
            "padding": null,
            "right": null,
            "top": null,
            "visibility": null,
            "width": null
          }
        },
        "e4a9211d1b2547549ffe5538825b5cf6": {
          "model_module": "@jupyter-widgets/output",
          "model_name": "OutputModel",
          "model_module_version": "1.0.0",
          "state": {
            "_dom_classes": [],
            "_model_module": "@jupyter-widgets/output",
            "_model_module_version": "1.0.0",
            "_model_name": "OutputModel",
            "_view_count": null,
            "_view_module": "@jupyter-widgets/output",
            "_view_module_version": "1.0.0",
            "_view_name": "OutputView",
            "layout": "IPY_MODEL_caf95c0c2e8d4efaaf3f86aa45465fbc",
            "msg_id": "",
            "outputs": [
              {
                "output_type": "display_data",
                "data": {
                  "text/plain": "Running \u001b[38;2;114;156;31m━━━━━━━━━━━━━━━━━━━━━━━━━━━━━━━━━━━━━━━━\u001b[0m \u001b[35m100%\u001b[0m \u001b[36m0:00:00\u001b[0m\n",
                  "text/html": "<pre style=\"white-space:pre;overflow-x:auto;line-height:normal;font-family:Menlo,'DejaVu Sans Mono',consolas,'Courier New',monospace\">Running <span style=\"color: #729c1f; text-decoration-color: #729c1f\">━━━━━━━━━━━━━━━━━━━━━━━━━━━━━━━━━━━━━━━━</span> <span style=\"color: #800080; text-decoration-color: #800080\">100%</span> <span style=\"color: #008080; text-decoration-color: #008080\">0:00:00</span>\n</pre>\n"
                },
                "metadata": {}
              }
            ]
          }
        },
        "caf95c0c2e8d4efaaf3f86aa45465fbc": {
          "model_module": "@jupyter-widgets/base",
          "model_name": "LayoutModel",
          "model_module_version": "1.2.0",
          "state": {
            "_model_module": "@jupyter-widgets/base",
            "_model_module_version": "1.2.0",
            "_model_name": "LayoutModel",
            "_view_count": null,
            "_view_module": "@jupyter-widgets/base",
            "_view_module_version": "1.2.0",
            "_view_name": "LayoutView",
            "align_content": null,
            "align_items": null,
            "align_self": null,
            "border": null,
            "bottom": null,
            "display": null,
            "flex": null,
            "flex_flow": null,
            "grid_area": null,
            "grid_auto_columns": null,
            "grid_auto_flow": null,
            "grid_auto_rows": null,
            "grid_column": null,
            "grid_gap": null,
            "grid_row": null,
            "grid_template_areas": null,
            "grid_template_columns": null,
            "grid_template_rows": null,
            "height": null,
            "justify_content": null,
            "justify_items": null,
            "left": null,
            "margin": null,
            "max_height": null,
            "max_width": null,
            "min_height": null,
            "min_width": null,
            "object_fit": null,
            "object_position": null,
            "order": null,
            "overflow": null,
            "overflow_x": null,
            "overflow_y": null,
            "padding": null,
            "right": null,
            "top": null,
            "visibility": null,
            "width": null
          }
        }
      }
    }
  },
  "nbformat": 4,
  "nbformat_minor": 0
}