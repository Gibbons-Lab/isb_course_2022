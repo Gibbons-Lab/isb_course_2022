{
 "cells": [
  {
   "cell_type": "markdown",
   "metadata": {
    "colab_type": "text",
    "id": "view-in-github"
   },
   "source": [
    "<a href=\"https://colab.research.google.com/github/Gibbons-Lab/isb_course_2022/blob/main/micom.ipynb\" target=\"_parent\"><img src=\"https://colab.research.google.com/assets/colab-badge.svg\" alt=\"Open In Colab\"/></a>"
   ]
  },
  {
   "cell_type": "markdown",
   "metadata": {
    "id": "C0vqP4LJ9y6K"
   },
   "source": [
    "# 🧫🦠 Modeling microbiota-wide metabolism with MICOM\n",
    "\n",
    "This notebook will accompany the second session of the 2020 ISB Microbiome Course. The presentation slides can be [found here](https://gibbons-lab.github.io/isb_course_2020/micom). \n",
    "\n",
    "You can save your own local copy of this notebook by using `File > Save a copy in Drive`. You may be promted to cetify the notebook is safe. We promise that it is 🤞\n",
    "\n",
    "**Disclaimer:**\n",
    "The linear and quadratic programming problems MICOM has to solve are very large and very complicated. There are some very good commercial solvers that are very expensive (even though they are often free for academic use). To make this tutorial as accessible as possible we will use the Open Source solver [OSQP](https://osqp.org/). OSQP is amazing with quadratic programming problems (kudos!) but not as accurate for linear problems. Solvers usually only guarantee a solution within a certain numerical tolerance of the real solution. In order to make everything work with OSQP this tolerance has to be relaxed to about 10<sup>-3</sup>. This means that any result with an absolute value smaller than that might very well be zero so we should look at larger values only. Installing cost-free academic versions of commercial solvers like [IBM CPLEX](https://www.ibm.com/analytics/cplex-optimizer) or [Gurobi](https://www.gurobi.com/) would alow you to lower the tolerance to 10<sup>-6</sup>.\n",
    "\n"
   ]
  },
  {
   "cell_type": "markdown",
   "metadata": {
    "id": "qgBBl4GtuTuX"
   },
   "source": [
    "# 📝 Setup\n",
    "\n",
    "MICOM installation is is usually pretty straight-forward and can be as easy as typing `pip install micom` into your Terminal. However, MICOM will require a solver for quadratic programming problems and all the best ones are commercial (boo) even though they often have free academic licenses 😌. We will use a brand new open source QP solver named OSQP, but this will require us to pull in development versions of certain packages.\n",
    "\n",
    "But first let's start by downloading the materials again and switching to the folder."
   ]
  },
  {
   "cell_type": "code",
   "execution_count": null,
   "metadata": {
    "id": "ckON4xr3_bW5"
   },
   "outputs": [],
   "source": [
    "!git clone https://github.com/gibbons-lab/isb_course_2022 materials\n",
    "%cd materials"
   ]
  },
  {
   "cell_type": "markdown",
   "metadata": {
    "id": "is6fmBUeorwv"
   },
   "source": [
    "## Basic Installation\n",
    "\n",
    "Installing MICOM is straight-forward in Python. OSQP itself will be installed automatically along with it."
   ]
  },
  {
   "cell_type": "code",
   "execution_count": null,
   "metadata": {
    "id": "M_TeC5yrst3h"
   },
   "outputs": [],
   "source": [
    "!pip install -q micom\n",
    "\n",
    "print(\"Done! 🎉 \")"
   ]
  },
  {
   "cell_type": "markdown",
   "metadata": {
    "id": "6oJrxxz6tV9T"
   },
   "source": [
    "## Enable QIIME 2 interactions\n",
    "\n",
    "Before we start, we also need to install packages to read the \"biom\" file format used by QIIME 2 to save tables. This is only necessary if you want to read QIIME 2 FeatureTable artifacts (like the ones we constructed yesterday)"
   ]
  },
  {
   "cell_type": "code",
   "execution_count": null,
   "metadata": {
    "id": "5rZX7SK_toLp"
   },
   "outputs": [],
   "source": [
    "!pip install -q numpy Cython\n",
    "!pip install -q biom-format\n",
    "\n",
    "print(\"Done! 🎉 \")"
   ]
  },
  {
   "cell_type": "markdown",
   "metadata": {
    "id": "oPy1f-WLI0lZ"
   },
   "source": [
    "Okay, all done. So let's get started building some models 🦺🛠d😁.\n",
    "\n",
    "# 💻 MICOM\n",
    "\n",
    "We will use the Python interface to MICOM since it plays nicely with Colaboratory. However, you could run the same steps within the QIIME 2 MICOM plugin ([q2-micom](https://library.qiime2.org/plugins/q2-micom/26/)). \n",
    "\n",
    "Here is an overview of all the steps and functions:\n",
    "![micom overview](https://github.com/micom-dev/q2-micom/raw/706f583a060b91c12c0cec7acea2354fdd0dd320/docs/assets/overview.png).\n",
    "\n",
    "The process of building a metabolic model in MICOM begins with constructing a a combined abundance/taxonomy, referred to hereafter as a taxonomy table. Let's load a sample taxonomy table to see what it looks like: \n",
    "\n"
   ]
  },
  {
   "cell_type": "code",
   "execution_count": 1,
   "metadata": {
    "id": "UV9SObSQkSZh"
   },
   "outputs": [
    {
     "data": {
      "text/html": [
       "<div>\n",
       "<style scoped>\n",
       "    .dataframe tbody tr th:only-of-type {\n",
       "        vertical-align: middle;\n",
       "    }\n",
       "\n",
       "    .dataframe tbody tr th {\n",
       "        vertical-align: top;\n",
       "    }\n",
       "\n",
       "    .dataframe thead th {\n",
       "        text-align: right;\n",
       "    }\n",
       "</style>\n",
       "<table border=\"1\" class=\"dataframe\">\n",
       "  <thead>\n",
       "    <tr style=\"text-align: right;\">\n",
       "      <th></th>\n",
       "      <th>id</th>\n",
       "      <th>genus</th>\n",
       "      <th>species</th>\n",
       "      <th>reactions</th>\n",
       "      <th>metabolites</th>\n",
       "      <th>sample_id</th>\n",
       "      <th>abundance</th>\n",
       "    </tr>\n",
       "  </thead>\n",
       "  <tbody>\n",
       "    <tr>\n",
       "      <th>0</th>\n",
       "      <td>Escherichia_coli_1</td>\n",
       "      <td>Escherichia</td>\n",
       "      <td>Escherichia coli 0</td>\n",
       "      <td>95</td>\n",
       "      <td>72</td>\n",
       "      <td>sample_1</td>\n",
       "      <td>433</td>\n",
       "    </tr>\n",
       "    <tr>\n",
       "      <th>1</th>\n",
       "      <td>Escherichia_coli_2</td>\n",
       "      <td>Escherichia</td>\n",
       "      <td>Escherichia coli 1</td>\n",
       "      <td>95</td>\n",
       "      <td>72</td>\n",
       "      <td>sample_1</td>\n",
       "      <td>352</td>\n",
       "    </tr>\n",
       "    <tr>\n",
       "      <th>2</th>\n",
       "      <td>Escherichia_coli_3</td>\n",
       "      <td>Escherichia</td>\n",
       "      <td>Escherichia coli 2</td>\n",
       "      <td>95</td>\n",
       "      <td>72</td>\n",
       "      <td>sample_1</td>\n",
       "      <td>647</td>\n",
       "    </tr>\n",
       "    <tr>\n",
       "      <th>3</th>\n",
       "      <td>Escherichia_coli_4</td>\n",
       "      <td>Escherichia</td>\n",
       "      <td>Escherichia coli 3</td>\n",
       "      <td>95</td>\n",
       "      <td>72</td>\n",
       "      <td>sample_1</td>\n",
       "      <td>57</td>\n",
       "    </tr>\n",
       "    <tr>\n",
       "      <th>0</th>\n",
       "      <td>Escherichia_coli_1</td>\n",
       "      <td>Escherichia</td>\n",
       "      <td>Escherichia coli 0</td>\n",
       "      <td>95</td>\n",
       "      <td>72</td>\n",
       "      <td>sample_2</td>\n",
       "      <td>226</td>\n",
       "    </tr>\n",
       "  </tbody>\n",
       "</table>\n",
       "</div>"
      ],
      "text/plain": [
       "                   id        genus             species  reactions  \\\n",
       "0  Escherichia_coli_1  Escherichia  Escherichia coli 0         95   \n",
       "1  Escherichia_coli_2  Escherichia  Escherichia coli 1         95   \n",
       "2  Escherichia_coli_3  Escherichia  Escherichia coli 2         95   \n",
       "3  Escherichia_coli_4  Escherichia  Escherichia coli 3         95   \n",
       "0  Escherichia_coli_1  Escherichia  Escherichia coli 0         95   \n",
       "\n",
       "   metabolites sample_id  abundance  \n",
       "0           72  sample_1        433  \n",
       "1           72  sample_1        352  \n",
       "2           72  sample_1        647  \n",
       "3           72  sample_1         57  \n",
       "0           72  sample_2        226  "
      ]
     },
     "execution_count": 1,
     "metadata": {},
     "output_type": "execute_result"
    }
   ],
   "source": [
    "from micom.data import test_data\n",
    "\n",
    "test_data().head()"
   ]
  },
  {
   "cell_type": "markdown",
   "metadata": {
    "id": "AEk7yfd1lbYp"
   },
   "source": [
    "In this sample taxonomy table, we see four identical strains of _E. coli_ (1 through 4), across two samples (sample_1 and sample_2). We can see that each row represents a single taxon in a single sample, and the `abundance` column identifies the abundance of that taxon in the sample. \n",
    "\n",
    "The `id` column specifies identifiers for the taxa and should be expressive and not include spaces or special characters. Since we are using a taxonomy database to build our models (more on that soon), we don't need a `file` column.\n",
    "\n",
    "You might notice that this dataframe looks very different from what we generated in yesterday's tutorial, where we ended up with separate QIIME 2 artifacts 😱 \n",
    "\n",
    "No worries, we can deal with that.\n",
    "\n",
    "## Importing data from QIIME 2\n",
    "\n",
    "MICOM can read QIIME 2 artifacts. You don't even need to have QIIME 2 installed for that! But before we do so, let's resolve one issue. We discussed that MICOM summarizes genome-scale models into pangenome-scale models as a first step, but our data are on the ASV level...so how will we know what to summarize?\n",
    "\n",
    "Basically, a specific model database can be used to quickly summarize pangenome-scale models for use within MICOM. So, before we read our data we have to decide which model database to use. We will go with the [AGORA database](https://pubmed.ncbi.nlm.nih.gov/27893703/), which is a curated database of more than 800 bacterial strains that commonly live in the human gut. In particular, we will use a version of this database summarized on the genus rank which can be downloaded from the [MICOM data repository](https://doi.org/10.5281/zenodo.3755182), which contains a whole lot of prebuilt databases."
   ]
  },
  {
   "cell_type": "code",
   "execution_count": 2,
   "metadata": {
    "id": "eXGHZPYwlEa5"
   },
   "outputs": [
    {
     "name": "stdout",
     "output_type": "stream",
     "text": [
      "--2022-09-27 08:12:46--  https://zenodo.org/record/3755182/files/agora103_genus.qza?download=1\n",
      "Resolving zenodo.org... 188.184.117.155\n",
      "Connecting to zenodo.org|188.184.117.155|:443... connected.\n",
      "HTTP request sent, awaiting response... 200 OK\n",
      "Length: 21080080 (20M) [application/octet-stream]\n",
      "Saving to: ‘agora103_genus.qza’\n",
      "\n",
      "agora103_genus.qza  100%[===================>]  20.10M   315KB/s    in 56s     \n",
      "\n",
      "2022-09-27 08:13:45 (370 KB/s) - ‘agora103_genus.qza’ saved [21080080/21080080]\n",
      "\n"
     ]
    }
   ],
   "source": [
    "!wget -O agora103_genus.qza https://zenodo.org/record/3755182/files/agora103_genus.qza?download=1"
   ]
  },
  {
   "cell_type": "markdown",
   "metadata": {
    "id": "_57iya0D3L6-"
   },
   "source": [
    "Now we're all set to start building models! The data we previously collected can be found in the `treasure_chest` folder, so we can use those files to build our taxonomy for MICOM. "
   ]
  },
  {
   "cell_type": "code",
   "execution_count": 3,
   "metadata": {
    "id": "o0vBAiiqqPLC"
   },
   "outputs": [],
   "source": [
    "from micom.taxonomy import qiime_to_micom\n",
    "\n",
    "tax = qiime_to_micom(\n",
    "    \"treasure_chest/dada2/table.qza\", \n",
    "    \"treasure_chest/taxa.qza\", \n",
    "    collapse_on=\"genus\"\n",
    ")"
   ]
  },
  {
   "cell_type": "markdown",
   "metadata": {
    "id": "-TQ6Zp7wouk4"
   },
   "source": [
    "Notice the `collapse_on` argument. That will specify the rank on which to sumarize and can be a list of several ranks. When matching taxonomy you can either match by the particular rank of interest (for example, just comparing genus names here), or you could compare the entire taxonomy, which will require all taxonomic ranks prior to the target rank to match. For that you cloud specify `collapse_on=[\"kingdom\", \"phylum\", \"class\", \"order\", \"family\", \"genus\"]`. \n",
    "\n",
    "Taxonomic names will often not match 100% between databases. For instance, the genus name \"Prevotella\" in one database may be \"Prevotella_6\" in another. The more ranks you use for matching the more likely are you to run into those issues. However, the more taxonomic ranks you use to match the more confident you can be that your observed taxon really is the same taxon as the one in the model database.\n",
    "\n",
    "The resulting table will contain the same abundances but it will include more ranks if `collapse_on` is a list. All ranks present in the taxonomy will be used when matching to the database. The GreenGenes database is pretty old and many taxonomic names have been superceded by now. So we will stick with the \"lax\" option of only matching on genus ranks.\n",
    "\n",
    "Let's now take a look at the taxonomy table we generated:"
   ]
  },
  {
   "cell_type": "code",
   "execution_count": null,
   "metadata": {
    "id": "2eS_g-ffNUAt"
   },
   "outputs": [],
   "source": [
    "tax"
   ]
  },
  {
   "cell_type": "markdown",
   "metadata": {
    "id": "R5zwLVFcNTbq"
   },
   "source": [
    "That looks more like the example! Again, we have a row for each taxon in each sample, so we're good to go. \n",
    "\n",
    "One helpful thing to do is to merge in our metadata, so we'll have it at hand for the following steps. In our case, the metadata will include the ethnic group, region, and subsistence type of each of the study participants. "
   ]
  },
  {
   "cell_type": "code",
   "execution_count": 4,
   "metadata": {
    "id": "X9hqoO4go0h1"
   },
   "outputs": [
    {
     "data": {
      "text/html": [
       "<div>\n",
       "<style scoped>\n",
       "    .dataframe tbody tr th:only-of-type {\n",
       "        vertical-align: middle;\n",
       "    }\n",
       "\n",
       "    .dataframe tbody tr th {\n",
       "        vertical-align: top;\n",
       "    }\n",
       "\n",
       "    .dataframe thead th {\n",
       "        text-align: right;\n",
       "    }\n",
       "</style>\n",
       "<table border=\"1\" class=\"dataframe\">\n",
       "  <thead>\n",
       "    <tr style=\"text-align: right;\">\n",
       "      <th></th>\n",
       "      <th>sample_id</th>\n",
       "      <th>abundance</th>\n",
       "      <th>genus</th>\n",
       "      <th>id</th>\n",
       "      <th>relative</th>\n",
       "      <th>ethnic_group</th>\n",
       "      <th>subsistence</th>\n",
       "      <th>country</th>\n",
       "      <th>reference</th>\n",
       "    </tr>\n",
       "  </thead>\n",
       "  <tbody>\n",
       "    <tr>\n",
       "      <th>0</th>\n",
       "      <td>chepang1</td>\n",
       "      <td>3697.0</td>\n",
       "      <td>Prevotella</td>\n",
       "      <td>Prevotella</td>\n",
       "      <td>0.483079</td>\n",
       "      <td>Chepang</td>\n",
       "      <td>slash and burn agriculture</td>\n",
       "      <td>Nepal</td>\n",
       "      <td>https://doi.org/10.1371%2Fjournal.pbio.2005396</td>\n",
       "    </tr>\n",
       "    <tr>\n",
       "      <th>1</th>\n",
       "      <td>chepang1</td>\n",
       "      <td>51.0</td>\n",
       "      <td>Faecalibacterium</td>\n",
       "      <td>Faecalibacterium</td>\n",
       "      <td>0.006664</td>\n",
       "      <td>Chepang</td>\n",
       "      <td>slash and burn agriculture</td>\n",
       "      <td>Nepal</td>\n",
       "      <td>https://doi.org/10.1371%2Fjournal.pbio.2005396</td>\n",
       "    </tr>\n",
       "    <tr>\n",
       "      <th>2</th>\n",
       "      <td>chepang1</td>\n",
       "      <td>2464.0</td>\n",
       "      <td>Succinivibrio</td>\n",
       "      <td>Succinivibrio</td>\n",
       "      <td>0.321965</td>\n",
       "      <td>Chepang</td>\n",
       "      <td>slash and burn agriculture</td>\n",
       "      <td>Nepal</td>\n",
       "      <td>https://doi.org/10.1371%2Fjournal.pbio.2005396</td>\n",
       "    </tr>\n",
       "    <tr>\n",
       "      <th>3</th>\n",
       "      <td>chepang1</td>\n",
       "      <td>27.0</td>\n",
       "      <td>Oscillibacter</td>\n",
       "      <td>Oscillibacter</td>\n",
       "      <td>0.003528</td>\n",
       "      <td>Chepang</td>\n",
       "      <td>slash and burn agriculture</td>\n",
       "      <td>Nepal</td>\n",
       "      <td>https://doi.org/10.1371%2Fjournal.pbio.2005396</td>\n",
       "    </tr>\n",
       "    <tr>\n",
       "      <th>4</th>\n",
       "      <td>chepang1</td>\n",
       "      <td>310.0</td>\n",
       "      <td>Prevotellamassilia</td>\n",
       "      <td>Prevotellamassilia</td>\n",
       "      <td>0.040507</td>\n",
       "      <td>Chepang</td>\n",
       "      <td>slash and burn agriculture</td>\n",
       "      <td>Nepal</td>\n",
       "      <td>https://doi.org/10.1371%2Fjournal.pbio.2005396</td>\n",
       "    </tr>\n",
       "    <tr>\n",
       "      <th>...</th>\n",
       "      <td>...</td>\n",
       "      <td>...</td>\n",
       "      <td>...</td>\n",
       "      <td>...</td>\n",
       "      <td>...</td>\n",
       "      <td>...</td>\n",
       "      <td>...</td>\n",
       "      <td>...</td>\n",
       "      <td>...</td>\n",
       "    </tr>\n",
       "    <tr>\n",
       "      <th>455</th>\n",
       "      <td>mephaa3</td>\n",
       "      <td>36.0</td>\n",
       "      <td>Fournierella</td>\n",
       "      <td>Fournierella</td>\n",
       "      <td>0.002661</td>\n",
       "      <td>Me’Phaa</td>\n",
       "      <td>slash and burn agriculture</td>\n",
       "      <td>Mexico</td>\n",
       "      <td>https://doi.org/10.3390%2Fmicroorganisms8101594</td>\n",
       "    </tr>\n",
       "    <tr>\n",
       "      <th>456</th>\n",
       "      <td>mephaa3</td>\n",
       "      <td>11.0</td>\n",
       "      <td>Colidextribacter</td>\n",
       "      <td>Colidextribacter</td>\n",
       "      <td>0.000813</td>\n",
       "      <td>Me’Phaa</td>\n",
       "      <td>slash and burn agriculture</td>\n",
       "      <td>Mexico</td>\n",
       "      <td>https://doi.org/10.3390%2Fmicroorganisms8101594</td>\n",
       "    </tr>\n",
       "    <tr>\n",
       "      <th>457</th>\n",
       "      <td>mephaa3</td>\n",
       "      <td>24.0</td>\n",
       "      <td>Weissella</td>\n",
       "      <td>Weissella</td>\n",
       "      <td>0.001774</td>\n",
       "      <td>Me’Phaa</td>\n",
       "      <td>slash and burn agriculture</td>\n",
       "      <td>Mexico</td>\n",
       "      <td>https://doi.org/10.3390%2Fmicroorganisms8101594</td>\n",
       "    </tr>\n",
       "    <tr>\n",
       "      <th>458</th>\n",
       "      <td>mephaa3</td>\n",
       "      <td>9.0</td>\n",
       "      <td>Lactococcus</td>\n",
       "      <td>Lactococcus</td>\n",
       "      <td>0.000665</td>\n",
       "      <td>Me’Phaa</td>\n",
       "      <td>slash and burn agriculture</td>\n",
       "      <td>Mexico</td>\n",
       "      <td>https://doi.org/10.3390%2Fmicroorganisms8101594</td>\n",
       "    </tr>\n",
       "    <tr>\n",
       "      <th>459</th>\n",
       "      <td>mephaa3</td>\n",
       "      <td>24.0</td>\n",
       "      <td>Anaerotignum</td>\n",
       "      <td>Anaerotignum</td>\n",
       "      <td>0.001774</td>\n",
       "      <td>Me’Phaa</td>\n",
       "      <td>slash and burn agriculture</td>\n",
       "      <td>Mexico</td>\n",
       "      <td>https://doi.org/10.3390%2Fmicroorganisms8101594</td>\n",
       "    </tr>\n",
       "  </tbody>\n",
       "</table>\n",
       "<p>460 rows × 9 columns</p>\n",
       "</div>"
      ],
      "text/plain": [
       "    sample_id  abundance               genus                  id  relative  \\\n",
       "0    chepang1     3697.0          Prevotella          Prevotella  0.483079   \n",
       "1    chepang1       51.0    Faecalibacterium    Faecalibacterium  0.006664   \n",
       "2    chepang1     2464.0       Succinivibrio       Succinivibrio  0.321965   \n",
       "3    chepang1       27.0       Oscillibacter       Oscillibacter  0.003528   \n",
       "4    chepang1      310.0  Prevotellamassilia  Prevotellamassilia  0.040507   \n",
       "..        ...        ...                 ...                 ...       ...   \n",
       "455   mephaa3       36.0        Fournierella        Fournierella  0.002661   \n",
       "456   mephaa3       11.0    Colidextribacter    Colidextribacter  0.000813   \n",
       "457   mephaa3       24.0           Weissella           Weissella  0.001774   \n",
       "458   mephaa3        9.0         Lactococcus         Lactococcus  0.000665   \n",
       "459   mephaa3       24.0        Anaerotignum        Anaerotignum  0.001774   \n",
       "\n",
       "    ethnic_group                 subsistence country  \\\n",
       "0        Chepang  slash and burn agriculture   Nepal   \n",
       "1        Chepang  slash and burn agriculture   Nepal   \n",
       "2        Chepang  slash and burn agriculture   Nepal   \n",
       "3        Chepang  slash and burn agriculture   Nepal   \n",
       "4        Chepang  slash and burn agriculture   Nepal   \n",
       "..           ...                         ...     ...   \n",
       "455      Me’Phaa  slash and burn agriculture  Mexico   \n",
       "456      Me’Phaa  slash and burn agriculture  Mexico   \n",
       "457      Me’Phaa  slash and burn agriculture  Mexico   \n",
       "458      Me’Phaa  slash and burn agriculture  Mexico   \n",
       "459      Me’Phaa  slash and burn agriculture  Mexico   \n",
       "\n",
       "                                           reference  \n",
       "0     https://doi.org/10.1371%2Fjournal.pbio.2005396  \n",
       "1     https://doi.org/10.1371%2Fjournal.pbio.2005396  \n",
       "2     https://doi.org/10.1371%2Fjournal.pbio.2005396  \n",
       "3     https://doi.org/10.1371%2Fjournal.pbio.2005396  \n",
       "4     https://doi.org/10.1371%2Fjournal.pbio.2005396  \n",
       "..                                               ...  \n",
       "455  https://doi.org/10.3390%2Fmicroorganisms8101594  \n",
       "456  https://doi.org/10.3390%2Fmicroorganisms8101594  \n",
       "457  https://doi.org/10.3390%2Fmicroorganisms8101594  \n",
       "458  https://doi.org/10.3390%2Fmicroorganisms8101594  \n",
       "459  https://doi.org/10.3390%2Fmicroorganisms8101594  \n",
       "\n",
       "[460 rows x 9 columns]"
      ]
     },
     "execution_count": 4,
     "metadata": {},
     "output_type": "execute_result"
    }
   ],
   "source": [
    "import pandas as pd\n",
    "\n",
    "metadata = pd.read_table(\"data/metadata.tsv\").rename(columns={\"id\": \"sample_id\"})\n",
    "tax = pd.merge(tax, metadata, on=\"sample_id\")\n",
    "tax"
   ]
  },
  {
   "cell_type": "markdown",
   "metadata": {
    "id": "RTbYBR8cJfup"
   },
   "source": [
    "With our taxonmy table ready to go, and our metadata merged, its finally time to get to the model building! 🎉\n",
    "\n",
    "## Building community models\n",
    "\n",
    "With the data we have now, building our models is pretty easy. We just pass our taxonomy table and model database to MICOM. We will remove all taxa that make up less than 2.5% of the community to keep the models small and speed up this tutorial. We will also have to specify where to write the models. For simplicity, we'll run this process in parallel over two threads. It should take around 10 minutes to finish."
   ]
  },
  {
   "cell_type": "code",
   "execution_count": 6,
   "metadata": {
    "id": "XlCk7GyB7B5e"
   },
   "outputs": [
    {
     "data": {
      "application/vnd.jupyter.widget-view+json": {
       "model_id": "e336648c4cd74783914a0189c37156f8",
       "version_major": 2,
       "version_minor": 0
      },
      "text/plain": [
       "Output()"
      ]
     },
     "metadata": {},
     "output_type": "display_data"
    },
    {
     "data": {
      "text/html": [
       "<pre style=\"white-space:pre;overflow-x:auto;line-height:normal;font-family:Menlo,'DejaVu Sans Mono',consolas,'Courier New',monospace\"></pre>\n"
      ],
      "text/plain": []
     },
     "metadata": {},
     "output_type": "display_data"
    },
    {
     "data": {
      "text/html": [
       "<pre style=\"white-space:pre;overflow-x:auto;line-height:normal;font-family:Menlo,'DejaVu Sans Mono',consolas,'Courier New',monospace\">\n",
       "</pre>\n"
      ],
      "text/plain": [
       "\n"
      ]
     },
     "metadata": {},
     "output_type": "display_data"
    }
   ],
   "source": [
    "from micom.workflows import build\n",
    "from micom import Community\n",
    "import pandas as pd\n",
    "\n",
    "manifest = build(tax, \"agora103_genus.qza\", \"models\", solver=\"osqp\", \n",
    "                 cutoff=0.02, threads=2)"
   ]
  },
  {
   "cell_type": "markdown",
   "metadata": {
    "id": "Kwya6vbZZSUo"
   },
   "source": [
    "You'll see a warning pop up indicating that less than 50% of the abundances can be matched to the database. This can happen with some data, and may indicate the models may not be completely representative of the samples. We'll continue, but remember to keep an eye out for this in future projects!\n",
    "\n",
    "In lower-biomass 16S amplicon sequencing samples from stool, many reads can match to food components or to host mitochondria and these hits probably do not contribute much to bacterial community metabolism. These hits will be excluded from MICOM. \n",
    "\n",
    "Let's also take a look what we got back from the `build` process."
   ]
  },
  {
   "cell_type": "code",
   "execution_count": 7,
   "metadata": {
    "id": "r9qwglr88Ise"
   },
   "outputs": [
    {
     "data": {
      "text/html": [
       "<div>\n",
       "<style scoped>\n",
       "    .dataframe tbody tr th:only-of-type {\n",
       "        vertical-align: middle;\n",
       "    }\n",
       "\n",
       "    .dataframe tbody tr th {\n",
       "        vertical-align: top;\n",
       "    }\n",
       "\n",
       "    .dataframe thead th {\n",
       "        text-align: right;\n",
       "    }\n",
       "</style>\n",
       "<table border=\"1\" class=\"dataframe\">\n",
       "  <thead>\n",
       "    <tr style=\"text-align: right;\">\n",
       "      <th></th>\n",
       "      <th>sample_id</th>\n",
       "      <th>ethnic_group</th>\n",
       "      <th>subsistence</th>\n",
       "      <th>country</th>\n",
       "      <th>reference</th>\n",
       "      <th>file</th>\n",
       "      <th>found_taxa</th>\n",
       "      <th>total_taxa</th>\n",
       "      <th>found_fraction</th>\n",
       "      <th>found_abundance_fraction</th>\n",
       "    </tr>\n",
       "  </thead>\n",
       "  <tbody>\n",
       "    <tr>\n",
       "      <th>0</th>\n",
       "      <td>chepang1</td>\n",
       "      <td>Chepang</td>\n",
       "      <td>slash and burn agriculture</td>\n",
       "      <td>Nepal</td>\n",
       "      <td>https://doi.org/10.1371%2Fjournal.pbio.2005396</td>\n",
       "      <td>chepang1.pickle</td>\n",
       "      <td>3.0</td>\n",
       "      <td>4.0</td>\n",
       "      <td>0.750000</td>\n",
       "      <td>0.826081</td>\n",
       "    </tr>\n",
       "    <tr>\n",
       "      <th>1</th>\n",
       "      <td>chepang2</td>\n",
       "      <td>Chepang</td>\n",
       "      <td>slash and burn agriculture</td>\n",
       "      <td>Nepal</td>\n",
       "      <td>https://doi.org/10.1371%2Fjournal.pbio.2005397</td>\n",
       "      <td>chepang2.pickle</td>\n",
       "      <td>2.0</td>\n",
       "      <td>4.0</td>\n",
       "      <td>0.500000</td>\n",
       "      <td>0.542276</td>\n",
       "    </tr>\n",
       "    <tr>\n",
       "      <th>2</th>\n",
       "      <td>chepang3</td>\n",
       "      <td>Chepang</td>\n",
       "      <td>slash and burn agriculture</td>\n",
       "      <td>Nepal</td>\n",
       "      <td>https://doi.org/10.1371%2Fjournal.pbio.2005398</td>\n",
       "      <td>chepang3.pickle</td>\n",
       "      <td>4.0</td>\n",
       "      <td>5.0</td>\n",
       "      <td>0.800000</td>\n",
       "      <td>0.792876</td>\n",
       "    </tr>\n",
       "    <tr>\n",
       "      <th>3</th>\n",
       "      <td>hadza1</td>\n",
       "      <td>Hadza</td>\n",
       "      <td>Hunter-gatherer</td>\n",
       "      <td>Tanzania</td>\n",
       "      <td>https://doi.org/10.1126/science.aan4834</td>\n",
       "      <td>hadza1.pickle</td>\n",
       "      <td>4.0</td>\n",
       "      <td>9.0</td>\n",
       "      <td>0.444444</td>\n",
       "      <td>0.453719</td>\n",
       "    </tr>\n",
       "    <tr>\n",
       "      <th>4</th>\n",
       "      <td>hadza2</td>\n",
       "      <td>Hadza</td>\n",
       "      <td>Hunter-gatherer</td>\n",
       "      <td>Tanzania</td>\n",
       "      <td>https://doi.org/10.1126/science.aan4835</td>\n",
       "      <td>hadza2.pickle</td>\n",
       "      <td>7.0</td>\n",
       "      <td>11.0</td>\n",
       "      <td>0.636364</td>\n",
       "      <td>0.675815</td>\n",
       "    </tr>\n",
       "    <tr>\n",
       "      <th>5</th>\n",
       "      <td>hadza3</td>\n",
       "      <td>Hadza</td>\n",
       "      <td>Hunter-gatherer</td>\n",
       "      <td>Tanzania</td>\n",
       "      <td>https://doi.org/10.1126/science.aan4836</td>\n",
       "      <td>hadza3.pickle</td>\n",
       "      <td>6.0</td>\n",
       "      <td>9.0</td>\n",
       "      <td>0.666667</td>\n",
       "      <td>0.388652</td>\n",
       "    </tr>\n",
       "    <tr>\n",
       "      <th>6</th>\n",
       "      <td>mephaa1</td>\n",
       "      <td>Me’Phaa</td>\n",
       "      <td>slash and burn agriculture</td>\n",
       "      <td>Mexico</td>\n",
       "      <td>https://doi.org/10.3390%2Fmicroorganisms8101592</td>\n",
       "      <td>mephaa1.pickle</td>\n",
       "      <td>5.0</td>\n",
       "      <td>8.0</td>\n",
       "      <td>0.625000</td>\n",
       "      <td>0.631419</td>\n",
       "    </tr>\n",
       "    <tr>\n",
       "      <th>7</th>\n",
       "      <td>mephaa2</td>\n",
       "      <td>Me’Phaa</td>\n",
       "      <td>slash and burn agriculture</td>\n",
       "      <td>Mexico</td>\n",
       "      <td>https://doi.org/10.3390%2Fmicroorganisms8101593</td>\n",
       "      <td>mephaa2.pickle</td>\n",
       "      <td>4.0</td>\n",
       "      <td>5.0</td>\n",
       "      <td>0.800000</td>\n",
       "      <td>0.752246</td>\n",
       "    </tr>\n",
       "    <tr>\n",
       "      <th>8</th>\n",
       "      <td>mephaa3</td>\n",
       "      <td>Me’Phaa</td>\n",
       "      <td>slash and burn agriculture</td>\n",
       "      <td>Mexico</td>\n",
       "      <td>https://doi.org/10.3390%2Fmicroorganisms8101594</td>\n",
       "      <td>mephaa3.pickle</td>\n",
       "      <td>4.0</td>\n",
       "      <td>5.0</td>\n",
       "      <td>0.800000</td>\n",
       "      <td>0.757594</td>\n",
       "    </tr>\n",
       "  </tbody>\n",
       "</table>\n",
       "</div>"
      ],
      "text/plain": [
       "  sample_id ethnic_group                 subsistence   country  \\\n",
       "0  chepang1      Chepang  slash and burn agriculture     Nepal   \n",
       "1  chepang2      Chepang  slash and burn agriculture     Nepal   \n",
       "2  chepang3      Chepang  slash and burn agriculture     Nepal   \n",
       "3    hadza1        Hadza             Hunter-gatherer  Tanzania   \n",
       "4    hadza2        Hadza             Hunter-gatherer  Tanzania   \n",
       "5    hadza3        Hadza             Hunter-gatherer  Tanzania   \n",
       "6   mephaa1      Me’Phaa  slash and burn agriculture    Mexico   \n",
       "7   mephaa2      Me’Phaa  slash and burn agriculture    Mexico   \n",
       "8   mephaa3      Me’Phaa  slash and burn agriculture    Mexico   \n",
       "\n",
       "                                         reference             file  \\\n",
       "0   https://doi.org/10.1371%2Fjournal.pbio.2005396  chepang1.pickle   \n",
       "1   https://doi.org/10.1371%2Fjournal.pbio.2005397  chepang2.pickle   \n",
       "2   https://doi.org/10.1371%2Fjournal.pbio.2005398  chepang3.pickle   \n",
       "3          https://doi.org/10.1126/science.aan4834    hadza1.pickle   \n",
       "4          https://doi.org/10.1126/science.aan4835    hadza2.pickle   \n",
       "5          https://doi.org/10.1126/science.aan4836    hadza3.pickle   \n",
       "6  https://doi.org/10.3390%2Fmicroorganisms8101592   mephaa1.pickle   \n",
       "7  https://doi.org/10.3390%2Fmicroorganisms8101593   mephaa2.pickle   \n",
       "8  https://doi.org/10.3390%2Fmicroorganisms8101594   mephaa3.pickle   \n",
       "\n",
       "   found_taxa  total_taxa  found_fraction  found_abundance_fraction  \n",
       "0         3.0         4.0        0.750000                  0.826081  \n",
       "1         2.0         4.0        0.500000                  0.542276  \n",
       "2         4.0         5.0        0.800000                  0.792876  \n",
       "3         4.0         9.0        0.444444                  0.453719  \n",
       "4         7.0        11.0        0.636364                  0.675815  \n",
       "5         6.0         9.0        0.666667                  0.388652  \n",
       "6         5.0         8.0        0.625000                  0.631419  \n",
       "7         4.0         5.0        0.800000                  0.752246  \n",
       "8         4.0         5.0        0.800000                  0.757594  "
      ]
     },
     "execution_count": 7,
     "metadata": {},
     "output_type": "execute_result"
    }
   ],
   "source": [
    "manifest"
   ]
  },
  {
   "cell_type": "markdown",
   "metadata": {
    "id": "y4KAJkhIdspQ"
   },
   "source": [
    "This will tell you many taxa were found in the database and what fraction of the total abundance was represented by the database. Looks okay here. \n",
    "\n",
    "So we now have our community models and can leverage MICOM fully by simulating community growth - let's discuss what we want to look at. \n",
    "\n",
    "## Comparative Metabolomics \n",
    "\n",
    "Now that our models are ready to go, we can think about some of the insights we might gain from these samples. First and foremost, we can investigate the metabolomic response of the gut microbiome in a set of individuals from underrepresented groups in the microbiome - in these different groups, do the microbes fall into different niche spaces?\n",
    "\n",
    "Additionally, we can use MICOM to take a mechanistic look at how the microbiome of these individuals changes based on __dietary input__. That is, if we switch the diet of individuals from indigenous populations from their own traditional diet to an \"average Western Diet\", how does the metabolomic profile of the microbiome shift?\n",
    "\n",
    "All that and more, coming up. Stay tuned!\n",
    "\n",
    "\n",
    "\n",
    "\n",
    "First, we can download a sample of the \"average western diet\". "
   ]
  },
  {
   "cell_type": "code",
   "execution_count": 8,
   "metadata": {
    "id": "Xi4hZLiaPLNu"
   },
   "outputs": [
    {
     "name": "stdout",
     "output_type": "stream",
     "text": [
      "--2022-09-27 08:18:57--  https://zenodo.org/record/3755182/files/western_diet_gut.qza?download=1\n",
      "Resolving zenodo.org... 188.184.117.155\n",
      "Connecting to zenodo.org|188.184.117.155|:443... connected.\n",
      "HTTP request sent, awaiting response... 200 OK\n",
      "Length: 7173 (7.0K) [application/octet-stream]\n",
      "Saving to: ‘western_diet.qza’\n",
      "\n",
      "western_diet.qza    100%[===================>]   7.00K  --.-KB/s    in 0s      \n",
      "\n",
      "2022-09-27 08:18:59 (469 MB/s) - ‘western_diet.qza’ saved [7173/7173]\n",
      "\n"
     ]
    }
   ],
   "source": [
    "!wget -O western_diet.qza https://zenodo.org/record/3755182/files/western_diet_gut.qza?download=1"
   ]
  },
  {
   "cell_type": "markdown",
   "metadata": {
    "id": "TVWMEu4nfKdL"
   },
   "source": [
    "This is again a QIIME 2 artifact, which we can load into MICOM. Let's peek at what this diet looks like: "
   ]
  },
  {
   "cell_type": "code",
   "execution_count": 9,
   "metadata": {
    "id": "3XBGQlFnfO4W"
   },
   "outputs": [],
   "source": [
    "from micom.qiime_formats import load_qiime_medium\n",
    "\n",
    "western_medium = load_qiime_medium(\"western_diet.qza\")"
   ]
  },
  {
   "cell_type": "markdown",
   "metadata": {
    "id": "X_v09ACIUyUi"
   },
   "source": [
    "Many dietary components get absorbed in the small intestine. This medium was \n",
    "created by taking dietary components and depleting all nutrients absorbed in the small intestine by a factor of 10 (indicated by the dilution column). \n"
   ]
  },
  {
   "cell_type": "markdown",
   "metadata": {
    "id": "ENR_ptvrTtp_"
   },
   "source": [
    "Next, we'll download the traditional diet for each of our communities that we constructed by hand. Since this is a .csv file, we can read it using pandas. We'll use both these media in the coming steps. "
   ]
  },
  {
   "cell_type": "code",
   "execution_count": 10,
   "metadata": {
    "id": "7099I-AuUE8J"
   },
   "outputs": [],
   "source": [
    "traditional_medium = pd.read_csv('data/per_sample_media.csv')\n",
    "traditional_medium['flux'] = traditional_medium['flux']/10"
   ]
  },
  {
   "cell_type": "markdown",
   "metadata": {
    "id": "etrvjwBLkKdR"
   },
   "source": [
    "You'll notice that this dataframe is much longer - that's because this medium is \"per-sample\", meaning each of the nine models has it's own medium represented in the file, dependent on the traditional food of the community they live in. "
   ]
  },
  {
   "cell_type": "markdown",
   "metadata": {
    "id": "4s8R4WYUez4g"
   },
   "source": [
    "### Growing the models\n",
    "Great, now we have our media & our models, it's time to get growing. We'll grow our nine samples each twice, once on the \"average western diet\" and once on the traditional diet we constructed. This will take some time, so we'll use this opportunity to discuss more in depth what these processes do, and what to look for in the results. First, let's run the `grow()` command using the medium representing the average western diet. This will take the models we've built,and find an optimal solution to the fluxes based upon the medium that's been applied. "
   ]
  },
  {
   "cell_type": "code",
   "execution_count": null,
   "metadata": {
    "id": "l-vJJwtdRZxP"
   },
   "outputs": [
    {
     "data": {
      "application/vnd.jupyter.widget-view+json": {
       "model_id": "de6eeb1d7cc74a36b21d788713e6740a",
       "version_major": 2,
       "version_minor": 0
      },
      "text/plain": [
       "Output()"
      ]
     },
     "metadata": {},
     "output_type": "display_data"
    }
   ],
   "source": [
    "from micom.workflows import grow\n",
    "import pickle\n",
    "\n",
    "western_growth = grow(manifest, \"treasure_chest/models\", western_medium, tradeoff=0.5, threads=20)\n",
    "\n",
    "# We'll save the results to a file\n",
    "pickle.dump(western_growth, open(\"western_growth.pickle\", \"wb\"))"
   ]
  },
  {
   "cell_type": "markdown",
   "metadata": {
    "id": "3WH8VVrVS4mv"
   },
   "source": [
    "If that takes too long or was aborted, we can read it in from the treasure chest."
   ]
  },
  {
   "cell_type": "code",
   "execution_count": null,
   "metadata": {
    "id": "tZiPmdO4S-OE"
   },
   "outputs": [],
   "source": [
    "# Will only run if the previous step failed\n",
    "\n",
    "import pickle\n",
    "\n",
    "try:\n",
    "  western_growth\n",
    "except NameError:\n",
    "  western_growth = pickle.load(open(\"treasure_chest/western_growth.pickle\", \"rb\"))"
   ]
  },
  {
   "cell_type": "markdown",
   "metadata": {
    "id": "IplYO_vJWVrc"
   },
   "source": [
    "Now we'll do the same, but with the constructed medium representing the diet of these indigenous communities. "
   ]
  },
  {
   "cell_type": "code",
   "execution_count": null,
   "metadata": {
    "id": "IjDguZEcWGjG"
   },
   "outputs": [],
   "source": [
    "from micom.workflows import grow\n",
    "import pickle\n",
    "\n",
    "traditional_growth = grow(manifest, \"models\", traditional_medium, tradeoff=0.5, threads=20)\n",
    "\n",
    "# We'll save the results to a file\n",
    "pickle.dump(traditional_growth, open(\"treasure_chest/traditional_growth.pickle\", \"wb\"))"
   ]
  },
  {
   "cell_type": "markdown",
   "metadata": {
    "id": "rHedHJxHWkjy"
   },
   "source": [
    "Again, if that takes too long or was aborted, we can read it in from the treasure chest."
   ]
  },
  {
   "cell_type": "code",
   "execution_count": null,
   "metadata": {
    "id": "rcPNBkDpWGrQ"
   },
   "outputs": [],
   "source": [
    "# Will only run if the previous step failed\n",
    "\n",
    "import pickle\n",
    "\n",
    "try:\n",
    "  traditional_growth\n",
    "except NameError:\n",
    "  traditional_growth = pickle.load(open(\"treasure_chest/traditional_growth.pickle\", \"rb\"))"
   ]
  },
  {
   "cell_type": "markdown",
   "metadata": {
    "id": "69gq9QfAzqxq"
   },
   "source": [
    "What kind of results did we get? Well, `grow` returns a tuple of 3 data sets:\n",
    "\n",
    "1. The predicted growth rate for all taxa in all samples\n",
    "2. The import and export fluxes for each taxon and the external environment\n",
    "3. Annotations for the fluxes mapping to other databases\n",
    "\n",
    "The growth rates are pretty straightforward."
   ]
  },
  {
   "cell_type": "code",
   "execution_count": null,
   "metadata": {
    "id": "xHQKoxgRzqWM"
   },
   "outputs": [],
   "source": [
    "western_growth.growth_rates.groupby('sample_id').sum()"
   ]
  },
  {
   "cell_type": "markdown",
   "metadata": {
    "id": "1PuPvZq-W1-V"
   },
   "source": [
    "We can compare these growth rates to those of the second growth simulation"
   ]
  },
  {
   "cell_type": "code",
   "execution_count": null,
   "metadata": {
    "id": "lIz36dSQWyO4"
   },
   "outputs": [],
   "source": [
    "traditional_growth.growth_rates.groupby('sample_id').sum()"
   ]
  },
  {
   "cell_type": "markdown",
   "metadata": {
    "id": "F5BK7DDv0UfA"
   },
   "source": [
    "### ↔️ Exchange Fluxes \n",
    "\n",
    "More interesting are the exchange fluxes. These reactions represent the import and export of metabolites from the system Let's look at those now"
   ]
  },
  {
   "cell_type": "code",
   "execution_count": null,
   "metadata": {
    "id": "lQW2BBS10jdN"
   },
   "outputs": [],
   "source": [
    "western_growth.exchanges"
   ]
  },
  {
   "cell_type": "markdown",
   "metadata": {
    "id": "lu2RtNdlXa-j"
   },
   "source": [
    "And for the other group:"
   ]
  },
  {
   "cell_type": "code",
   "execution_count": null,
   "metadata": {
    "id": "_i-yyS5EXTbf"
   },
   "outputs": [],
   "source": [
    "traditional_growth.exchanges"
   ]
  },
  {
   "cell_type": "markdown",
   "metadata": {
    "id": "Pu5XtkUl1YG1"
   },
   "source": [
    "So we see how much of each metabolite is either consumed or produced by each taxon in each sample. `tolerance` denotes the accuracy of the solver and tells you the smallest absolute flux that is likely different form zero (i.e. substantial flux). *All of the fluxes are normalized to 1g dry weight of bacteria*. So, you can directly compare fluxes between taxa, even if they are present at very different abundances. \n",
    "\n",
    "If you're curious what the abbreviation for each of these metabolites represents, that can be found in the annotations dataframe. For instance, let's find out what `\"but[e]\"` represents. "
   ]
  },
  {
   "cell_type": "code",
   "execution_count": null,
   "metadata": {
    "id": "DphXa9hw1yxM"
   },
   "outputs": [],
   "source": [
    "anns = western_growth.annotations\n",
    "anns[anns.metabolite == \"but[e]\"]"
   ]
  },
  {
   "cell_type": "markdown",
   "metadata": {
    "id": "CImtzqRJbbGj"
   },
   "source": [
    "Butyrate! Interesting, that's an important metabolite! All of these annotations and more information at are also available at https://vmh.life maintained by Dr. Ines Thiele's lab. \n",
    "\n",
    "\n",
    "# 📊 Visualizations\n",
    "\n",
    "Let's put our these data output to use by visualizing the results. Because of the rich output of these models, it can be overwhelming to represent it all, but don't worry! There are tools in place for this already. \n",
    "\n",
    "We will use the standard visualizations included in MICOM. These tools take in the growth results we obtained before and create visualizations in standalone HTML files that bundle the plots and raw data and can be viewed directly in your browser.\n",
    "\n",
    "First, let's look at the growth rate of each taxon. "
   ]
  },
  {
   "cell_type": "code",
   "execution_count": null,
   "metadata": {
    "id": "EaplMHFLcMT7"
   },
   "outputs": [],
   "source": [
    "from micom.viz import *\n",
    "\n",
    "viz_western = plot_growth(western_growth, filename=\"western_growthrates.html\")\n",
    "viz_traditional = plot_growth(traditional_growth, filename=\"traditional_growthrates.html\")"
   ]
  },
  {
   "cell_type": "markdown",
   "metadata": {
    "id": "G1JbbKrLcVye"
   },
   "source": [
    "Normally, we could call `viz.view()` afterwards and it would open it in our web browser. However, this will not work in Colab. However, the plot function create the file `growth_rates_[DATE].html` in your `materials` folder. To open it simply download that file and view it in your browser. We can see that there are many things going on, but it's not super clear. Let's continue.\n",
    "\n",
    "## Growth niches\n",
    "\n",
    "One thing we can look at is whether individual taxa inhabit different growth niches between dietary contexts. Here we can use the `plot_exchanges_per_taxon` function to see how exchanges differ between taxa, within the groups. "
   ]
  },
  {
   "cell_type": "code",
   "execution_count": null,
   "metadata": {
    "id": "NlZrfv38esj8"
   },
   "outputs": [],
   "source": [
    "plot_exchanges_per_taxon(western_growth, perplexity=4, direction=\"import\", filename=\"western_niche.html\")\n",
    "plot_exchanges_per_taxon(traditional_growth, perplexity=4, direction=\"import\", filename=\"traditional_niche.html\")"
   ]
  },
  {
   "cell_type": "markdown",
   "metadata": {
    "id": "qXnbUCCs2yVG"
   },
   "source": [
    "\n",
    "This function projects the full set of import or export fluxes onto a two dimensional plane, and arranges taxa so that more similar flux patterns lie close together. Thus, taxa closer to one another compete for a more similar set of resources (and/or produce a more similar set of metabolites). The center of the plot signifies a more competitive nutrient space, whereas clusters on the outskirts denote more isolated niches.\n",
    "\n",
    "You can tune [TSNE parameters](https://distill.pub/2016/misread-tsne/), such as perplexity, to get a more meaningful grouping. We will lower the perplexity here since we don't have enough data.\n"
   ]
  },
  {
   "cell_type": "markdown",
   "metadata": {
    "id": "4Y_XfHkB4sO8"
   },
   "source": [
    "## Comparative Metabolomics\n",
    "\n",
    "Now let's compare the metabolomic exports between the two dietary contexts. We're interested to see how the metabolomic profile of the microbiome changes when the diet changes, as changes in diet can lead to changes in health state.  To look into this deeper, we'll concatenate the exchange results into one dataframe, transform the data and then plot the metabolite exports on a heatmap. \n",
    "\n",
    "First let's annotate each dataframe with it's medium"
   ]
  },
  {
   "cell_type": "code",
   "execution_count": null,
   "metadata": {
    "id": "yDUA4fTDwSfn"
   },
   "outputs": [],
   "source": [
    "western_growth.exchanges['diet'] = 'western'\n",
    "traditional_growth.exchanges['diet'] = 'traditional'"
   ]
  },
  {
   "cell_type": "markdown",
   "metadata": {
    "id": "pAtec3I78DJJ"
   },
   "source": [
    "Now we'll concatenate the dataframes. MICOM fluxes are returned as normalized values, so we'll have to multiply the exchange flux by the corresponding taxonomic abundance. We'll also transform the data using a centered log ratio, to compare all the fluxes against each other. "
   ]
  },
  {
   "cell_type": "code",
   "execution_count": null,
   "metadata": {
    "id": "fjqajXRwGe4g"
   },
   "outputs": [],
   "source": [
    "exports = pd.concat([western_growth.exchanges, traditional_growth.exchanges])\n",
    "exports = exports[exports.direction == \"export\"].groupby([\"diet\",\"sample_id\", \"metabolite\", \"reaction\"]).apply(\n",
    "    lambda df: sum(df.flux * df.abundance)).reset_index().rename(columns = {0:'flux'}) #multiply flux by abundance\n",
    "# plot_list = exports.groupby(['diet','sample_id','metabolite']).mean().groupby(['sample_id','metabolite']).diff().sort_values(\n",
    "#     by = 'flux').reset_index().metabolite.unique()[0:50]\n",
    "exports = pd.pivot_table(exports, index = ['diet','sample_id'], columns = 'metabolite', values = 'flux')\n",
    "exports = exports.T.fillna(0)\n",
    "exports = exports.apply(\n",
    "    lambda xs: np.log(xs + 0.001) - np.log(xs.mean() + 0.001),\n",
    "    axis=1)\n",
    "exports.reindex(exports.sum(axis = 1).sort_values().index)"
   ]
  },
  {
   "cell_type": "markdown",
   "metadata": {
    "id": "nYuc7Wu38nYd"
   },
   "source": [
    "We can use seaborn to plot our heatmap"
   ]
  },
  {
   "cell_type": "code",
   "execution_count": null,
   "metadata": {
    "id": "YHnKeFuF3qAt"
   },
   "outputs": [],
   "source": [
    "import seaborn as sns \n",
    "import numpy as np\n",
    "\n",
    "sns.set(rc = {'figure.figsize':(15,30)})\n",
    "sns.heatmap(exports.head(20), cmap = 'viridis')"
   ]
  },
  {
   "cell_type": "markdown",
   "metadata": {
    "id": "l8maOr3w2bOo"
   },
   "source": [
    "Here we see the export fluxes from the microbiome between the diet context side-by-side\n",
    "\n",
    "# 🏫 Exercises"
   ]
  },
  {
   "cell_type": "markdown",
   "metadata": {
    "id": "TqdappAU20oT"
   },
   "source": [
    "Up to now, we have mostly used MICOM's \"high-level\" API, which is designed for working with several samples in parallel. However, MICOM also allows you to work with single models. We will choose a single sample now for further analysis.\n",
    "\n",
    "First, let's recall what samples we had. "
   ]
  },
  {
   "cell_type": "code",
   "execution_count": null,
   "metadata": {
    "id": "bllnCa1O28YZ"
   },
   "outputs": [],
   "source": [
    "manifest"
   ]
  },
  {
   "cell_type": "markdown",
   "metadata": {
    "id": "VjUustQG2_bX"
   },
   "source": [
    "## Diet-Specific Interactions\n",
    "We can use the `load_pickle` funciton in MICOM to load one of the models we're interested in, and look at differences in growth between the two diets we have available. "
   ]
  },
  {
   "cell_type": "code",
   "execution_count": null,
   "metadata": {
    "id": "uh7QFi9V3HIX"
   },
   "outputs": [],
   "source": [
    "from micom import load_pickle\n",
    "from micom.qiime_formats import load_qiime_medium\n",
    "\n",
    "traditional_medium = pd.read_csv(\"data/per_sample_media.csv\")\n",
    "traditional_medium = traditional_medium[traditional_medium['sample_id'].str.contains('chepang1')]\n",
    "traditional_medium.index = traditional_medium.reaction\n",
    "\n",
    "com = load_pickle(\"models/chepang1.pickle\")\n",
    "com.medium = traditional_medium.flux\n",
    "sol = com.cooperative_tradeoff(fraction=0.5, fluxes=True, pfba=True)\n",
    "sol"
   ]
  },
  {
   "cell_type": "markdown",
   "metadata": {
    "id": "Mkpqy7yz7cJV"
   },
   "source": [
    "Go ahead and try growing this model using the other available medium (average western diet)"
   ]
  },
  {
   "cell_type": "code",
   "execution_count": null,
   "metadata": {
    "id": "8G655l0W7Zw-"
   },
   "outputs": [],
   "source": [
    "# Your code here"
   ]
  },
  {
   "cell_type": "code",
   "execution_count": null,
   "metadata": {
    "id": "5IlJ-YpUCQzp"
   },
   "outputs": [],
   "source": [
    "# Your code here"
   ]
  },
  {
   "cell_type": "markdown",
   "metadata": {
    "id": "CsqIRTbC7doD"
   },
   "source": [
    "# 🔵 Addendum\n"
   ]
  },
  {
   "cell_type": "markdown",
   "metadata": {
    "id": "hycoXNTi5xsH"
   },
   "source": [
    "## Choosing a tradeoff value\n",
    "\n",
    "Even if you don't have growth rates available you can still use your data to choose a decent tradeoff value. This can be done by choosing the largest tradeoff value that still allows growth for the majority of the taxa that you observed in the sample (if they are present at an appreciable abundance, they should be able to grow). This can be done with the `tradeoff` workflow in MICOM that will run cooperative tradeoff with varying tradeoff values, which can be visualized with the `plot_tradeoff` function."
   ]
  },
  {
   "cell_type": "code",
   "execution_count": null,
   "metadata": {
    "id": "8_1jesZTHYra"
   },
   "outputs": [],
   "source": [
    "from micom.workflows import tradeoff\n",
    "import micom\n",
    "\n",
    "tradeoff_results = tradeoff(manifest, \"models\", medium, threads=2)\n",
    "tradeoff_results.to_csv(\"tradeoff.csv\", index=False)\n",
    "\n",
    "plot_tradeoff(tradeoff_results, tolerance=1e-4)"
   ]
  },
  {
   "cell_type": "markdown",
   "metadata": {
    "id": "y9703vhK6d6c"
   },
   "source": [
    "After opeing `tradeoff_[DATE].html` you will see that, for our example here, all tradeoff values work great. This is because we modeled very few taxa, which keeps the compettion down. If you would allow for fewer abundant taxa in the models, this would change drastically. For instance, here is an example from a colorectal cancer data set:\n",
    "\n",
    "[![tradeoff example](https://micom-dev.github.io/micom/_images/tradeoff.png)](https://micom-dev.github.io/micom/_static/tradeoff.html)\n",
    "\n",
    "You can see how not using the cooperative tradeoff would give you nonsense results where only 10% of all observed taxa grew. A tradeoff value of 0.6-0.8 would probably be a good choice for this particular data set."
   ]
  }
 ],
 "metadata": {
  "colab": {
   "collapsed_sections": [],
   "include_colab_link": true,
   "provenance": []
  },
  "kernelspec": {
   "display_name": "Python 3 (ipykernel)",
   "language": "python",
   "name": "python3"
  },
  "language_info": {
   "codemirror_mode": {
    "name": "ipython",
    "version": 3
   },
   "file_extension": ".py",
   "mimetype": "text/x-python",
   "name": "python",
   "nbconvert_exporter": "python",
   "pygments_lexer": "ipython3",
   "version": "3.8.13"
  }
 },
 "nbformat": 4,
 "nbformat_minor": 4
}
