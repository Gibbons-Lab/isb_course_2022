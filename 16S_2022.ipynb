{
  "cells": [
    {
      "cell_type": "markdown",
      "metadata": {
        "id": "view-in-github",
        "colab_type": "text"
      },
      "source": [
        "<a href=\"https://colab.research.google.com/github/Gibbons-Lab/isb_course_2022/blob/main/16S_2022.ipynb\" target=\"_parent\"><img src=\"https://colab.research.google.com/assets/colab-badge.svg\" alt=\"Open In Colab\"/></a>"
      ]
    },
    {
      "cell_type": "markdown",
      "metadata": {
        "id": "nQRlv0ypvthh"
      },
      "source": [
        "# 🦠 Amplicon Sequencing Data Analysis with Qiime 2\n",
        "\n",
        "This notebook will accompany the first session of the 2022 ISB Virtual Microbiome Series. The presentation slides can be [found here](https://gibbons-lab.github.io/isb_course_2022/16S). \n",
        "\n",
        "Save your own local copy of this notebook by using `File > Save a copy in Drive`. At some point you may be prompted to trust the notebook. We promise that it is safe 🤞\n",
        "\n",
        "**Disclaimer:**\n",
        "\n",
        "The Google Colab notebook environment will interpret any command as Python code by default. If we want to run bash commands we will have to prefix them by `!`. So any command you see with a leading `!` is a bash command and if you wanted to run it in your terminal you would omit the `!`. For example, if in the Colab notebook you ran `!wget` you would just run `wget` in your terminal. \n",
        "\n",
        "## Setup\n",
        "\n",
        "QIIME 2 is usually installed by following the [official installation instructions](https://docs.qiime2.org/2022.8/install/). However, because we are using Google Colab and there are some caveats to using conda here, we will have to hack around the installation a little bit. But no worries, we provide a setup script below which does all this work for us. 😌 \n",
        "\n",
        "So...let's start by pulling a local copy of the project repository down from GitHub."
      ]
    },
    {
      "cell_type": "code",
      "execution_count": 2,
      "metadata": {
        "colab": {
          "base_uri": "https://localhost:8080/"
        },
        "id": "QFsZdvOuvZmq",
        "outputId": "c6fb9a23-91f3-4db4-ffa5-ab2528275d09"
      },
      "outputs": [
        {
          "output_type": "stream",
          "name": "stdout",
          "text": [
            "Cloning into 'materials'...\n",
            "remote: Enumerating objects: 895, done.\u001b[K\n",
            "remote: Counting objects: 100% (84/84), done.\u001b[K\n",
            "remote: Compressing objects: 100% (67/67), done.\u001b[K\n",
            "remote: Total 895 (delta 36), reused 52 (delta 17), pack-reused 811\u001b[K\n",
            "Receiving objects: 100% (895/895), 247.52 MiB | 34.98 MiB/s, done.\n",
            "Resolving deltas: 100% (338/338), done.\n",
            "Checking out files: 100% (573/573), done.\n"
          ]
        }
      ],
      "source": [
        "!git clone https://github.com/gibbons-lab/isb_course_2022 materials"
      ]
    },
    {
      "cell_type": "markdown",
      "metadata": {
        "id": "2eenIEY76mcv"
      },
      "source": [
        "We will switch to working within the `materials` directory for the rest of the notebook."
      ]
    },
    {
      "cell_type": "code",
      "execution_count": 3,
      "metadata": {
        "colab": {
          "base_uri": "https://localhost:8080/"
        },
        "id": "h3NALJ7u6mBP",
        "outputId": "da35fb20-f79d-4236-bf2f-38b3061562ac"
      },
      "outputs": [
        {
          "output_type": "stream",
          "name": "stdout",
          "text": [
            "/content/materials\n"
          ]
        }
      ],
      "source": [
        "%cd materials"
      ]
    },
    {
      "cell_type": "markdown",
      "metadata": {
        "id": "fQVnDjFauZ-n"
      },
      "source": [
        "Now we are ready to set up our environment. This will take about 10-15 minutes. \n",
        "\n",
        "**Note**: This setup is only relevant for Google Colaboratory and will not work on your local machine. Please follow the [official installation instructions](https://docs.qiime2.org/2021.8/install/) for that."
      ]
    },
    {
      "cell_type": "code",
      "execution_count": 4,
      "metadata": {
        "colab": {
          "base_uri": "https://localhost:8080/",
          "height": 272
        },
        "id": "BAyTazMCvrpf",
        "outputId": "d47ea93e-7757-4756-f35b-8e340908a5fa"
      },
      "outputs": [
        {
          "output_type": "display_data",
          "data": {
            "text/plain": [
              "\u001b[2;36m[17:32:10]\u001b[0m\u001b[2;36m \u001b[0m🐍 Downloading miniconda\u001b[33m...\u001b[0m                                                              \u001b]8;id=253421;file:///content/materials/setup_qiime2\u001b\\\u001b[2msetup_qiime2\u001b[0m\u001b]8;;\u001b\\\u001b[2m:\u001b[0m\u001b]8;id=363503;file:///content/materials/setup_qiime2#56\u001b\\\u001b[2m56\u001b[0m\u001b]8;;\u001b\\\n"
            ],
            "text/html": [
              "<pre style=\"white-space:pre;overflow-x:auto;line-height:normal;font-family:Menlo,'DejaVu Sans Mono',consolas,'Courier New',monospace\"><span style=\"color: #7fbfbf; text-decoration-color: #7fbfbf\">[17:32:10] </span>🐍 Downloading miniconda<span style=\"color: #808000; text-decoration-color: #808000\">...</span>                                                              <a href=\"file:///content/materials/setup_qiime2\" target=\"_blank\"><span style=\"color: #7f7f7f; text-decoration-color: #7f7f7f\">setup_qiime2</span></a><span style=\"color: #7f7f7f; text-decoration-color: #7f7f7f\">:</span><a href=\"file:///content/materials/setup_qiime2#56\" target=\"_blank\"><span style=\"color: #7f7f7f; text-decoration-color: #7f7f7f\">56</span></a>\n",
              "</pre>\n"
            ]
          },
          "metadata": {}
        },
        {
          "output_type": "display_data",
          "data": {
            "text/plain": [
              "\u001b[2;36m[17:32:11]\u001b[0m\u001b[2;36m \u001b[0m\u001b[34m🐍 Done.\u001b[0m                                                                                 \u001b]8;id=466668;file:///content/materials/setup_qiime2\u001b\\\u001b[2msetup_qiime2\u001b[0m\u001b]8;;\u001b\\\u001b[2m:\u001b[0m\u001b]8;id=566701;file:///content/materials/setup_qiime2#62\u001b\\\u001b[2m62\u001b[0m\u001b]8;;\u001b\\\n"
            ],
            "text/html": [
              "<pre style=\"white-space:pre;overflow-x:auto;line-height:normal;font-family:Menlo,'DejaVu Sans Mono',consolas,'Courier New',monospace\"><span style=\"color: #7fbfbf; text-decoration-color: #7fbfbf\">[17:32:11] </span><span style=\"color: #000080; text-decoration-color: #000080\">🐍 Done.</span>                                                                                 <a href=\"file:///content/materials/setup_qiime2\" target=\"_blank\"><span style=\"color: #7f7f7f; text-decoration-color: #7f7f7f\">setup_qiime2</span></a><span style=\"color: #7f7f7f; text-decoration-color: #7f7f7f\">:</span><a href=\"file:///content/materials/setup_qiime2#62\" target=\"_blank\"><span style=\"color: #7f7f7f; text-decoration-color: #7f7f7f\">62</span></a>\n",
              "</pre>\n"
            ]
          },
          "metadata": {}
        },
        {
          "output_type": "display_data",
          "data": {
            "text/plain": [
              "\u001b[2;36m          \u001b[0m\u001b[2;36m \u001b[0m🐍 Installing miniconda\u001b[33m...\u001b[0m                                                               \u001b]8;id=309328;file:///content/materials/setup_qiime2\u001b\\\u001b[2msetup_qiime2\u001b[0m\u001b]8;;\u001b\\\u001b[2m:\u001b[0m\u001b]8;id=768512;file:///content/materials/setup_qiime2#56\u001b\\\u001b[2m56\u001b[0m\u001b]8;;\u001b\\\n"
            ],
            "text/html": [
              "<pre style=\"white-space:pre;overflow-x:auto;line-height:normal;font-family:Menlo,'DejaVu Sans Mono',consolas,'Courier New',monospace\"><span style=\"color: #7fbfbf; text-decoration-color: #7fbfbf\">           </span>🐍 Installing miniconda<span style=\"color: #808000; text-decoration-color: #808000\">...</span>                                                               <a href=\"file:///content/materials/setup_qiime2\" target=\"_blank\"><span style=\"color: #7f7f7f; text-decoration-color: #7f7f7f\">setup_qiime2</span></a><span style=\"color: #7f7f7f; text-decoration-color: #7f7f7f\">:</span><a href=\"file:///content/materials/setup_qiime2#56\" target=\"_blank\"><span style=\"color: #7f7f7f; text-decoration-color: #7f7f7f\">56</span></a>\n",
              "</pre>\n"
            ]
          },
          "metadata": {}
        },
        {
          "output_type": "display_data",
          "data": {
            "text/plain": [
              "\u001b[2;36m[17:32:32]\u001b[0m\u001b[2;36m \u001b[0m\u001b[34m🐍 Installed miniconda to `\u001b[0m\u001b[34m/usr/\u001b[0m\u001b[34mlocal\u001b[0m\u001b[34m`.\u001b[0m                                                  \u001b]8;id=367207;file:///content/materials/setup_qiime2\u001b\\\u001b[2msetup_qiime2\u001b[0m\u001b]8;;\u001b\\\u001b[2m:\u001b[0m\u001b]8;id=594290;file:///content/materials/setup_qiime2#62\u001b\\\u001b[2m62\u001b[0m\u001b]8;;\u001b\\\n"
            ],
            "text/html": [
              "<pre style=\"white-space:pre;overflow-x:auto;line-height:normal;font-family:Menlo,'DejaVu Sans Mono',consolas,'Courier New',monospace\"><span style=\"color: #7fbfbf; text-decoration-color: #7fbfbf\">[17:32:32] </span><span style=\"color: #000080; text-decoration-color: #000080\">🐍 Installed miniconda to `/usr/local`.</span>                                                  <a href=\"file:///content/materials/setup_qiime2\" target=\"_blank\"><span style=\"color: #7f7f7f; text-decoration-color: #7f7f7f\">setup_qiime2</span></a><span style=\"color: #7f7f7f; text-decoration-color: #7f7f7f\">:</span><a href=\"file:///content/materials/setup_qiime2#62\" target=\"_blank\"><span style=\"color: #7f7f7f; text-decoration-color: #7f7f7f\">62</span></a>\n",
              "</pre>\n"
            ]
          },
          "metadata": {}
        },
        {
          "output_type": "display_data",
          "data": {
            "text/plain": [
              "\u001b[2;36m          \u001b[0m\u001b[2;36m \u001b[0m🔍 Downloading Qiime \u001b[1;36m2\u001b[0m package list\u001b[33m...\u001b[0m                                                   \u001b]8;id=314605;file:///content/materials/setup_qiime2\u001b\\\u001b[2msetup_qiime2\u001b[0m\u001b]8;;\u001b\\\u001b[2m:\u001b[0m\u001b]8;id=634035;file:///content/materials/setup_qiime2#56\u001b\\\u001b[2m56\u001b[0m\u001b]8;;\u001b\\\n"
            ],
            "text/html": [
              "<pre style=\"white-space:pre;overflow-x:auto;line-height:normal;font-family:Menlo,'DejaVu Sans Mono',consolas,'Courier New',monospace\"><span style=\"color: #7fbfbf; text-decoration-color: #7fbfbf\">           </span>🔍 Downloading Qiime <span style=\"color: #008080; text-decoration-color: #008080; font-weight: bold\">2</span> package list<span style=\"color: #808000; text-decoration-color: #808000\">...</span>                                                   <a href=\"file:///content/materials/setup_qiime2\" target=\"_blank\"><span style=\"color: #7f7f7f; text-decoration-color: #7f7f7f\">setup_qiime2</span></a><span style=\"color: #7f7f7f; text-decoration-color: #7f7f7f\">:</span><a href=\"file:///content/materials/setup_qiime2#56\" target=\"_blank\"><span style=\"color: #7f7f7f; text-decoration-color: #7f7f7f\">56</span></a>\n",
              "</pre>\n"
            ]
          },
          "metadata": {}
        },
        {
          "output_type": "display_data",
          "data": {
            "text/plain": [
              "\u001b[2;36m          \u001b[0m\u001b[2;36m \u001b[0m\u001b[34m🔍 Done.\u001b[0m                                                                                 \u001b]8;id=557867;file:///content/materials/setup_qiime2\u001b\\\u001b[2msetup_qiime2\u001b[0m\u001b]8;;\u001b\\\u001b[2m:\u001b[0m\u001b]8;id=460392;file:///content/materials/setup_qiime2#62\u001b\\\u001b[2m62\u001b[0m\u001b]8;;\u001b\\\n"
            ],
            "text/html": [
              "<pre style=\"white-space:pre;overflow-x:auto;line-height:normal;font-family:Menlo,'DejaVu Sans Mono',consolas,'Courier New',monospace\"><span style=\"color: #7fbfbf; text-decoration-color: #7fbfbf\">           </span><span style=\"color: #000080; text-decoration-color: #000080\">🔍 Done.</span>                                                                                 <a href=\"file:///content/materials/setup_qiime2\" target=\"_blank\"><span style=\"color: #7f7f7f; text-decoration-color: #7f7f7f\">setup_qiime2</span></a><span style=\"color: #7f7f7f; text-decoration-color: #7f7f7f\">:</span><a href=\"file:///content/materials/setup_qiime2#62\" target=\"_blank\"><span style=\"color: #7f7f7f; text-decoration-color: #7f7f7f\">62</span></a>\n",
              "</pre>\n"
            ]
          },
          "metadata": {}
        },
        {
          "output_type": "display_data",
          "data": {
            "text/plain": [
              "\u001b[2;36m          \u001b[0m\u001b[2;36m \u001b[0m🔍 Installing Qiime \u001b[1;36m2\u001b[0m. This may take a little bit.                                       \u001b]8;id=36174;file:///content/materials/setup_qiime2\u001b\\\u001b[2msetup_qiime2\u001b[0m\u001b]8;;\u001b\\\u001b[2m:\u001b[0m\u001b]8;id=486420;file:///content/materials/setup_qiime2#56\u001b\\\u001b[2m56\u001b[0m\u001b]8;;\u001b\\\n",
              "\u001b[2;36m           \u001b[0m 🕐                                                                                      \u001b[2m               \u001b[0m\n"
            ],
            "text/html": [
              "<pre style=\"white-space:pre;overflow-x:auto;line-height:normal;font-family:Menlo,'DejaVu Sans Mono',consolas,'Courier New',monospace\"><span style=\"color: #7fbfbf; text-decoration-color: #7fbfbf\">           </span>🔍 Installing Qiime <span style=\"color: #008080; text-decoration-color: #008080; font-weight: bold\">2</span>. This may take a little bit.                                       <a href=\"file:///content/materials/setup_qiime2\" target=\"_blank\"><span style=\"color: #7f7f7f; text-decoration-color: #7f7f7f\">setup_qiime2</span></a><span style=\"color: #7f7f7f; text-decoration-color: #7f7f7f\">:</span><a href=\"file:///content/materials/setup_qiime2#56\" target=\"_blank\"><span style=\"color: #7f7f7f; text-decoration-color: #7f7f7f\">56</span></a>\n",
              "<span style=\"color: #7fbfbf; text-decoration-color: #7fbfbf\">           </span> 🕐                                                                                      <span style=\"color: #7f7f7f; text-decoration-color: #7f7f7f\">               </span>\n",
              "</pre>\n"
            ]
          },
          "metadata": {}
        },
        {
          "output_type": "display_data",
          "data": {
            "text/plain": [
              "\u001b[2;36m[17:41:37]\u001b[0m\u001b[2;36m \u001b[0m\u001b[34m🔍 Done.\u001b[0m                                                                                 \u001b]8;id=142396;file:///content/materials/setup_qiime2\u001b\\\u001b[2msetup_qiime2\u001b[0m\u001b]8;;\u001b\\\u001b[2m:\u001b[0m\u001b]8;id=960602;file:///content/materials/setup_qiime2#62\u001b\\\u001b[2m62\u001b[0m\u001b]8;;\u001b\\\n"
            ],
            "text/html": [
              "<pre style=\"white-space:pre;overflow-x:auto;line-height:normal;font-family:Menlo,'DejaVu Sans Mono',consolas,'Courier New',monospace\"><span style=\"color: #7fbfbf; text-decoration-color: #7fbfbf\">[17:41:37] </span><span style=\"color: #000080; text-decoration-color: #000080\">🔍 Done.</span>                                                                                 <a href=\"file:///content/materials/setup_qiime2\" target=\"_blank\"><span style=\"color: #7f7f7f; text-decoration-color: #7f7f7f\">setup_qiime2</span></a><span style=\"color: #7f7f7f; text-decoration-color: #7f7f7f\">:</span><a href=\"file:///content/materials/setup_qiime2#62\" target=\"_blank\"><span style=\"color: #7f7f7f; text-decoration-color: #7f7f7f\">62</span></a>\n",
              "</pre>\n"
            ]
          },
          "metadata": {}
        },
        {
          "output_type": "display_data",
          "data": {
            "text/plain": [
              "\u001b[2;36m          \u001b[0m\u001b[2;36m \u001b[0m🌲 Installing Empress\u001b[33m...\u001b[0m                                                                 \u001b]8;id=992062;file:///content/materials/setup_qiime2\u001b\\\u001b[2msetup_qiime2\u001b[0m\u001b]8;;\u001b\\\u001b[2m:\u001b[0m\u001b]8;id=605878;file:///content/materials/setup_qiime2#56\u001b\\\u001b[2m56\u001b[0m\u001b]8;;\u001b\\\n"
            ],
            "text/html": [
              "<pre style=\"white-space:pre;overflow-x:auto;line-height:normal;font-family:Menlo,'DejaVu Sans Mono',consolas,'Courier New',monospace\"><span style=\"color: #7fbfbf; text-decoration-color: #7fbfbf\">           </span>🌲 Installing Empress<span style=\"color: #808000; text-decoration-color: #808000\">...</span>                                                                 <a href=\"file:///content/materials/setup_qiime2\" target=\"_blank\"><span style=\"color: #7f7f7f; text-decoration-color: #7f7f7f\">setup_qiime2</span></a><span style=\"color: #7f7f7f; text-decoration-color: #7f7f7f\">:</span><a href=\"file:///content/materials/setup_qiime2#56\" target=\"_blank\"><span style=\"color: #7f7f7f; text-decoration-color: #7f7f7f\">56</span></a>\n",
              "</pre>\n"
            ]
          },
          "metadata": {}
        },
        {
          "output_type": "display_data",
          "data": {
            "text/plain": [
              "\u001b[2;36m[17:41:40]\u001b[0m\u001b[2;36m \u001b[0m\u001b[34m🌲 Done.\u001b[0m                                                                                 \u001b]8;id=169491;file:///content/materials/setup_qiime2\u001b\\\u001b[2msetup_qiime2\u001b[0m\u001b]8;;\u001b\\\u001b[2m:\u001b[0m\u001b]8;id=395187;file:///content/materials/setup_qiime2#62\u001b\\\u001b[2m62\u001b[0m\u001b]8;;\u001b\\\n"
            ],
            "text/html": [
              "<pre style=\"white-space:pre;overflow-x:auto;line-height:normal;font-family:Menlo,'DejaVu Sans Mono',consolas,'Courier New',monospace\"><span style=\"color: #7fbfbf; text-decoration-color: #7fbfbf\">[17:41:40] </span><span style=\"color: #000080; text-decoration-color: #000080\">🌲 Done.</span>                                                                                 <a href=\"file:///content/materials/setup_qiime2\" target=\"_blank\"><span style=\"color: #7f7f7f; text-decoration-color: #7f7f7f\">setup_qiime2</span></a><span style=\"color: #7f7f7f; text-decoration-color: #7f7f7f\">:</span><a href=\"file:///content/materials/setup_qiime2#62\" target=\"_blank\"><span style=\"color: #7f7f7f; text-decoration-color: #7f7f7f\">62</span></a>\n",
              "</pre>\n"
            ]
          },
          "metadata": {}
        },
        {
          "output_type": "display_data",
          "data": {
            "text/plain": [
              "\u001b[2;36m          \u001b[0m\u001b[2;36m \u001b[0m📊 Checking that Qiime \u001b[1;36m2\u001b[0m command line works\u001b[33m...\u001b[0m                                           \u001b]8;id=13372;file:///content/materials/setup_qiime2\u001b\\\u001b[2msetup_qiime2\u001b[0m\u001b]8;;\u001b\\\u001b[2m:\u001b[0m\u001b]8;id=466955;file:///content/materials/setup_qiime2#56\u001b\\\u001b[2m56\u001b[0m\u001b]8;;\u001b\\\n"
            ],
            "text/html": [
              "<pre style=\"white-space:pre;overflow-x:auto;line-height:normal;font-family:Menlo,'DejaVu Sans Mono',consolas,'Courier New',monospace\"><span style=\"color: #7fbfbf; text-decoration-color: #7fbfbf\">           </span>📊 Checking that Qiime <span style=\"color: #008080; text-decoration-color: #008080; font-weight: bold\">2</span> command line works<span style=\"color: #808000; text-decoration-color: #808000\">...</span>                                           <a href=\"file:///content/materials/setup_qiime2\" target=\"_blank\"><span style=\"color: #7f7f7f; text-decoration-color: #7f7f7f\">setup_qiime2</span></a><span style=\"color: #7f7f7f; text-decoration-color: #7f7f7f\">:</span><a href=\"file:///content/materials/setup_qiime2#56\" target=\"_blank\"><span style=\"color: #7f7f7f; text-decoration-color: #7f7f7f\">56</span></a>\n",
              "</pre>\n"
            ]
          },
          "metadata": {}
        },
        {
          "output_type": "display_data",
          "data": {
            "text/plain": [
              "\u001b[2;36m[17:41:51]\u001b[0m\u001b[2;36m \u001b[0m\u001b[34m📊 Qiime \u001b[0m\u001b[1;34m2\u001b[0m\u001b[34m command line looks good 🎉\u001b[0m                                                    \u001b]8;id=761802;file:///content/materials/setup_qiime2\u001b\\\u001b[2msetup_qiime2\u001b[0m\u001b]8;;\u001b\\\u001b[2m:\u001b[0m\u001b]8;id=826667;file:///content/materials/setup_qiime2#62\u001b\\\u001b[2m62\u001b[0m\u001b]8;;\u001b\\\n"
            ],
            "text/html": [
              "<pre style=\"white-space:pre;overflow-x:auto;line-height:normal;font-family:Menlo,'DejaVu Sans Mono',consolas,'Courier New',monospace\"><span style=\"color: #7fbfbf; text-decoration-color: #7fbfbf\">[17:41:51] </span><span style=\"color: #000080; text-decoration-color: #000080\">📊 Qiime </span><span style=\"color: #000080; text-decoration-color: #000080; font-weight: bold\">2</span><span style=\"color: #000080; text-decoration-color: #000080\"> command line looks good 🎉</span>                                                    <a href=\"file:///content/materials/setup_qiime2\" target=\"_blank\"><span style=\"color: #7f7f7f; text-decoration-color: #7f7f7f\">setup_qiime2</span></a><span style=\"color: #7f7f7f; text-decoration-color: #7f7f7f\">:</span><a href=\"file:///content/materials/setup_qiime2#62\" target=\"_blank\"><span style=\"color: #7f7f7f; text-decoration-color: #7f7f7f\">62</span></a>\n",
              "</pre>\n"
            ]
          },
          "metadata": {}
        },
        {
          "output_type": "display_data",
          "data": {
            "text/plain": [
              "\u001b[2;36m          \u001b[0m\u001b[2;36m \u001b[0m🧹 Cleaned up unneeded files.                                                            \u001b]8;id=951100;file:///content/materials/setup_qiime2\u001b\\\u001b[2msetup_qiime2\u001b[0m\u001b]8;;\u001b\\\u001b[2m:\u001b[0m\u001b]8;id=679590;file:///content/materials/setup_qiime2#51\u001b\\\u001b[2m51\u001b[0m\u001b]8;;\u001b\\\n"
            ],
            "text/html": [
              "<pre style=\"white-space:pre;overflow-x:auto;line-height:normal;font-family:Menlo,'DejaVu Sans Mono',consolas,'Courier New',monospace\"><span style=\"color: #7fbfbf; text-decoration-color: #7fbfbf\">           </span>🧹 Cleaned up unneeded files.                                                            <a href=\"file:///content/materials/setup_qiime2\" target=\"_blank\"><span style=\"color: #7f7f7f; text-decoration-color: #7f7f7f\">setup_qiime2</span></a><span style=\"color: #7f7f7f; text-decoration-color: #7f7f7f\">:</span><a href=\"file:///content/materials/setup_qiime2#51\" target=\"_blank\"><span style=\"color: #7f7f7f; text-decoration-color: #7f7f7f\">51</span></a>\n",
              "</pre>\n"
            ]
          },
          "metadata": {}
        },
        {
          "output_type": "display_data",
          "data": {
            "text/plain": [
              "\u001b[2;36m          \u001b[0m\u001b[2;36m \u001b[0m\u001b[32mEverything is A-OK. You can start using Qiime \u001b[0m\u001b[1;32m2\u001b[0m\u001b[32m now 👍\u001b[0m                                  \u001b]8;id=647356;file:///content/materials/setup_qiime2\u001b\\\u001b[2msetup_qiime2\u001b[0m\u001b]8;;\u001b\\\u001b[2m:\u001b[0m\u001b]8;id=435881;file:///content/materials/setup_qiime2#159\u001b\\\u001b[2m159\u001b[0m\u001b]8;;\u001b\\\n"
            ],
            "text/html": [
              "<pre style=\"white-space:pre;overflow-x:auto;line-height:normal;font-family:Menlo,'DejaVu Sans Mono',consolas,'Courier New',monospace\"><span style=\"color: #7fbfbf; text-decoration-color: #7fbfbf\">           </span><span style=\"color: #008000; text-decoration-color: #008000\">Everything is A-OK. You can start using Qiime </span><span style=\"color: #008000; text-decoration-color: #008000; font-weight: bold\">2</span><span style=\"color: #008000; text-decoration-color: #008000\"> now 👍</span>                                  <a href=\"file:///content/materials/setup_qiime2\" target=\"_blank\"><span style=\"color: #7f7f7f; text-decoration-color: #7f7f7f\">setup_qiime2</span></a><span style=\"color: #7f7f7f; text-decoration-color: #7f7f7f\">:</span><a href=\"file:///content/materials/setup_qiime2#159\" target=\"_blank\"><span style=\"color: #7f7f7f; text-decoration-color: #7f7f7f\">159</span></a>\n",
              "</pre>\n"
            ]
          },
          "metadata": {}
        }
      ],
      "source": [
        "%run setup_qiime2"
      ]
    },
    {
      "cell_type": "markdown",
      "metadata": {
        "id": "BGWsqUfq5oSi"
      },
      "source": [
        "---\n",
        "\n",
        "While this is running let's get back to the presentation. 📚\n",
        "\n",
        "---\n",
        "\n",
        "<br>\n",
        "\n",
        "## Our first QIIME 2 command\n",
        "\n",
        "Let's remember our workflow for today.\n",
        "\n",
        "![our workflow](https://github.com/Gibbons-Lab/isb_course_2022/raw/main/docs/16S/assets/steps.png)\n",
        "\n",
        "The first thing we have to do is to get the data into an 'artifact'.\n",
        "We can import the data with the `import` action from the tools. For that we have to give\n",
        "QIIME 2 a *manifest* (list of raw files) and tell it what *type of data* we\n",
        "are importing and what *type of artifact* we want. \n",
        "\n",
        "**QoL Tip:** QIIME 2 commands can get very long. To split them up over several lines we can use `\\` which means \"continue on the next line\"."
      ]
    },
    {
      "cell_type": "code",
      "execution_count": 5,
      "metadata": {
        "id": "6mGgUrRf5pyb",
        "colab": {
          "base_uri": "https://localhost:8080/"
        },
        "outputId": "2e8b7d70-9eab-4e37-ebba-d1b5b43ecd72"
      },
      "outputs": [
        {
          "output_type": "stream",
          "name": "stdout",
          "text": [
            "\u001b[32mImported data/manifest.tsv as PairedEndFastqManifestPhred33V2 to sequences.qza\u001b[0m\n",
            "\u001b[0m"
          ]
        }
      ],
      "source": [
        "!qiime tools import \\\n",
        "  --type 'SampleData[PairedEndSequencesWithQuality]' \\\n",
        "  --input-path data/manifest.tsv \\\n",
        "  --output-path sequences.qza \\\n",
        "  --input-format PairedEndFastqManifestPhred33V2"
      ]
    },
    {
      "cell_type": "markdown",
      "metadata": {
        "id": "lw7TmzbiAoLj"
      },
      "source": [
        "Since we have quality information for the sequencing reads, let's also generate\n",
        "our first visualization to inspect sequence quality. \n",
        "\n",
        "---\n",
        "\n",
        "Qiime 2 commands can become pretty long. Here are some pointers to remember the\n",
        "structure of a command:\n",
        "\n",
        "```\n",
        "qiime plugin action --i-argument1 ... --o-argument2 ...\n",
        "```\n",
        "\n",
        "Argument types usually begin with a letter denoting their meaning:\n",
        "\n",
        "- `--i-...` = input files\n",
        "- `--o-...` = output files\n",
        "- `--p-...` = parameters\n",
        "- `--m-...` = metadata\n",
        "\n",
        "---\n",
        "\n",
        "In this case we will use the `summarize` action from the `demux` plugin with the previously generated artifact as input and output the resulting visualization to the `qualities.qzv` file."
      ]
    },
    {
      "cell_type": "code",
      "execution_count": 6,
      "metadata": {
        "id": "feGa41cEApGs",
        "colab": {
          "base_uri": "https://localhost:8080/"
        },
        "outputId": "6b0aebb3-ec8e-4ee6-8d29-8220c59264cd"
      },
      "outputs": [
        {
          "output_type": "stream",
          "name": "stdout",
          "text": [
            "\u001b[32mSaved Visualization to: qualities.qzv\u001b[0m\n",
            "\u001b[0m"
          ]
        }
      ],
      "source": [
        "!qiime demux summarize --i-data sequences.qza --o-visualization qualities.qzv"
      ]
    },
    {
      "cell_type": "markdown",
      "metadata": {
        "id": "O2GenFy3C8gu"
      },
      "source": [
        "You can view the plot by downloading the .qzv file and opening it using http://view.qiime2.org. To download the file click on the folder symbol to the left, open the `materials` folder, and choose download from the dot menu next to the `qualities.qzv` file.\n",
        "\n",
        "🤔 What do you observe across the read? Where would you truncate the reads?"
      ]
    },
    {
      "cell_type": "markdown",
      "metadata": {
        "id": "os5MeRvLIq0v"
      },
      "source": [
        "# Denoising amplicon sequence variants\n",
        "\n",
        "We will now run the DADA2 plugin which will do 3 things:\n",
        "\n",
        "1. filter and trim the reads\n",
        "2. find the most likely set of unique sequences in the sample (ASVs)\n",
        "3. remove chimeras\n",
        "4. count the abundances of each ASV\n",
        "\n",
        "\n",
        "Since this step takes a bit, let's start the process and use the time to\n",
        "understand what is happening:"
      ]
    },
    {
      "cell_type": "code",
      "execution_count": 7,
      "metadata": {
        "id": "RdLSMp9-Dl-d",
        "colab": {
          "base_uri": "https://localhost:8080/"
        },
        "outputId": "5e914a69-1afa-446c-8b1f-bcecbfb71d9b"
      },
      "outputs": [
        {
          "output_type": "stream",
          "name": "stdout",
          "text": [
            "Running external command line application(s). This may print messages to stdout and/or stderr.\n",
            "The command(s) being run are below. These commands cannot be manually re-run as they will depend on temporary files that no longer exist.\n",
            "\n",
            "Command: run_dada.R --input_directory /tmp/tmpz2scojl2/forward --input_directory_reverse /tmp/tmpz2scojl2/reverse --output_path /tmp/tmpz2scojl2/output.tsv.biom --output_track /tmp/tmpz2scojl2/track.tsv --filtered_directory /tmp/tmpz2scojl2/filt_f --filtered_directory_reverse /tmp/tmpz2scojl2/filt_r --truncation_length 150 --truncation_length_reverse 150 --trim_left 0 --trim_left_reverse 0 --max_expected_errors 2.0 --max_expected_errors_reverse 2.0 --truncation_quality_score 2 --min_overlap 12 --pooling_method independent --chimera_method consensus --min_parental_fold 1.0 --allow_one_off False --num_threads 2 --learn_min_reads 1000000\n",
            "\n",
            "R version 4.1.3 (2022-03-10) \n",
            "Loading required package: Rcpp\n",
            "\u001b[?25hDADA2: 1.22.0 / Rcpp: 1.0.9 / RcppParallel: 5.1.5 \n",
            "\u001b[?25h\u001b[?25h2) Filtering \u001b[?25h\u001b[?25h.........\u001b[?25h\u001b[?25h\u001b[?25h\n",
            "\u001b[?25h\u001b[?25h3) Learning Error Rates\n",
            "\u001b[?25h26887650 total bases in 179251 reads from 9 samples will be used for learning the error rates.\n",
            "26887650 total bases in 179251 reads from 9 samples will be used for learning the error rates.\n",
            "\u001b[?25h3) Denoise samples .........\n",
            ".........\n",
            "\u001b[?25h5) Remove chimeras (method = consensus)\n",
            "\u001b[?25h\u001b[?25h6) Report read numbers through the pipeline\n",
            "\u001b[?25h\u001b[?25h7) Write output\n",
            "\u001b[?25h\u001b[?25h\u001b[?25h\u001b[?25h\u001b[?25h\u001b[?25h\u001b[?25h\u001b[32mSaved FeatureTable[Frequency] to: dada2/table.qza\u001b[0m\n",
            "\u001b[32mSaved FeatureData[Sequence] to: dada2/representative_sequences.qza\u001b[0m\n",
            "\u001b[32mSaved SampleData[DADA2Stats] to: dada2/denoising_stats.qza\u001b[0m\n",
            "\u001b[0m"
          ]
        }
      ],
      "source": [
        "!qiime dada2 denoise-paired \\\n",
        "    --i-demultiplexed-seqs sequences.qza \\\n",
        "    --p-trunc-len-f 150 \\\n",
        "    --p-trunc-len-r 150 \\\n",
        "    --p-n-threads 2 \\\n",
        "    --output-dir dada2 --verbose"
      ]
    },
    {
      "cell_type": "markdown",
      "metadata": {
        "id": "aFpQQ5GHdbzX"
      },
      "source": [
        "---\n",
        "\n",
        "While this is running let's get back to the presentation. 📚\n",
        "\n",
        "---\n",
        "\n",
        "<br>\n",
        "\n",
        "\n",
        "If this step takes too long or fails, you can also copy the results from the treasure chest with the following command."
      ]
    },
    {
      "cell_type": "code",
      "execution_count": 8,
      "metadata": {
        "id": "PFrfo-uCdoRz"
      },
      "outputs": [],
      "source": [
        "# obscure magic that will only copy if the previous command failed\n",
        "![ -d dada2 ] || cp -r treasure_chest/dada2 ."
      ]
    },
    {
      "cell_type": "markdown",
      "metadata": {
        "id": "4YzrovxVj7U_"
      },
      "source": [
        "Ok, this step ran, but we should also make sure it kind of worked. One good way to tell if the identified ASVs are representative of the sample is to see how many reads were maintained throughout the pipeline. Here, the most common issues and solutions are:\n",
        "\n",
        "**Large fraction of reads is lost during merging (only paired-end)**\n",
        "\n",
        "![read overlap](https://gibbons-lab.github.io/isb_course_2022/16S/assets/read_overlap.png)\n",
        "\n",
        "In order to merge ASVs DADA2 uses an overlap of 12 bases between forward and reverse reads by default. Thus, your reads must allow for sufficient overlap *after* trimming. So if your amplified region is 450bp long and you have 2x250bp reads and you trim the last 30 bases of each read, truncating the length to 220bp, the total length of covered sequence is 2x220 = 440 which is shorter than 450bp so there will be no overlap. To solve this issue trim less of the reads or adjust the `--p-min-overlap` parameters to something lower (but not too low).\n",
        "\n",
        "<br>\n",
        "\n",
        "**Most of the reads are lost as chimeric**\n",
        "\n",
        "![read overlap](https://gibbons-lab.github.io/isb_course_2022/16S/assets/chimera.png)\n",
        "\n",
        "This is usually an experimental issue as chimeras are introduced during amplification. If you can adjust your PCR, try to run fewer cycles. Chimeras can also be introduced by incorrect merging. If your minimum overlap is too small ASVs may be merged randomly. Possible fixes are to increase the `--p-min-overlap` parameter or run the analysis on the forward reads only (in our empirical observations, chimeras are more likely to be introduced in the joined reads). *However, losing between 5-25% of your reads to chimeras is normal and does not require any adjustments.*\n",
        "\n",
        "Our denoising stats are contained in an artifact. To convert it to a visualization we can use `qiime metadata tabulate`."
      ]
    },
    {
      "cell_type": "code",
      "execution_count": 9,
      "metadata": {
        "id": "n_Tr3Ujcj61w",
        "colab": {
          "base_uri": "https://localhost:8080/"
        },
        "outputId": "94795b44-a934-4d23-f2c0-12ad5e38e4ea"
      },
      "outputs": [
        {
          "output_type": "stream",
          "name": "stdout",
          "text": [
            "\u001b[32mSaved Visualization to: dada2/denoising-stats.qzv\u001b[0m\n",
            "\u001b[0m"
          ]
        }
      ],
      "source": [
        "!qiime metadata tabulate \\\n",
        "    --m-input-file dada2/denoising_stats.qza \\\n",
        "    --o-visualization dada2/denoising-stats.qzv"
      ]
    },
    {
      "cell_type": "markdown",
      "metadata": {
        "id": "o75g7DSO2tu5"
      },
      "source": [
        "What proprotion of reads was retained throughout the entire pipeline? Look at the final number of used reads (non-chimeric). What do you observe when comparing those values between samples and how might that affect diversity metrics?"
      ]
    },
    {
      "cell_type": "markdown",
      "metadata": {
        "id": "c0ZV3_sGQ20u"
      },
      "source": [
        "# Phylogeny and ecological diversity metrics"
      ]
    },
    {
      "cell_type": "markdown",
      "metadata": {
        "id": "aEit8p7V9Ht9"
      },
      "source": [
        "## Building a tree\n",
        "\n",
        "We can build a phylogenetic tree for our sequences using the following command:"
      ]
    },
    {
      "cell_type": "code",
      "execution_count": 10,
      "metadata": {
        "id": "2PVNlD0g9MsX",
        "colab": {
          "base_uri": "https://localhost:8080/"
        },
        "outputId": "24175f6d-9d0f-484c-f08d-31d5686ba634"
      },
      "outputs": [
        {
          "output_type": "stream",
          "name": "stdout",
          "text": [
            "\u001b[32mSaved FeatureData[AlignedSequence] to: tree/alignment.qza\u001b[0m\n",
            "\u001b[32mSaved FeatureData[AlignedSequence] to: tree/masked_alignment.qza\u001b[0m\n",
            "\u001b[32mSaved Phylogeny[Unrooted] to: tree/tree.qza\u001b[0m\n",
            "\u001b[32mSaved Phylogeny[Rooted] to: tree/rooted_tree.qza\u001b[0m\n",
            "\u001b[0m"
          ]
        }
      ],
      "source": [
        "!qiime phylogeny align-to-tree-mafft-fasttree \\\n",
        "    --i-sequences dada2/representative_sequences.qza \\\n",
        "    --output-dir tree"
      ]
    },
    {
      "cell_type": "markdown",
      "metadata": {
        "id": "4lB8NI0IiJgk"
      },
      "source": [
        "We can create a visualization for the tree using the [empress](https://github.com/biocore/empress) Qiime 2 plugin."
      ]
    },
    {
      "cell_type": "code",
      "execution_count": 11,
      "metadata": {
        "id": "cSS_y3Kligrc",
        "colab": {
          "base_uri": "https://localhost:8080/"
        },
        "outputId": "75de7137-95a1-4189-d488-1f4df8450952"
      },
      "outputs": [
        {
          "output_type": "stream",
          "name": "stdout",
          "text": [
            "\u001b[32mSaved Visualization to: tree/empress.qzv\u001b[0m\n",
            "\u001b[0m"
          ]
        }
      ],
      "source": [
        "!qiime empress tree-plot \\\n",
        "    --i-tree tree/rooted_tree.qza \\\n",
        "    --o-visualization tree/empress.qzv"
      ]
    },
    {
      "cell_type": "markdown",
      "metadata": {
        "id": "UmxTRou99a_n"
      },
      "source": [
        "This looks nice but is not particularly informative as is. The main utility of our tree will be in complementing our diversity analyses. It will tell us which ASVs are more or less related to one another, which will allow us to calculate different kinds of ecological diversity metrics. But what are those?\n",
        "\n",
        "---\n",
        "\n",
        "Let's get back to the presentation. 📚\n",
        "\n",
        "---\n",
        "\n",
        "<br>\n",
        "\n",
        "## Alpha and Beta Diversity\n",
        "\n",
        "![sample sources](https://github.com/Gibbons-Lab/isb_course_2022/raw/main/docs/16S/assets/sample_sources.png)\n",
        "\n",
        "One of our main goals will be to compare the microbial composition across different populations. QIIME 2 has \"run-all\" command for diversity analyses. This will\n",
        "\n",
        "1. Subsample our samples to the same total number of reads (Why?) \n",
        "2. Calculate alpha and beta diversity measures\n",
        "3. Visualize PCoA projections"
      ]
    },
    {
      "cell_type": "markdown",
      "metadata": {
        "id": "p-uZBNVX-y2L"
      },
      "source": [
        "## Statistical analyses\n",
        "\n",
        "Let's first have a look at alpha diversity. Can we see a difference in the per-sample diversity across populations? "
      ]
    },
    {
      "cell_type": "code",
      "execution_count": 12,
      "metadata": {
        "id": "0js6xHuw-NqF",
        "colab": {
          "base_uri": "https://localhost:8080/"
        },
        "outputId": "db3c1557-c35f-48e4-91ca-978f10e913fa"
      },
      "outputs": [
        {
          "output_type": "stream",
          "name": "stdout",
          "text": [
            "\u001b[32mSaved FeatureTable[Frequency] to: diversity/rarefied_table.qza\u001b[0m\n",
            "\u001b[32mSaved SampleData[AlphaDiversity] to: diversity/faith_pd_vector.qza\u001b[0m\n",
            "\u001b[32mSaved SampleData[AlphaDiversity] to: diversity/observed_features_vector.qza\u001b[0m\n",
            "\u001b[32mSaved SampleData[AlphaDiversity] to: diversity/shannon_vector.qza\u001b[0m\n",
            "\u001b[32mSaved SampleData[AlphaDiversity] to: diversity/evenness_vector.qza\u001b[0m\n",
            "\u001b[32mSaved DistanceMatrix to: diversity/unweighted_unifrac_distance_matrix.qza\u001b[0m\n",
            "\u001b[32mSaved DistanceMatrix to: diversity/weighted_unifrac_distance_matrix.qza\u001b[0m\n",
            "\u001b[32mSaved DistanceMatrix to: diversity/jaccard_distance_matrix.qza\u001b[0m\n",
            "\u001b[32mSaved DistanceMatrix to: diversity/bray_curtis_distance_matrix.qza\u001b[0m\n",
            "\u001b[32mSaved PCoAResults to: diversity/unweighted_unifrac_pcoa_results.qza\u001b[0m\n",
            "\u001b[32mSaved PCoAResults to: diversity/weighted_unifrac_pcoa_results.qza\u001b[0m\n",
            "\u001b[32mSaved PCoAResults to: diversity/jaccard_pcoa_results.qza\u001b[0m\n",
            "\u001b[32mSaved PCoAResults to: diversity/bray_curtis_pcoa_results.qza\u001b[0m\n",
            "\u001b[32mSaved Visualization to: diversity/unweighted_unifrac_emperor.qzv\u001b[0m\n",
            "\u001b[32mSaved Visualization to: diversity/weighted_unifrac_emperor.qzv\u001b[0m\n",
            "\u001b[32mSaved Visualization to: diversity/jaccard_emperor.qzv\u001b[0m\n",
            "\u001b[32mSaved Visualization to: diversity/bray_curtis_emperor.qzv\u001b[0m\n",
            "\u001b[0m"
          ]
        }
      ],
      "source": [
        "!qiime diversity core-metrics-phylogenetic \\\n",
        "    --i-table dada2/table.qza \\\n",
        "    --i-phylogeny tree/rooted_tree.qza \\\n",
        "    --p-sampling-depth 8000 \\\n",
        "    --m-metadata-file data/metadata.tsv \\\n",
        "    --output-dir diversity"
      ]
    },
    {
      "cell_type": "code",
      "execution_count": 13,
      "metadata": {
        "id": "GnkeX6iY--g-",
        "colab": {
          "base_uri": "https://localhost:8080/"
        },
        "outputId": "8c368dcf-1627-46e2-ac5c-f0a8a697a953"
      },
      "outputs": [
        {
          "output_type": "stream",
          "name": "stdout",
          "text": [
            "\u001b[32mSaved Visualization to: diversity/alpha_groups.qzv\u001b[0m\n",
            "\u001b[0m"
          ]
        }
      ],
      "source": [
        "!qiime diversity alpha-group-significance \\\n",
        "    --i-alpha-diversity diversity/shannon_vector.qza \\\n",
        "    --m-metadata-file data/metadata.tsv \\\n",
        "    --o-visualization diversity/alpha_groups.qzv"
      ]
    },
    {
      "cell_type": "markdown",
      "metadata": {
        "id": "ngH5fUeDQMO0"
      },
      "source": [
        "Now, let's use beta diversity to see how different the samples are from one another. First download `diversity/weighted_unifrac_emperor.qzv` and take a look. Do samples separate based on the population?\n",
        "\n",
        "We can check whether that separation is 'significant' by using a PERMANOVA test."
      ]
    },
    {
      "cell_type": "code",
      "execution_count": 14,
      "metadata": {
        "colab": {
          "base_uri": "https://localhost:8080/"
        },
        "id": "KzNW92riQguX",
        "outputId": "05155420-005e-4876-b3f5-1fe65174368d"
      },
      "outputs": [
        {
          "output_type": "stream",
          "name": "stdout",
          "text": [
            "\u001b[32mSaved Visualization to: diversity/permanova.qzv\u001b[0m\n",
            "\u001b[0m"
          ]
        }
      ],
      "source": [
        "!qiime diversity adonis \\\n",
        "    --i-distance-matrix diversity/weighted_unifrac_distance_matrix.qza \\\n",
        "    --m-metadata-file data/metadata.tsv \\\n",
        "    --p-formula \"ethnic_group\" \\\n",
        "    --p-n-jobs 2 \\\n",
        "    --o-visualization diversity/permanova.qzv"
      ]
    },
    {
      "cell_type": "markdown",
      "source": [
        "---\n",
        "\n",
        "Let's get back to the presentation. 📚\n",
        "\n",
        "---\n",
        "\n",
        "<br>"
      ],
      "metadata": {
        "id": "5OgGG9yabL4d"
      }
    },
    {
      "cell_type": "markdown",
      "metadata": {
        "id": "FB7WYPZ1DEoR"
      },
      "source": [
        "# Taxonomy\n",
        "\n",
        "We will use a Bayes classifier trained on the NCBI Refseq database version 212. However, there are many more databases which can be downloaded from https://docs.qiime2.org/2022.8/data-resources/. For instance, the SILVA database is very popular and probably the largest 16S database available right now."
      ]
    },
    {
      "cell_type": "code",
      "execution_count": 15,
      "metadata": {
        "id": "EEBbgvnhDGTs",
        "colab": {
          "base_uri": "https://localhost:8080/"
        },
        "outputId": "0ef25779-6da8-431b-a367-cb064802f4e9"
      },
      "outputs": [
        {
          "output_type": "stream",
          "name": "stdout",
          "text": [
            "\u001b[32mSaved FeatureData[Taxonomy] to: taxa.qza\u001b[0m\n",
            "\u001b[0m"
          ]
        }
      ],
      "source": [
        "!qiime feature-classifier classify-sklearn \\\n",
        "    --i-reads dada2/representative_sequences.qza \\\n",
        "    --i-classifier ncbi-refseq-genus-515f-806r.qza \\\n",
        "    --p-n-jobs 2 \\\n",
        "    --o-classification taxa.qza"
      ]
    },
    {
      "cell_type": "markdown",
      "metadata": {
        "id": "xISxzBo6Mpka"
      },
      "source": [
        "Now let's have a look at the relative abundances of the different bacterial taxa we have in each sample:"
      ]
    },
    {
      "cell_type": "code",
      "execution_count": 16,
      "metadata": {
        "id": "4VTL2yEBMqfO",
        "colab": {
          "base_uri": "https://localhost:8080/"
        },
        "outputId": "6ab91a5b-9f7c-44cf-d74f-87c41e7578ef"
      },
      "outputs": [
        {
          "output_type": "stream",
          "name": "stdout",
          "text": [
            "\u001b[32mSaved Visualization to: taxa_barplot.qzv\u001b[0m\n",
            "\u001b[0m"
          ]
        }
      ],
      "source": [
        "!qiime taxa barplot \\\n",
        "    --i-table dada2/table.qza \\\n",
        "    --i-taxonomy taxa.qza \\\n",
        "    --m-metadata-file data/metadata.tsv \\\n",
        "    --o-visualization taxa_barplot.qzv"
      ]
    },
    {
      "cell_type": "markdown",
      "metadata": {
        "id": "4_FVM8VfX_yQ"
      },
      "source": [
        "We can also collapse data on a particular taxonomic rank using the QIIME 2 [taxa plugin](https://docs.qiime2.org/2021.4/plugins/available/taxa/). Why might we want to look at different taxonomic ranks, rather than just looking at ASVs?"
      ]
    },
    {
      "cell_type": "code",
      "execution_count": 17,
      "metadata": {
        "colab": {
          "base_uri": "https://localhost:8080/"
        },
        "id": "gl72G8KaYmBm",
        "outputId": "df78fa07-f3e5-483b-cd3f-1ffaa5ae7036"
      },
      "outputs": [
        {
          "output_type": "stream",
          "name": "stdout",
          "text": [
            "\u001b[32mSaved FeatureTable[Frequency] to: genus.qza\u001b[0m\n",
            "\u001b[0m"
          ]
        }
      ],
      "source": [
        "!qiime taxa collapse \\\n",
        "    --i-table treasure_chest/dada2/table.qza \\\n",
        "    --i-taxonomy treasure_chest/taxa.qza \\\n",
        "    --p-level 6 \\\n",
        "    --o-collapsed-table genus.qza"
      ]
    },
    {
      "cell_type": "markdown",
      "metadata": {
        "id": "dlVdzgfbZcjt"
      },
      "source": [
        "We can export the table and convert it to a .csv file so that we can analyze these data using tools outside of the QIIME 2 environment."
      ]
    },
    {
      "cell_type": "code",
      "execution_count": 18,
      "metadata": {
        "id": "ZsxKf3yAZiHk",
        "colab": {
          "base_uri": "https://localhost:8080/"
        },
        "outputId": "209e876c-1191-4b45-9d79-a224ee6b1817"
      },
      "outputs": [
        {
          "output_type": "stream",
          "name": "stdout",
          "text": [
            "\u001b[32mExported genus.qza as BIOMV210DirFmt to directory exported\u001b[0m\n",
            "\u001b[0m"
          ]
        }
      ],
      "source": [
        "!qiime tools export \\\n",
        "    --input-path genus.qza \\\n",
        "    --output-path exported\n",
        "!biom convert -i exported/feature-table.biom -o genus.tsv --to-tsv"
      ]
    },
    {
      "cell_type": "markdown",
      "metadata": {
        "id": "TezGLSEGZrcn"
      },
      "source": [
        "Now the data are in a common format and we can use them, for instance, to draw a heatmap using Pandas and Seaborn. No need to understand every bit of code here. This just serves to illustrate that you can get data out of QIIME 2 for custom visualizations."
      ]
    },
    {
      "cell_type": "code",
      "execution_count": 23,
      "metadata": {
        "id": "p5zUjU8JZqL4",
        "colab": {
          "base_uri": "https://localhost:8080/",
          "height": 460
        },
        "outputId": "d020e0e5-4906-46ec-f0fc-0ce94f0035e7"
      },
      "outputs": [
        {
          "output_type": "execute_result",
          "data": {
            "text/plain": [
              "<seaborn.matrix.ClusterGrid at 0x7f209afac410>"
            ]
          },
          "metadata": {},
          "execution_count": 23
        },
        {
          "output_type": "display_data",
          "data": {
            "text/plain": [
              "<Figure size 1296x432 with 4 Axes>"
            ],
            "image/png": "[encoded data removed]"
          },
          "metadata": {
            "needs_background": "light"
          }
        }
      ],
      "source": [
        "import numpy as np\n",
        "import pandas as pd\n",
        "import seaborn as sns\n",
        "\n",
        "abundances = pd.read_table(\"genus.tsv\", skiprows=1, index_col=0)\n",
        "abundances.index = abundances.index.str.split(\";\").str[5]       # Use only the genus name\n",
        "abundances = abundances[~abundances.index.isin([\"g__\", \"__\"])]  # remove unclassified genera\n",
        "abundances = abundances.sample(50)                              # use 50 random genera\n",
        "\n",
        "# Let's do a centered log-ratio transform: log x_i - log mean(x)\n",
        "transformed = abundances.apply(\n",
        "    lambda xs: np.log(xs + 0.5) - np.log(xs.mean() + 0.5),\n",
        "    axis=1)\n",
        "\n",
        "sns.clustermap(transformed.T, cmap=\"magma\", xticklabels=True, figsize=(18, 6))"
      ]
    },
    {
      "cell_type": "markdown",
      "metadata": {
        "id": "QbRoCh1BR0GZ"
      },
      "source": [
        "# Exercises\n",
        "\n",
        "Okay, that's enough time in the back seat. \n",
        "\n",
        "It's time to take the wheel 🚗 \n",
        "\n",
        "Now you can dive into the data 🏊"
      ]
    },
    {
      "cell_type": "markdown",
      "metadata": {
        "id": "hy5HN4ZoS2-9"
      },
      "source": [
        "## Exercise - Plant a Tree\n",
        "\n",
        "One visualization that we did not spend a lot of time on was the phylogentic tree of our ASVs. Let's change that! We have seen that there are genera that appear in multiple populations in the previous step. But are the organisms in that genus actually the same?\n",
        "\n",
        "Let's annotate the tree with our taxonomic classifications and abundances. We will use the empress plugin again but this time with the `community-plot` option. I filled in a template of the command for you. Can you figure out what has to go in the empty spaces?\n",
        "\n",
        "**QUESTIONS:**\n",
        "\n",
        "1) Are some of the branch lengths on the tree longer than you would expect? Do you notice anything interesting or suspicious about the taxonomic identities of these branches?\n",
        "\n",
        "2) Can you find examples of phyla that are polyphyletic (i.e. where clusters of ASVs from the same phylum are found in different locations on the tree, showing different commmon ancestors)? What about polyphyletic taxa at lower taxonomic levels, like at the family or genus levels? Why do you think these patterns exist?\n",
        "\n",
        "3) Use the \"Shear Tree\" functionality to only visualize the phylogenetic tree of the genus *Prevotella*. What do you observe? Can you figure out which of the unique V4 sequences are found only in one population? What impact might this have on studies trying to link *Prevotella* to human health?"
      ]
    },
    {
      "cell_type": "code",
      "execution_count": 24,
      "metadata": {
        "id": "tq9TWRMjkER5",
        "colab": {
          "base_uri": "https://localhost:8080/"
        },
        "outputId": "25ac0ce5-484d-48c2-baba-e80723614c46"
      },
      "outputs": [
        {
          "output_type": "stream",
          "name": "stdout",
          "text": [
            "\u001b[31m\u001b[1mThere was an issue with loading the file d[EMPTY] as metadata:\n",
            "\n",
            "  Metadata file path doesn't exist, or the path points to something other than a file. Please check that the path exists, has read permissions, and points to a regular file (not a directory): d[EMPTY]\n",
            "\n",
            "  There may be more errors present in the metadata file. To get a full report, sample/feature metadata files can be validated with Keemei: https://keemei.qiime2.org\n",
            "\n",
            "  Find details on QIIME 2 metadata requirements here: https://docs.qiime2.org/2022.8/tutorials/metadata/\u001b[0m\n",
            "\n",
            "\u001b[0m"
          ]
        }
      ],
      "source": [
        "# This won't run until you fill in the [EMPTY] spots with the right files ;)\n",
        "\n",
        "!qiime empress community-plot \\\n",
        "    --i-tree [EMPTY] \\\n",
        "    --i-feature-table dada2/table.qza \\\n",
        "    --m-sample-metadata-file d[EMPTY] \\\n",
        "    --m-feature-metadata-file taxa.qza \\\n",
        "    --o-visualization community-tree-viz.qzv"
      ]
    },
    {
      "cell_type": "markdown",
      "metadata": {
        "id": "tFuoGkWtptmR"
      },
      "source": [
        "<br><br><br>\n",
        "\n",
        "---\n",
        "\n",
        "# 🦠 Space for your own exploration\n",
        "\n",
        "Feel free to use this space to run some additional analyses. If you rerun all the previous cells in the notebook (`Runtime > Run All`) you should be all set to start working on the previously generated artifacts. Remember that you can get help in the Slack channel and also in the [Qiime 2 documentation](https://docs.qiime2.org)."
      ]
    },
    {
      "cell_type": "code",
      "execution_count": 21,
      "metadata": {
        "id": "pq919yDYqYoe"
      },
      "outputs": [],
      "source": [
        "# You can add more code cells with the \"+ Code\" button on the top right\n"
      ]
    },
    {
      "cell_type": "markdown",
      "metadata": {
        "id": "Gg_xPY7EWtbt"
      },
      "source": [
        "---\n",
        "\n",
        "**DELETE BEFORE COURSE**\n",
        "\n",
        "This creates the artifacts for the treasure chest."
      ]
    },
    {
      "cell_type": "code",
      "execution_count": 22,
      "metadata": {
        "id": "Rvik9tE5WqjU",
        "colab": {
          "base_uri": "https://localhost:8080/"
        },
        "outputId": "ca16463f-16bc-4eef-b6e9-fe893bce99b6"
      },
      "outputs": [
        {
          "output_type": "stream",
          "name": "stdout",
          "text": [
            "treasure_chest/dada2/\n",
            "treasure_chest/dada2/denoising_stats.qza\n",
            "treasure_chest/dada2/table.qza\n",
            "treasure_chest/dada2/denoising-stats.qzv\n",
            "treasure_chest/dada2/representative_sequences.qza\n",
            "treasure_chest/diversity/\n",
            "treasure_chest/diversity/weighted_unifrac_emperor.qzv\n",
            "treasure_chest/diversity/unweighted_unifrac_pcoa_results.qza\n",
            "treasure_chest/diversity/shannon_vector.qza\n",
            "treasure_chest/diversity/unweighted_unifrac_emperor.qzv\n",
            "treasure_chest/diversity/evenness_vector.qza\n",
            "treasure_chest/diversity/rarefied_table.qza\n",
            "treasure_chest/diversity/jaccard_distance_matrix.qza\n",
            "treasure_chest/diversity/observed_features_vector.qza\n",
            "treasure_chest/diversity/jaccard_emperor.qzv\n",
            "treasure_chest/diversity/faith_pd_vector.qza\n",
            "treasure_chest/diversity/unweighted_unifrac_distance_matrix.qza\n",
            "treasure_chest/diversity/jaccard_pcoa_results.qza\n",
            "treasure_chest/diversity/weighted_unifrac_pcoa_results.qza\n",
            "treasure_chest/diversity/weighted_unifrac_distance_matrix.qza\n",
            "treasure_chest/diversity/alpha_groups.qzv\n",
            "treasure_chest/diversity/permanova.qzv\n",
            "treasure_chest/diversity/bray_curtis_pcoa_results.qza\n",
            "treasure_chest/diversity/bray_curtis_emperor.qzv\n",
            "treasure_chest/diversity/bray_curtis_distance_matrix.qza\n",
            "treasure_chest/exported/\n",
            "treasure_chest/exported/feature-table.biom\n",
            "treasure_chest/genus.qza\n",
            "treasure_chest/genus.tsv\n",
            "treasure_chest/qualities.qzv\n",
            "treasure_chest/taxa_barplot.qzv\n",
            "treasure_chest/taxa.qza\n",
            "treasure_chest/tree/\n",
            "treasure_chest/tree/masked_alignment.qza\n",
            "treasure_chest/tree/rooted_tree.qza\n",
            "treasure_chest/tree/empress.qzv\n",
            "treasure_chest/tree/tree.qza\n",
            "treasure_chest/tree/alignment.qza\n"
          ]
        }
      ],
      "source": [
        "!rm -rf treasure_chest && mkdir treasure_chest\n",
        "!cp -r dada2 diversity exported tree genus.qza taxa.qza genus.tsv *.qzv treasure_chest\n",
        "!tar -czvf cache.tar.gz treasure_chest/* "
      ]
    }
  ],
  "metadata": {
    "colab": {
      "collapsed_sections": [],
      "provenance": [],
      "include_colab_link": true
    },
    "kernelspec": {
      "display_name": "Python 3",
      "name": "python3"
    }
  },
  "nbformat": 4,
  "nbformat_minor": 0
}